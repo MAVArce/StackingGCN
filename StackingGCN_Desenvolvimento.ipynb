{
  "nbformat": 4,
  "nbformat_minor": 0,
  "metadata": {
    "colab": {
      "provenance": []
    },
    "kernelspec": {
      "name": "python3",
      "display_name": "Python 3"
    }
  },
  "cells": [
    {
      "cell_type": "markdown",
      "metadata": {
        "id": "BjEmed1WC9Zk"
      },
      "source": [
        "# Estudos TCC"
      ]
    },
    {
      "cell_type": "markdown",
      "metadata": {
        "id": "GOvLrv-5seoK"
      },
      "source": [
        "# Instalando e Importando Bibliotecas\n"
      ]
    },
    {
      "cell_type": "code",
      "source": [
        "!pip install scikit-network\n",
        "from sklearn.base import BaseEstimator, ClassifierMixin, RegressorMixin\n",
        "from sklearn.datasets import fetch_openml, load_iris, load_digits, load_wine, load_breast_cancer\n",
        "from sklearn.ensemble import RandomForestClassifier, StackingClassifier\n",
        "from sklearn.linear_model import LogisticRegression\n",
        "from sklearn.metrics import classification_report, confusion_matrix, ConfusionMatrixDisplay\n",
        "from sklearn.model_selection import cross_val_score, KFold, train_test_split\n",
        "from sklearn.neighbors import KNeighborsClassifier, kneighbors_graph\n",
        "from sklearn.svm import SVC\n",
        "\n",
        "from sknetwork.gnn import GNNClassifier\n",
        "\n",
        "import matplotlib.pyplot as plt\n",
        "import numpy as np\n",
        "import warnings\n",
        "\n",
        "warnings.filterwarnings('ignore')"
      ],
      "metadata": {
        "id": "Bq-EDxwKes2B",
        "colab": {
          "base_uri": "https://localhost:8080/"
        },
        "outputId": "a10d328b-be0c-49b1-e526-60b38a993a2a"
      },
      "execution_count": 1,
      "outputs": [
        {
          "output_type": "stream",
          "name": "stdout",
          "text": [
            "Collecting scikit-network\n",
            "  Downloading scikit_network-0.31.0-cp310-cp310-manylinux_2_17_x86_64.manylinux2014_x86_64.whl (4.7 MB)\n",
            "\u001b[2K     \u001b[90m━━━━━━━━━━━━━━━━━━━━━━━━━━━━━━━━━━━━━━━━\u001b[0m \u001b[32m4.7/4.7 MB\u001b[0m \u001b[31m23.5 MB/s\u001b[0m eta \u001b[36m0:00:00\u001b[0m\n",
            "\u001b[?25hRequirement already satisfied: numpy>=1.22.4 in /usr/local/lib/python3.10/dist-packages (from scikit-network) (1.23.5)\n",
            "Requirement already satisfied: scipy>=1.7.3 in /usr/local/lib/python3.10/dist-packages (from scikit-network) (1.11.3)\n",
            "Installing collected packages: scikit-network\n",
            "Successfully installed scikit-network-0.31.0\n"
          ]
        }
      ]
    },
    {
      "cell_type": "markdown",
      "source": [
        "# GCN Classifier"
      ],
      "metadata": {
        "id": "eEistBdGpW6k"
      }
    },
    {
      "cell_type": "code",
      "source": [
        "class GCNClassifier(BaseEstimator, ClassifierMixin):\n",
        "    def __init__(self, dims, n_epochs=100, n_neighbors=3, train_data=[], test_data=[], features_like_dataset=False, features_by_results=True, concat_proba_graph=False, mode='connectivity', random_state=42, verbose=True):\n",
        "        self.train_data = train_data\n",
        "        self.test_data = test_data\n",
        "\n",
        "        self.features_like_dataset = features_like_dataset\n",
        "        self.features_by_results = features_by_results\n",
        "        self.concat_proba_graph = concat_proba_graph\n",
        "        self.n_neighbors = n_neighbors\n",
        "        self.mode = mode\n",
        "\n",
        "        self.random_state = random_state\n",
        "        self.n_epochs = n_epochs\n",
        "        self.verbose = verbose\n",
        "        self.dims = dims\n",
        "\n",
        "    def fit(self, X, y=None):\n",
        "        self.x_train = X\n",
        "        self.y_train = y\n",
        "\n",
        "    def predict(self, X, y=None):\n",
        "        y_all = np.concatenate((self.y_train, np.full(X.shape[0], -1)), axis=0)\n",
        "\n",
        "        data_features = np.concatenate((self.train_data, self.test_data), axis=0)\n",
        "        model_features = np.concatenate((self.x_train, X), axis=0)\n",
        "\n",
        "        graph_connectors = data_features\n",
        "\n",
        "        if self.concat_proba_graph:\n",
        "            graph_connectors = np.concatenate((data_features, model_features), axis=1)\n",
        "\n",
        "        knGraph = kneighbors_graph(graph_connectors, self.n_neighbors, mode=self.mode)\n",
        "        nodes_features = None\n",
        "\n",
        "        if self.features_like_dataset:\n",
        "            nodes_features = data_features\n",
        "        elif self.features_by_results:\n",
        "            nodes_features = model_features\n",
        "        else:\n",
        "            nodes_features = np.concatenate((data_features, model_features), axis=1)\n",
        "\n",
        "        gnn = GNNClassifier(dims=self.dims,\n",
        "                            layer_types='Conv',\n",
        "                            activations='ReLu',\n",
        "                            verbose=self.verbose)\n",
        "\n",
        "        gnn_predict = gnn.fit_predict(knGraph, nodes_features, y_all, n_epochs=self.n_epochs, random_state=self.random_state)\n",
        "\n",
        "        return gnn_predict[self.x_train.shape[0] : ].astype(int)"
      ],
      "metadata": {
        "id": "ppoTOIBXpZYz"
      },
      "execution_count": 2,
      "outputs": []
    },
    {
      "cell_type": "markdown",
      "source": [
        "# Dataset Run"
      ],
      "metadata": {
        "id": "KD--ZQn00KQ6"
      }
    },
    {
      "cell_type": "code",
      "source": [
        "def count_elements(array):\n",
        "    unique_values, counts = np.unique(array, return_counts=True)\n",
        "\n",
        "    # Print the results\n",
        "    for value, count in zip(unique_values, counts):\n",
        "        print(f\"{value} --> {count}\")\n",
        "\n",
        "    return unique_values"
      ],
      "metadata": {
        "id": "08DO9wu5i8Ux"
      },
      "execution_count": 3,
      "outputs": []
    },
    {
      "cell_type": "code",
      "source": [
        "class DatasetRun():\n",
        "    data = []\n",
        "    target = []\n",
        "    n_labels = 2\n",
        "\n",
        "    def __init__(self, data, target):\n",
        "        self.data = data\n",
        "        self.target = target\n",
        "\n",
        "        unique_values = count_elements(target)\n",
        "        self.n_labels = unique_values.shape[0]\n",
        "\n",
        "    def split(self, test_size, to_be_stratified=False):\n",
        "        stratify = None\n",
        "        if to_be_stratified:\n",
        "            stratify = self.target\n",
        "\n",
        "        self.x_train, self.x_test, self.y_train, self.y_test = train_test_split(self.data, self.target, test_size=test_size, random_state=42, stratify=stratify, shuffle=True)\n",
        "        count_elements(array=self.y_train)\n",
        "\n",
        "\n",
        "    def run_base_estimators(self, n_folds=5, print_all_results=False):\n",
        "        self.__train_estimators_parameters(n_folds, print_all_results)\n",
        "\n",
        "        estimatorsArray = self.__doEstimatorsArray()\n",
        "\n",
        "        for estimator in estimatorsArray:\n",
        "            ml_method = estimator[1]\n",
        "            ml_method.fit(self.x_train, self.y_train)\n",
        "            accuracy = ml_method.score(self.x_test, self.y_test)\n",
        "            print('Acurácia do método %s = %.4f\\n' % (estimator[0], accuracy))\n",
        "\n",
        "\n",
        "    def run_sc_lr(self):\n",
        "        sc_lr = StackingClassifier(estimators=self.__doEstimatorsArray(), final_estimator=LogisticRegression())\n",
        "        sc_lr.fit(self.x_train, self.y_train)\n",
        "\n",
        "        accuracy = sc_lr.score(self.x_test, self.y_test)\n",
        "        print('Acurácia do StackingClassifier padrão (com Logistic Regression): %.4f' % accuracy)\n",
        "\n",
        "\n",
        "    def run_sc_gcn(self, n_epochs, dims=[], verbose=True, n_ct=5):\n",
        "        dims.append(self.n_labels)\n",
        "\n",
        "        gcnCustom0 = GCNClassifier(dims=dims,n_epochs=n_epochs,random_state=42,n_neighbors=n_ct,features_like_dataset=True, train_data=self.x_train,test_data=self.x_test,verbose=verbose)\n",
        "\n",
        "        sc_gcn0 = StackingClassifier(estimators=self.__doEstimatorsArray(), final_estimator=gcnCustom0)\n",
        "        sc_gcn0.fit(self.x_train, self.y_train)\n",
        "\n",
        "        print('Acurácia do StackingGCN (Features = dataset): %.4f' % sc_gcn0.score(self.x_test, self.y_test))\n",
        "\n",
        "        ######### STACKING CLASSIFIER WITH GCN (FEATURES = STACKING RESULTS)\n",
        "        gcnCustom = GCNClassifier(dims=dims,n_epochs=n_epochs,random_state=42,n_neighbors=n_ct,train_data=self.x_train,test_data=self.x_test,verbose=verbose)\n",
        "\n",
        "        sc_gcn = StackingClassifier(estimators=self.__doEstimatorsArray(), final_estimator=gcnCustom)\n",
        "        sc_gcn.fit(self.x_train, self.y_train)\n",
        "\n",
        "        print('Acurácia do StackingGCN (Features = stacking results): %.4f' % sc_gcn.score(self.x_test, self.y_test))\n",
        "\n",
        "        ######### STACKING CLASSIFIER WITH GCN (FEATURES = DATASET + STACKING RESULTS)\n",
        "        gcnCustom2 = GCNClassifier(dims=dims,n_epochs=n_epochs,random_state=42,n_neighbors=n_ct,features_by_results=False,train_data=self.x_train,test_data=self.x_test,verbose=verbose)\n",
        "\n",
        "        sc_gcn2 = StackingClassifier(estimators=self.__doEstimatorsArray(), final_estimator=gcnCustom2)\n",
        "        sc_gcn2.fit(self.x_train, self.y_train)\n",
        "\n",
        "        print('Acurácia do StackingGCN (Features = dataset + stacking results): %.4f' % sc_gcn2.score(self.x_test, self.y_test))\n",
        "\n",
        "    def get_classification_report(self, n_epochs, dims=[], n_ct=5, features_like_dataset=False, features_by_results=True):\n",
        "        sc_lr = StackingClassifier(estimators=self.__doEstimatorsArray(), final_estimator=LogisticRegression())\n",
        "        sc_lr.fit(self.x_train, self.y_train)\n",
        "        lr_pred = sc_lr.predict(self.x_test)\n",
        "\n",
        "        print(classification_report(self.y_test, lr_pred, digits=4))\n",
        "\n",
        "        plt.figure()\n",
        "        ConfusionMatrixDisplay(confusion_matrix=confusion_matrix(self.y_test, lr_pred)).plot()\n",
        "        plt.grid(False)\n",
        "        plt.show()\n",
        "\n",
        "        dims.append(self.n_labels)\n",
        "        gcnClassifier = GCNClassifier(dims=dims, n_epochs=n_epochs, random_state=42,n_neighbors=n_ct,features_like_dataset=features_like_dataset, features_by_results=features_by_results, train_data=self.x_train,test_data=self.x_test,verbose=False)\n",
        "        sc_gcn = StackingClassifier(estimators=self.__doEstimatorsArray(), final_estimator=gcnClassifier)\n",
        "        sc_gcn.fit(self.x_train, self.y_train)\n",
        "        gcn_pred = sc_gcn.predict(self.x_test)\n",
        "\n",
        "        print(classification_report(self.y_test, gcn_pred, digits=4))\n",
        "\n",
        "        plt.figure()\n",
        "        ConfusionMatrixDisplay(confusion_matrix=confusion_matrix(self.y_test, gcn_pred)).plot()\n",
        "        plt.grid(False)\n",
        "        plt.show()\n",
        "\n",
        "\n",
        "    def __runSVC(self, kf, svc):\n",
        "        scores = cross_val_score(svc, self.x_train, self.y_train, cv=kf)\n",
        "        return scores.mean(), scores.std()\n",
        "\n",
        "    def __train_estimators_parameters(self, n_folds, print_results):\n",
        "        ## Cross val score para obtenção dos melhores parâmetros para os estimadores base\n",
        "        kf = KFold(n_splits=n_folds)\n",
        "\n",
        "        kArray = [1,3,5,7]\n",
        "        bestMean = 0\n",
        "        bestStd = float('inf')\n",
        "        for k in kArray:\n",
        "            scores = cross_val_score(KNeighborsClassifier(n_neighbors=k), self.x_train, self.y_train, cv=kf)\n",
        "            mean = scores.mean()\n",
        "            std = scores.std()\n",
        "\n",
        "            if (mean > bestMean) or (mean == bestMean and std < bestStd):\n",
        "                self.k = k\n",
        "                bestMean = mean\n",
        "                bestStd = std\n",
        "\n",
        "        if print_results:\n",
        "            print('Acurácia com K-NN %d: %0.4f +/- %0.4f' % (self.k, bestMean, bestStd))\n",
        "\n",
        "        nArray = [10,25,50,100]\n",
        "        bestMean = 0\n",
        "        bestStd = float('inf')\n",
        "        for n in nArray:\n",
        "            scores = cross_val_score(RandomForestClassifier(n_estimators=n, random_state=42), self.x_train, self.y_train, cv=kf)\n",
        "            mean = scores.mean()\n",
        "            std = scores.std()\n",
        "\n",
        "            if (mean > bestMean) or (mean == bestMean and std < bestStd):\n",
        "                self.n = n\n",
        "                bestMean = mean\n",
        "                bestStd = std\n",
        "\n",
        "        if print_results:\n",
        "            print('Acurácia com Random Forest %d-estimators: %0.4f +/- %0.4f' % (self.n, bestMean, bestStd))\n",
        "\n",
        "        kernelArray = ['linear', 'poly', 'rbf', 'sigmoid']\n",
        "        gammaArray = ['scale', 'auto']\n",
        "        degreeArray = [3,4,5]\n",
        "\n",
        "        self.gamma = 'scale'\n",
        "        self.degree = 3\n",
        "        bestMean = 0\n",
        "        bestStd = float('inf')\n",
        "\n",
        "        for kernel in kernelArray:\n",
        "            if kernel == 'linear':\n",
        "                mean, std = self.__runSVC(kf, SVC(kernel='linear'))\n",
        "\n",
        "                if (mean > bestMean) or (mean == bestMean and std < bestStd):\n",
        "                    self.kernel = 'linear'\n",
        "                    bestMean = mean\n",
        "                    bestStd = std\n",
        "\n",
        "            else:\n",
        "                for gamma in gammaArray:\n",
        "                    if kernel == 'poly':\n",
        "                        for degree in degreeArray:\n",
        "                            mean, std = self.__runSVC(kf, SVC(kernel=kernel, gamma=gamma, degree=degree))\n",
        "\n",
        "                            if (mean > bestMean) or (mean == bestMean and std < bestStd):\n",
        "                                self.kernel = 'poly'\n",
        "                                self.gamma = gamma\n",
        "                                self.degree = degree\n",
        "                                bestMean = mean\n",
        "                                bestStd = std\n",
        "                    else:\n",
        "                        mean, std = self.__runSVC(kf, SVC(kernel=kernel, gamma=gamma))\n",
        "\n",
        "                        if (mean > bestMean) or (mean == bestMean and std < bestStd):\n",
        "                            self.kernel = kernel\n",
        "                            self.gamma = gamma\n",
        "                            bestMean = mean\n",
        "                            bestStd = std\n",
        "\n",
        "        if print_results:\n",
        "            print('Acurácia com SVC com kernel %s, gamma %s e degree %d: %0.4f +/- %0.4f' % (self.kernel, self.gamma, self.degree, bestMean, bestStd))\n",
        "\n",
        "    def __doEstimatorsArray(self, random_state=42):\n",
        "        return [('knn', KNeighborsClassifier(n_neighbors=self.k)),\n",
        "                ('rf', RandomForestClassifier(n_estimators=self.n, random_state=random_state)),\n",
        "                ('svc', SVC(kernel=self.kernel, gamma=self.gamma, degree=self.degree))]"
      ],
      "metadata": {
        "id": "YJc5ltMz24iu"
      },
      "execution_count": 4,
      "outputs": []
    },
    {
      "cell_type": "markdown",
      "source": [
        "# TESTES"
      ],
      "metadata": {
        "id": "HWFc2RbTc2iU"
      }
    },
    {
      "cell_type": "markdown",
      "source": [
        "## IRIS"
      ],
      "metadata": {
        "id": "1_8Fmvw80ySL"
      }
    },
    {
      "cell_type": "code",
      "source": [
        "iris_dataset = load_iris()\n",
        "dt_iris = DatasetRun(iris_dataset.data, iris_dataset.target)"
      ],
      "metadata": {
        "colab": {
          "base_uri": "https://localhost:8080/"
        },
        "id": "E9yGNht87ZLy",
        "outputId": "edd90081-fd4c-49c8-8b52-bcd828cd99e3"
      },
      "execution_count": 5,
      "outputs": [
        {
          "output_type": "stream",
          "name": "stdout",
          "text": [
            "0 --> 50\n",
            "1 --> 50\n",
            "2 --> 50\n"
          ]
        }
      ]
    },
    {
      "cell_type": "code",
      "source": [
        "dt_iris.split(test_size=0.9, to_be_stratified=True)"
      ],
      "metadata": {
        "colab": {
          "base_uri": "https://localhost:8080/"
        },
        "id": "R9FZx28d7os5",
        "outputId": "d13976ed-ead2-4a92-aa70-33ec221fb87b"
      },
      "execution_count": 6,
      "outputs": [
        {
          "output_type": "stream",
          "name": "stdout",
          "text": [
            "0 --> 5\n",
            "1 --> 5\n",
            "2 --> 5\n"
          ]
        }
      ]
    },
    {
      "cell_type": "code",
      "source": [
        "dt_iris.run_base_estimators()"
      ],
      "metadata": {
        "colab": {
          "base_uri": "https://localhost:8080/"
        },
        "id": "C3h2eq7Slrtv",
        "outputId": "bf511690-77c0-485e-f757-ac1b878c5d4b"
      },
      "execution_count": 7,
      "outputs": [
        {
          "output_type": "stream",
          "name": "stdout",
          "text": [
            "Acurácia do método knn = 0.9556\n",
            "\n",
            "Acurácia do método rf = 0.9333\n",
            "\n",
            "Acurácia do método svc = 0.9704\n",
            "\n"
          ]
        }
      ]
    },
    {
      "cell_type": "code",
      "source": [
        "dt_iris.run_sc_lr()"
      ],
      "metadata": {
        "colab": {
          "base_uri": "https://localhost:8080/"
        },
        "id": "4wpmRCEplrQG",
        "outputId": "6965c4b7-5e89-4ddf-aa62-b6ad35c8a887"
      },
      "execution_count": 8,
      "outputs": [
        {
          "output_type": "stream",
          "name": "stdout",
          "text": [
            "Acurácia do StackingClassifier padrão (com Logistic Regression): 0.9556\n"
          ]
        }
      ]
    },
    {
      "cell_type": "code",
      "source": [
        "dt_iris.run_sc_gcn(n_epochs=100, verbose=False, dims=[9])"
      ],
      "metadata": {
        "colab": {
          "base_uri": "https://localhost:8080/"
        },
        "id": "iAJzDtNR8CeB",
        "outputId": "198924f0-01d9-4f03-e968-c5e8fa40e062"
      },
      "execution_count": 9,
      "outputs": [
        {
          "output_type": "stream",
          "name": "stdout",
          "text": [
            "Acurácia do StackingGCN (Features = dataset): 0.9778\n",
            "Acurácia do StackingGCN (Features = stacking results): 0.9704\n",
            "Acurácia do StackingGCN (Features = dataset + stacking results): 0.9630\n"
          ]
        }
      ]
    },
    {
      "cell_type": "markdown",
      "source": [
        "## Digits"
      ],
      "metadata": {
        "id": "vWQtxPm989tw"
      }
    },
    {
      "cell_type": "code",
      "source": [
        "digits_dataset = load_digits()\n",
        "dt_digits = DatasetRun(digits_dataset.data, digits_dataset.target)"
      ],
      "metadata": {
        "colab": {
          "base_uri": "https://localhost:8080/"
        },
        "id": "pwjx71tZ89U1",
        "outputId": "af111e99-346e-41a9-ebba-16b4650c7b90"
      },
      "execution_count": 10,
      "outputs": [
        {
          "output_type": "stream",
          "name": "stdout",
          "text": [
            "0 --> 178\n",
            "1 --> 182\n",
            "2 --> 177\n",
            "3 --> 183\n",
            "4 --> 181\n",
            "5 --> 182\n",
            "6 --> 181\n",
            "7 --> 179\n",
            "8 --> 174\n",
            "9 --> 180\n"
          ]
        }
      ]
    },
    {
      "cell_type": "code",
      "source": [
        "dt_digits.split(test_size=0.97, to_be_stratified=True)"
      ],
      "metadata": {
        "colab": {
          "base_uri": "https://localhost:8080/"
        },
        "id": "c6x-ZrmF9YvT",
        "outputId": "6372c8b3-7416-4f9a-f4ef-3f4b2bb5f1eb"
      },
      "execution_count": 11,
      "outputs": [
        {
          "output_type": "stream",
          "name": "stdout",
          "text": [
            "0 --> 5\n",
            "1 --> 6\n",
            "2 --> 5\n",
            "3 --> 6\n",
            "4 --> 5\n",
            "5 --> 6\n",
            "6 --> 5\n",
            "7 --> 5\n",
            "8 --> 5\n",
            "9 --> 5\n"
          ]
        }
      ]
    },
    {
      "cell_type": "code",
      "source": [
        "dt_digits.run_base_estimators()"
      ],
      "metadata": {
        "colab": {
          "base_uri": "https://localhost:8080/"
        },
        "id": "V7loTqMTnXec",
        "outputId": "0273fbdf-81b0-47cd-be61-f6480ae3f096"
      },
      "execution_count": 12,
      "outputs": [
        {
          "output_type": "stream",
          "name": "stdout",
          "text": [
            "Acurácia do método knn = 0.8836\n",
            "\n",
            "Acurácia do método rf = 0.7827\n",
            "\n",
            "Acurácia do método svc = 0.8630\n",
            "\n"
          ]
        }
      ]
    },
    {
      "cell_type": "code",
      "source": [
        "dt_digits.run_sc_lr()"
      ],
      "metadata": {
        "colab": {
          "base_uri": "https://localhost:8080/"
        },
        "id": "nxyzUA3enIW9",
        "outputId": "1fdc6578-587f-4073-d37e-8919fbcbda89"
      },
      "execution_count": 13,
      "outputs": [
        {
          "output_type": "stream",
          "name": "stdout",
          "text": [
            "Acurácia do StackingClassifier padrão (com Logistic Regression): 0.7466\n"
          ]
        }
      ]
    },
    {
      "cell_type": "code",
      "source": [
        "dt_digits.run_sc_gcn(n_epochs=200, verbose=False, dims=[30])"
      ],
      "metadata": {
        "colab": {
          "base_uri": "https://localhost:8080/"
        },
        "id": "8L6T-C6o9xjT",
        "outputId": "d42a1c76-1d13-4816-855d-e2c0cf6c0c5b"
      },
      "execution_count": 14,
      "outputs": [
        {
          "output_type": "stream",
          "name": "stdout",
          "text": [
            "Acurácia do StackingGCN (Features = dataset): 0.8251\n",
            "Acurácia do StackingGCN (Features = stacking results): 0.8727\n",
            "Acurácia do StackingGCN (Features = dataset + stacking results): 0.8073\n"
          ]
        }
      ]
    },
    {
      "cell_type": "markdown",
      "source": [
        "## Wine"
      ],
      "metadata": {
        "id": "J3Yk0imPAT56"
      }
    },
    {
      "cell_type": "code",
      "source": [
        "wine_dataset = load_wine()\n",
        "dt_wine = DatasetRun(wine_dataset.data, wine_dataset.target)"
      ],
      "metadata": {
        "colab": {
          "base_uri": "https://localhost:8080/"
        },
        "outputId": "6331988e-fe31-4c27-d6c2-40d670edb587",
        "id": "8c-f-YUhAT6B"
      },
      "execution_count": 15,
      "outputs": [
        {
          "output_type": "stream",
          "name": "stdout",
          "text": [
            "0 --> 59\n",
            "1 --> 71\n",
            "2 --> 48\n"
          ]
        }
      ]
    },
    {
      "cell_type": "code",
      "source": [
        "dt_wine.split(test_size=0.89, to_be_stratified=True)"
      ],
      "metadata": {
        "colab": {
          "base_uri": "https://localhost:8080/"
        },
        "outputId": "6ac62779-3351-4f37-c401-639a8700bb15",
        "id": "9CXhoqcaAT6C"
      },
      "execution_count": 16,
      "outputs": [
        {
          "output_type": "stream",
          "name": "stdout",
          "text": [
            "0 --> 6\n",
            "1 --> 8\n",
            "2 --> 5\n"
          ]
        }
      ]
    },
    {
      "cell_type": "code",
      "source": [
        "dt_wine.run_base_estimators()"
      ],
      "metadata": {
        "colab": {
          "base_uri": "https://localhost:8080/"
        },
        "id": "zGsEHS7YnwcM",
        "outputId": "7448b65e-3750-4ed9-e65e-46ca33d8cab6"
      },
      "execution_count": 17,
      "outputs": [
        {
          "output_type": "stream",
          "name": "stdout",
          "text": [
            "Acurácia do método knn = 0.6918\n",
            "\n",
            "Acurácia do método rf = 0.9623\n",
            "\n",
            "Acurácia do método svc = 0.8239\n",
            "\n"
          ]
        }
      ]
    },
    {
      "cell_type": "code",
      "source": [
        "dt_wine.run_sc_lr()"
      ],
      "metadata": {
        "colab": {
          "base_uri": "https://localhost:8080/"
        },
        "id": "FgeSMnTCnwRM",
        "outputId": "1c7ce1c4-18de-4c57-9925-7562556a0fe0"
      },
      "execution_count": 18,
      "outputs": [
        {
          "output_type": "stream",
          "name": "stdout",
          "text": [
            "Acurácia do StackingClassifier padrão (com Logistic Regression): 0.8868\n"
          ]
        }
      ]
    },
    {
      "cell_type": "code",
      "source": [
        "dt_wine.run_sc_gcn(n_epochs=200, verbose=False, dims=[9])"
      ],
      "metadata": {
        "colab": {
          "base_uri": "https://localhost:8080/"
        },
        "outputId": "9d0234da-c1ca-4233-e0a5-640a6d7b9c15",
        "id": "jrDPdZqnAT6C"
      },
      "execution_count": 19,
      "outputs": [
        {
          "output_type": "stream",
          "name": "stdout",
          "text": [
            "Acurácia do StackingGCN (Features = dataset): 0.7673\n",
            "Acurácia do StackingGCN (Features = stacking results): 0.7987\n",
            "Acurácia do StackingGCN (Features = dataset + stacking results): 0.8050\n"
          ]
        }
      ]
    },
    {
      "cell_type": "markdown",
      "source": [
        "## Breast Cancer"
      ],
      "metadata": {
        "id": "Lo0mReowEX_7"
      }
    },
    {
      "cell_type": "code",
      "source": [
        "bc_dataset = load_breast_cancer()\n",
        "dt_bc = DatasetRun(bc_dataset.data, bc_dataset.target)"
      ],
      "metadata": {
        "colab": {
          "base_uri": "https://localhost:8080/"
        },
        "outputId": "bf8be123-9745-4301-f5e4-ff5d9b30200b",
        "id": "qd5k6FJbEX_7"
      },
      "execution_count": 20,
      "outputs": [
        {
          "output_type": "stream",
          "name": "stdout",
          "text": [
            "0 --> 212\n",
            "1 --> 357\n"
          ]
        }
      ]
    },
    {
      "cell_type": "code",
      "source": [
        "dt_bc.split(test_size=0.97, to_be_stratified=True)"
      ],
      "metadata": {
        "colab": {
          "base_uri": "https://localhost:8080/"
        },
        "outputId": "bdffd8dd-58b3-4d76-d662-0b06f1092857",
        "id": "ezbECp3XEX_8"
      },
      "execution_count": 21,
      "outputs": [
        {
          "output_type": "stream",
          "name": "stdout",
          "text": [
            "0 --> 6\n",
            "1 --> 11\n"
          ]
        }
      ]
    },
    {
      "cell_type": "code",
      "source": [
        "dt_bc.run_base_estimators()"
      ],
      "metadata": {
        "colab": {
          "base_uri": "https://localhost:8080/"
        },
        "id": "qJLwEuzDoQFw",
        "outputId": "0f191ef1-d502-4217-e8d8-31cfbdbc78f5"
      },
      "execution_count": 22,
      "outputs": [
        {
          "output_type": "stream",
          "name": "stdout",
          "text": [
            "Acurácia do método knn = 0.8641\n",
            "\n",
            "Acurácia do método rf = 0.8913\n",
            "\n",
            "Acurácia do método svc = 0.8641\n",
            "\n"
          ]
        }
      ]
    },
    {
      "cell_type": "code",
      "source": [
        "dt_bc.run_sc_lr()"
      ],
      "metadata": {
        "colab": {
          "base_uri": "https://localhost:8080/"
        },
        "id": "jF6oG31ToQB-",
        "outputId": "61a58857-c628-454d-b37c-96b2fb9ff1b1"
      },
      "execution_count": 23,
      "outputs": [
        {
          "output_type": "stream",
          "name": "stdout",
          "text": [
            "Acurácia do StackingClassifier padrão (com Logistic Regression): 0.8641\n"
          ]
        }
      ]
    },
    {
      "cell_type": "code",
      "source": [
        "dt_bc.run_sc_gcn(n_epochs=300, verbose=False, dims=[6])"
      ],
      "metadata": {
        "colab": {
          "base_uri": "https://localhost:8080/"
        },
        "id": "2TWMf43FMO-K",
        "outputId": "48062925-f71a-4706-8d8c-903157673024"
      },
      "execution_count": 24,
      "outputs": [
        {
          "output_type": "stream",
          "name": "stdout",
          "text": [
            "Acurácia do StackingGCN (Features = dataset): 0.9130\n",
            "Acurácia do StackingGCN (Features = stacking results): 0.8623\n",
            "Acurácia do StackingGCN (Features = dataset + stacking results): 0.8967\n"
          ]
        }
      ]
    },
    {
      "cell_type": "markdown",
      "source": [
        "\n",
        "## QSAR"
      ],
      "metadata": {
        "id": "DSDMHb_tYoyJ"
      }
    },
    {
      "cell_type": "code",
      "source": [
        "qsar = fetch_openml(name='qsar-biodeg', parser = 'auto')\n",
        "\n",
        "dt_qsar = DatasetRun(qsar.data, qsar.target)"
      ],
      "metadata": {
        "colab": {
          "base_uri": "https://localhost:8080/"
        },
        "id": "Rp_QiHrDYqRQ",
        "outputId": "1c53a3c0-afaa-4a3e-8629-aca879447ebc"
      },
      "execution_count": 25,
      "outputs": [
        {
          "output_type": "stream",
          "name": "stdout",
          "text": [
            "1 --> 699\n",
            "2 --> 356\n"
          ]
        }
      ]
    },
    {
      "cell_type": "code",
      "source": [
        "dt_qsar.split(test_size=0.98, to_be_stratified=True)"
      ],
      "metadata": {
        "colab": {
          "base_uri": "https://localhost:8080/"
        },
        "id": "ERClIGNSY3gU",
        "outputId": "ae893375-255c-459f-ffbf-83098ef10e10"
      },
      "execution_count": 26,
      "outputs": [
        {
          "output_type": "stream",
          "name": "stdout",
          "text": [
            "1 --> 14\n",
            "2 --> 7\n"
          ]
        }
      ]
    },
    {
      "cell_type": "code",
      "source": [
        "dt_qsar.run_base_estimators()"
      ],
      "metadata": {
        "colab": {
          "base_uri": "https://localhost:8080/"
        },
        "id": "J8heawMqZTW7",
        "outputId": "269d366e-e5f6-4150-af17-4bd73bbf0786"
      },
      "execution_count": 27,
      "outputs": [
        {
          "output_type": "stream",
          "name": "stdout",
          "text": [
            "Acurácia do método knn = 0.6983\n",
            "\n",
            "Acurácia do método rf = 0.7244\n",
            "\n",
            "Acurácia do método svc = 0.6625\n",
            "\n"
          ]
        }
      ]
    },
    {
      "cell_type": "code",
      "source": [
        "dt_qsar.run_sc_lr()"
      ],
      "metadata": {
        "colab": {
          "base_uri": "https://localhost:8080/"
        },
        "id": "U4yUZSYpZZuC",
        "outputId": "8387916b-c56b-477e-990d-0b3b22d65797"
      },
      "execution_count": 28,
      "outputs": [
        {
          "output_type": "stream",
          "name": "stdout",
          "text": [
            "Acurácia do StackingClassifier padrão (com Logistic Regression): 0.6625\n"
          ]
        }
      ]
    },
    {
      "cell_type": "code",
      "source": [
        "dt_qsar.run_sc_gcn(n_epochs=200, verbose=False, dims=[6])"
      ],
      "metadata": {
        "colab": {
          "base_uri": "https://localhost:8080/"
        },
        "id": "X1NFTcATZdD9",
        "outputId": "c5b047d3-8d4e-447f-ab0f-fa0665ef42a0"
      },
      "execution_count": 29,
      "outputs": [
        {
          "output_type": "stream",
          "name": "stdout",
          "text": [
            "Acurácia do StackingGCN (Features = dataset): 0.6625\n",
            "Acurácia do StackingGCN (Features = stacking results): 0.7495\n",
            "Acurácia do StackingGCN (Features = dataset + stacking results): 0.6983\n"
          ]
        }
      ]
    },
    {
      "cell_type": "markdown",
      "source": [
        "## MELHOR DATASET"
      ],
      "metadata": {
        "id": "DRIBkCIygRLg"
      }
    },
    {
      "cell_type": "code",
      "source": [
        "dt_digits.get_classification_report(200, dims=[30])"
      ],
      "metadata": {
        "colab": {
          "base_uri": "https://localhost:8080/",
          "height": 1000
        },
        "id": "pQIG1YzPgTSZ",
        "outputId": "b083bee9-d9c1-42d6-eb59-d595443b815b"
      },
      "execution_count": 30,
      "outputs": [
        {
          "output_type": "stream",
          "name": "stdout",
          "text": [
            "              precision    recall  f1-score   support\n",
            "\n",
            "           0     0.9116    0.9538    0.9322       173\n",
            "           1     0.4768    0.6420    0.5472       176\n",
            "           2     0.6326    0.7907    0.7028       172\n",
            "           3     0.8373    0.7853    0.8105       177\n",
            "           4     0.9306    0.7614    0.8375       176\n",
            "           5     0.8116    0.9545    0.8773       176\n",
            "           6     0.7990    0.9261    0.8579       176\n",
            "           7     0.9066    0.9483    0.9270       174\n",
            "           8     0.2593    0.1243    0.1680       169\n",
            "           9     0.7717    0.5600    0.6490       175\n",
            "\n",
            "    accuracy                         0.7466      1744\n",
            "   macro avg     0.7337    0.7446    0.7309      1744\n",
            "weighted avg     0.7354    0.7466    0.7328      1744\n",
            "\n"
          ]
        },
        {
          "output_type": "display_data",
          "data": {
            "text/plain": [
              "<Figure size 640x480 with 0 Axes>"
            ]
          },
          "metadata": {}
        },
        {
          "output_type": "display_data",
          "data": {
            "text/plain": [
              "<Figure size 640x480 with 2 Axes>"
            ],
            "image/png": "[encoded data removed]"
          },
          "metadata": {}
        },
        {
          "output_type": "stream",
          "name": "stdout",
          "text": [
            "              precision    recall  f1-score   support\n",
            "\n",
            "           0     0.8731    0.9942    0.9297       173\n",
            "           1     0.7240    0.7898    0.7554       176\n",
            "           2     0.8152    0.8721    0.8427       172\n",
            "           3     0.9702    0.9209    0.9449       177\n",
            "           4     1.0000    0.9205    0.9586       176\n",
            "           5     0.9158    0.9886    0.9508       176\n",
            "           6     0.9435    0.9489    0.9462       176\n",
            "           7     0.9318    0.9425    0.9371       174\n",
            "           8     0.6667    0.6391    0.6526       169\n",
            "           9     0.9044    0.7029    0.7910       175\n",
            "\n",
            "    accuracy                         0.8727      1744\n",
            "   macro avg     0.8745    0.8719    0.8709      1744\n",
            "weighted avg     0.8754    0.8727    0.8718      1744\n",
            "\n"
          ]
        },
        {
          "output_type": "display_data",
          "data": {
            "text/plain": [
              "<Figure size 640x480 with 0 Axes>"
            ]
          },
          "metadata": {}
        },
        {
          "output_type": "display_data",
          "data": {
            "text/plain": [
              "<Figure size 640x480 with 2 Axes>"
            ],
            "image/png": "[encoded data removed]"
          },
          "metadata": {}
        }
      ]
    },
    {
      "cell_type": "markdown",
      "source": [
        "## PIOR DATASET"
      ],
      "metadata": {
        "id": "CRrpADJXgT3q"
      }
    },
    {
      "cell_type": "code",
      "source": [
        "dt_wine.get_classification_report(200, dims=[9])"
      ],
      "metadata": {
        "colab": {
          "base_uri": "https://localhost:8080/",
          "height": 1000
        },
        "id": "XGhPx62vly1u",
        "outputId": "841e6d09-e104-4ef0-985b-75109e10a991"
      },
      "execution_count": 31,
      "outputs": [
        {
          "output_type": "stream",
          "name": "stdout",
          "text": [
            "              precision    recall  f1-score   support\n",
            "\n",
            "           0     0.9545    0.7925    0.8660        53\n",
            "           1     0.8571    0.9524    0.9023        63\n",
            "           2     0.8667    0.9070    0.8864        43\n",
            "\n",
            "    accuracy                         0.8868       159\n",
            "   macro avg     0.8928    0.8839    0.8849       159\n",
            "weighted avg     0.8922    0.8868    0.8859       159\n",
            "\n"
          ]
        },
        {
          "output_type": "display_data",
          "data": {
            "text/plain": [
              "<Figure size 640x480 with 0 Axes>"
            ]
          },
          "metadata": {}
        },
        {
          "output_type": "display_data",
          "data": {
            "text/plain": [
              "<Figure size 640x480 with 2 Axes>"
            ],
            "image/png": "[encoded data removed]"
          },
          "metadata": {}
        },
        {
          "output_type": "stream",
          "name": "stdout",
          "text": [
            "              precision    recall  f1-score   support\n",
            "\n",
            "           0     0.9545    0.7925    0.8660        53\n",
            "           1     0.7215    0.9048    0.8028        63\n",
            "           2     0.7778    0.6512    0.7089        43\n",
            "\n",
            "    accuracy                         0.7987       159\n",
            "   macro avg     0.8179    0.7828    0.7926       159\n",
            "weighted avg     0.8144    0.7987    0.7985       159\n",
            "\n"
          ]
        },
        {
          "output_type": "display_data",
          "data": {
            "text/plain": [
              "<Figure size 640x480 with 0 Axes>"
            ]
          },
          "metadata": {}
        },
        {
          "output_type": "display_data",
          "data": {
            "text/plain": [
              "<Figure size 640x480 with 2 Axes>"
            ],
            "image/png": "[encoded data removed]"
          },
          "metadata": {}
        }
      ]
    }
  ]
}