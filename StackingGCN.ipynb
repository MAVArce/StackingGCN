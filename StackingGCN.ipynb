{
  "nbformat": 4,
  "nbformat_minor": 0,
  "metadata": {
    "colab": {
      "provenance": [],
      "collapsed_sections": [
        "1_8Fmvw80ySL",
        "vWQtxPm989tw",
        "J3Yk0imPAT56",
        "Lo0mReowEX_7",
        "DSDMHb_tYoyJ"
      ]
    },
    "kernelspec": {
      "name": "python3",
      "display_name": "Python 3"
    }
  },
  "cells": [
    {
      "cell_type": "markdown",
      "metadata": {
        "id": "BjEmed1WC9Zk"
      },
      "source": [
        "# StackingGCN\n",
        "\n",
        "Este notebook tem como objetivo apresentar a proposta do *StackingGCN*, um classificador *stacking* utilizando como *meta-learner* uma *Graph Convolutional Network* (GCN)."
      ]
    },
    {
      "cell_type": "markdown",
      "metadata": {
        "id": "GOvLrv-5seoK"
      },
      "source": [
        "# Instalando e Importando Bibliotecas\n"
      ]
    },
    {
      "cell_type": "code",
      "source": [
        "!pip install scikit-network\n",
        "from IPython.display import SVG, display\n",
        "\n",
        "from sklearn.base import BaseEstimator, ClassifierMixin, RegressorMixin\n",
        "from sklearn.datasets import fetch_openml, load_iris, load_digits, load_wine, load_breast_cancer\n",
        "from sklearn.ensemble import RandomForestClassifier, StackingClassifier\n",
        "from sklearn.linear_model import LogisticRegression\n",
        "from sklearn.metrics import classification_report, confusion_matrix, ConfusionMatrixDisplay\n",
        "from sklearn.model_selection import cross_val_score, KFold, train_test_split\n",
        "from sklearn.neighbors import KNeighborsClassifier, kneighbors_graph\n",
        "from sklearn.preprocessing import normalize\n",
        "from sklearn.svm import SVC\n",
        "\n",
        "from sknetwork.gnn import GNNClassifier\n",
        "from sknetwork.visualization import svg_graph\n",
        "\n",
        "import matplotlib.pyplot as plt\n",
        "import numpy as np\n",
        "import warnings"
      ],
      "metadata": {
        "id": "Bq-EDxwKes2B",
        "colab": {
          "base_uri": "https://localhost:8080/"
        },
        "outputId": "36dfc262-2f3a-40d4-9c97-84a21b33e6ee"
      },
      "execution_count": 422,
      "outputs": [
        {
          "output_type": "stream",
          "name": "stdout",
          "text": [
            "Requirement already satisfied: scikit-network in /usr/local/lib/python3.10/dist-packages (0.31.0)\n",
            "Requirement already satisfied: numpy>=1.22.4 in /usr/local/lib/python3.10/dist-packages (from scikit-network) (1.23.5)\n",
            "Requirement already satisfied: scipy>=1.7.3 in /usr/local/lib/python3.10/dist-packages (from scikit-network) (1.11.3)\n"
          ]
        }
      ]
    },
    {
      "cell_type": "markdown",
      "source": [
        "# GCN Classifier"
      ],
      "metadata": {
        "id": "eEistBdGpW6k"
      }
    },
    {
      "cell_type": "code",
      "source": [
        "## Classe que faz a adaptação do GNNClassifier para o stacking\n",
        "class GCNClassifier(BaseEstimator, ClassifierMixin):\n",
        "\n",
        "    ## Inicializa o classificador\n",
        "    ## Parâmetros:\n",
        "    ## - dims: Dimensionamento das camadas ocultas do GCN\n",
        "    ## - n_epochs: Quantidade de épocas para a rede neural\n",
        "    ## - n_neighbors: Quantidade de nós vizinhos por nó na criação do grafo (Levando em conta o próprio nó)\n",
        "    ## - train_data: Dados de treino\n",
        "    ## - test_data: Dados de teste\n",
        "    ## - features_like_dataset: Faz com que as features do grafo sejam apenas as próprias features do dataset\n",
        "    ## - features_by_results: Faz com que as features do grafo sejam apenas o resultado do stacking se True, caso contrário, é feita uma concatenação das features do dataset com o resultado do stacking\n",
        "    ##                        (Válido apenas quando features_like_dataset = False)\n",
        "    ## - mode: Modo de conexão para o kneighbors_graph\n",
        "    ## - random_state: Seed para as operações\n",
        "    ## - verbose: Caso queira ou não a visualização das epochs ao longo da execução da rede neural\n",
        "    def __init__(self, dims, n_epochs=100, n_neighbors=3, train_data=[], test_data=[], features_like_dataset=False, features_by_results=True, mode='connectivity', random_state=42, verbose=True):\n",
        "        self.train_data = train_data\n",
        "        self.test_data = test_data\n",
        "\n",
        "        self.features_like_dataset = features_like_dataset\n",
        "        self.features_by_results = features_by_results\n",
        "        self.n_neighbors = n_neighbors\n",
        "        self.mode = mode\n",
        "\n",
        "        self.random_state = random_state\n",
        "        self.n_epochs = n_epochs\n",
        "        self.verbose = verbose\n",
        "        self.dims = dims\n",
        "\n",
        "    ## Mock para um falso treino do dataset, neste cenário, apenas guardando o conjunto de treinamento\n",
        "    def fit(self, X, y=None):\n",
        "        self.x_train = X\n",
        "        self.y_train = y\n",
        "\n",
        "    ## Realiza a construção do grafo e o próprio treino e teste do dataset\n",
        "    def predict(self, X, y=None):\n",
        "        y_all = np.concatenate((self.y_train, np.full(X.shape[0], -1)), axis=0)\n",
        "\n",
        "        data_features = np.concatenate((self.train_data, self.test_data), axis=0)\n",
        "        model_features = np.concatenate((self.x_train, X), axis=0)\n",
        "\n",
        "        graph_connectors = data_features\n",
        "\n",
        "        knGraph = kneighbors_graph(graph_connectors, self.n_neighbors, mode=self.mode)\n",
        "        nodes_features = None\n",
        "\n",
        "        if self.features_like_dataset:\n",
        "            nodes_features = data_features\n",
        "        elif self.features_by_results:\n",
        "            nodes_features = model_features\n",
        "        else:\n",
        "            nodes_features = np.concatenate((data_features, model_features), axis=1)\n",
        "\n",
        "        gnn = GNNClassifier(dims=self.dims,\n",
        "                            layer_types='Conv',\n",
        "                            activations='ReLu',\n",
        "                            verbose=self.verbose)\n",
        "\n",
        "        gnn_predict = gnn.fit_predict(knGraph, nodes_features, y_all, n_epochs=self.n_epochs, random_state=self.random_state)\n",
        "\n",
        "        return gnn_predict[self.x_train.shape[0] : ].astype(int)"
      ],
      "metadata": {
        "id": "ppoTOIBXpZYz"
      },
      "execution_count": 401,
      "outputs": []
    },
    {
      "cell_type": "markdown",
      "source": [
        "# Dataset Run"
      ],
      "metadata": {
        "id": "KD--ZQn00KQ6"
      }
    },
    {
      "cell_type": "code",
      "source": [
        "## Método auxiliar para visualização da contagem de elementos por classe\n",
        "def count_elements(array):\n",
        "    unique_values, counts = np.unique(array, return_counts=True)\n",
        "\n",
        "    # Imprime os resultados\n",
        "    for value, count in zip(unique_values, counts):\n",
        "        print(f\"{value} --> {count}\")\n",
        "\n",
        "    return unique_values"
      ],
      "metadata": {
        "id": "08DO9wu5i8Ux"
      },
      "execution_count": 311,
      "outputs": []
    },
    {
      "cell_type": "code",
      "source": [
        "## Classe DatasetRun, responsável pela execução do dataset\n",
        "class DatasetRun():\n",
        "    data = []\n",
        "    target = []\n",
        "    n_labels = 2\n",
        "\n",
        "    ## Inicialização da classe\n",
        "    ## Parâmetros:\n",
        "    ## - data: A matriz representando as features de cada elemento do dataset\n",
        "    ## - target: A lista representando as classes de cada elemento do dataset\n",
        "    def __init__(self, data, target):\n",
        "        self.data = normalize(data, axis=0)\n",
        "        self.target = target\n",
        "\n",
        "        unique_values = count_elements(target)\n",
        "        self.n_labels = unique_values.shape[0]\n",
        "\n",
        "\n",
        "    ## Divisão do dataset em treino e teste\n",
        "    ## Parâmetros:\n",
        "    ## - test_size: Porcentagem que indica a proporção do conjunto voltada para o teste\n",
        "    ## - to_be_stratified: Indica se o dataset deve ser separado de forma estratificada de acordo com as proporções entre as classes\n",
        "    def split(self, test_size, to_be_stratified=False):\n",
        "        stratify = None\n",
        "        if to_be_stratified:\n",
        "            stratify = self.target\n",
        "\n",
        "        self.x_train, self.x_test, self.y_train, self.y_test = train_test_split(self.data, self.target, test_size=test_size, random_state=42, stratify=stratify, shuffle=True)\n",
        "        count_elements(array=self.y_train)\n",
        "\n",
        "\n",
        "    ## Execução dos classificadores base individualmente para determinar os parâmetros e, uma vez determinados, as acurácias\n",
        "    ## Parâmetros:\n",
        "    ## - n_folds: Quantidade de divisões para o cross-validation\n",
        "    ## - print_parameters: Indica se deve ser printado os parâmetros selecionados\n",
        "    def run_base_estimators(self, n_folds=5, print_parameters=False):\n",
        "        self.__train_estimators_parameters(n_folds, print_parameters)\n",
        "\n",
        "        estimatorsArray = self.__doEstimatorsArray()\n",
        "\n",
        "        for estimator in estimatorsArray:\n",
        "            ml_method = estimator[1]\n",
        "            ml_method.fit(self.x_train, self.y_train)\n",
        "            accuracy = ml_method.score(self.x_test, self.y_test)\n",
        "            print('Acurácia do método %s = %.4f\\n' % (estimator[0], accuracy))\n",
        "\n",
        "    ## Execução do stacking padrão (com LogisticRegression)\n",
        "    def run_sc_lr(self):\n",
        "        sc_lr = StackingClassifier(estimators=self.__doEstimatorsArray(), final_estimator=LogisticRegression(max_iter=500))\n",
        "        sc_lr.fit(self.x_train, self.y_train)\n",
        "\n",
        "        accuracy = sc_lr.score(self.x_test, self.y_test)\n",
        "        print('Acurácia do StackingClassifier padrão (com Logistic Regression): %.4f' % accuracy)\n",
        "\n",
        "    ## Execução dos StackingGCNs\n",
        "    ## Parâmetros:\n",
        "    ## - n_epochs: Quantidade de épocas para a rede neural\n",
        "    ## - dims: Dimensionamento das camadas ocultas do GCN\n",
        "    ## - verbose: Caso queira ou não a visualização das epochs ao longo da execução da rede neural\n",
        "    ## - n_ct: Quantidade de nós vizinhos por nó na criação do grafo (Levando em conta o próprio nó)\n",
        "    def run_sc_gcn(self, n_epochs, dims=[], verbose=True, n_ct=5):\n",
        "        dims.append(self.n_labels)\n",
        "\n",
        "        gcnCustom0 = GCNClassifier(dims=dims,n_epochs=n_epochs,random_state=42,n_neighbors=n_ct,features_like_dataset=True, train_data=self.x_train,test_data=self.x_test,verbose=verbose)\n",
        "\n",
        "        sc_gcn0 = StackingClassifier(estimators=self.__doEstimatorsArray(), final_estimator=gcnCustom0)\n",
        "        sc_gcn0.fit(self.x_train, self.y_train)\n",
        "\n",
        "        print('Acurácia do StackingGCN (Features = dataset): %.4f' % sc_gcn0.score(self.x_test, self.y_test))\n",
        "\n",
        "        ######### STACKING CLASSIFIER WITH GCN (FEATURES = STACKING RESULTS)\n",
        "        gcnCustom = GCNClassifier(dims=dims,n_epochs=n_epochs,random_state=42,n_neighbors=n_ct,train_data=self.x_train,test_data=self.x_test,verbose=verbose)\n",
        "\n",
        "        sc_gcn = StackingClassifier(estimators=self.__doEstimatorsArray(), final_estimator=gcnCustom)\n",
        "        sc_gcn.fit(self.x_train, self.y_train)\n",
        "\n",
        "        print('Acurácia do StackingGCN (Features = stacking results): %.4f' % sc_gcn.score(self.x_test, self.y_test))\n",
        "\n",
        "        ######### STACKING CLASSIFIER WITH GCN (FEATURES = DATASET + STACKING RESULTS)\n",
        "        gcnCustom2 = GCNClassifier(dims=dims,n_epochs=n_epochs,random_state=42,n_neighbors=n_ct,features_by_results=False,train_data=self.x_train,test_data=self.x_test,verbose=verbose)\n",
        "\n",
        "        sc_gcn2 = StackingClassifier(estimators=self.__doEstimatorsArray(), final_estimator=gcnCustom2)\n",
        "        sc_gcn2.fit(self.x_train, self.y_train)\n",
        "\n",
        "        print('Acurácia do StackingGCN (Features = dataset + stacking results): %.4f' % sc_gcn2.score(self.x_test, self.y_test))\n",
        "\n",
        "\n",
        "    ## Execução do stacking padrão e do stackingGCN para obtenção das métricas e das matrizes de confusão\n",
        "    ## Parâmetros:\n",
        "    ## - n_epochs: Quantidade de épocas para a rede neural\n",
        "    ## - dims: Dimensionamento das camadas ocultas do GCN\n",
        "    ## - n_ct: Quantidade de nós vizinhos por nó na criação do grafo (Levando em conta o próprio nó)\n",
        "    ## - features_like_dataset: Faz com que as features do grafo sejam apenas as próprias features do dataset\n",
        "    ## - features_by_results: Faz com que as features do grafo sejam apenas o resultado do stacking se True, caso contrário, é feita uma concatenação das features do dataset com o resultado do stacking\n",
        "    ##                        (Válido apenas quando features_like_dataset = False)\n",
        "    def get_classification_report(self, n_epochs, dims=[], n_ct=5, features_like_dataset=False, features_by_results=True):\n",
        "        sc_lr = StackingClassifier(estimators=self.__doEstimatorsArray(), final_estimator=LogisticRegression(max_iter=500))\n",
        "        sc_lr.fit(self.x_train, self.y_train)\n",
        "        lr_pred = sc_lr.predict(self.x_test)\n",
        "\n",
        "        print(classification_report(self.y_test, lr_pred, digits=4))\n",
        "\n",
        "        plt.figure()\n",
        "        ConfusionMatrixDisplay(confusion_matrix=confusion_matrix(self.y_test, lr_pred)).plot()\n",
        "        plt.grid(False)\n",
        "        plt.show()\n",
        "\n",
        "        dims.append(self.n_labels)\n",
        "        gcnClassifier = GCNClassifier(dims=dims, n_epochs=n_epochs, random_state=42,n_neighbors=n_ct,features_like_dataset=features_like_dataset, features_by_results=features_by_results, train_data=self.x_train,test_data=self.x_test,verbose=False)\n",
        "        sc_gcn = StackingClassifier(estimators=self.__doEstimatorsArray(), final_estimator=gcnClassifier)\n",
        "        sc_gcn.fit(self.x_train, self.y_train)\n",
        "        gcn_pred = sc_gcn.predict(self.x_test)\n",
        "\n",
        "        print(classification_report(self.y_test, gcn_pred, digits=4))\n",
        "\n",
        "        plt.figure()\n",
        "        ConfusionMatrixDisplay(confusion_matrix=confusion_matrix(self.y_test, gcn_pred)).plot()\n",
        "        plt.grid(False)\n",
        "        plt.show()\n",
        "\n",
        "\n",
        "    ## Execução do stackingGCN para geração do grafo com o vetor de classes que foi resultado da classificação\n",
        "    ## Parâmetros:\n",
        "    ## - n_epochs: Quantidade de épocas para a rede neural\n",
        "    ## - dims: Dimensionamento das camadas ocultas do GCN\n",
        "    ## - n_ct: Quantidade de nós vizinhos por nó na criação do grafo (Levando em conta o próprio nó)\n",
        "    ## - mode: Modo de conexão para o kneighbors_graph\n",
        "    ## - features_like_dataset: Faz com que as features do grafo sejam apenas as próprias features do dataset\n",
        "    ## - features_by_results: Faz com que as features do grafo sejam apenas o resultado do stacking se True, caso contrário, é feita uma concatenação das features do dataset com o resultado do stacking\n",
        "    ##                        (Válido apenas quando features_like_dataset = False)\n",
        "    def visualize_graph(self, n_epochs, dims=[], n_ct=5, mode='connectivity', features_like_dataset=False, features_by_results=True):\n",
        "        full_data = np.concatenate((self.x_train, self.x_test), axis=0)\n",
        "        adj_graph = kneighbors_graph(full_data, n_ct, mode=mode)\n",
        "\n",
        "\n",
        "        sc_gcn = dims.append(self.n_labels)\n",
        "        gcnClassifier = GCNClassifier(dims=dims, n_epochs=n_epochs, random_state=42,n_neighbors=n_ct,features_like_dataset=features_like_dataset, features_by_results=features_by_results, train_data=self.x_train,test_data=self.x_test,verbose=False)\n",
        "        sc_gcn = StackingClassifier(estimators=self.__doEstimatorsArray(), final_estimator=gcnClassifier)\n",
        "        sc_gcn.fit(self.x_train, self.y_train)\n",
        "        gcn_pred = sc_gcn.predict(self.x_test)\n",
        "\n",
        "        pred_labels = np.concatenate((self.y_train, gcn_pred), axis=0)\n",
        "        predict_graph = svg_graph(adj_graph, labels=pred_labels, width=600, height=450)\n",
        "\n",
        "        display(SVG(predict_graph))\n",
        "\n",
        "\n",
        "    #####################################################################################################################################################\n",
        "    #### Métodos auxiliares\n",
        "\n",
        "    ## Auxiliar para a execução do cross-validation do classificador SVM\n",
        "    ## - svc: Classificador SVM\n",
        "    ## - kf: K-Fold\n",
        "    def __runSVC(self, svc, kf):\n",
        "        scores = cross_val_score(svc, self.x_train, self.y_train, cv=kf)\n",
        "        return scores.mean(), scores.std()\n",
        "\n",
        "\n",
        "    ## Realização do cross validation para cada classificador obtendo a melhor combinação de parâmetros\n",
        "    ## Parâmetros:\n",
        "    ## - n_folds: Quantidade de divisões para o cross-validation\n",
        "    ## - print_parameters: Indica se deve ser printado os parâmetros selecionados\n",
        "    def __train_estimators_parameters(self, n_folds, print_parameters):\n",
        "        ## Cross val score para obtenção dos melhores parâmetros para os estimadores base\n",
        "        kf = KFold(n_splits=n_folds)\n",
        "\n",
        "        kArray = [1,3,5,7]\n",
        "        bestMean = 0\n",
        "        bestStd = float('inf')\n",
        "        for k in kArray:\n",
        "            scores = cross_val_score(KNeighborsClassifier(n_neighbors=k), self.x_train, self.y_train, cv=kf)\n",
        "            mean = scores.mean()\n",
        "            std = scores.std()\n",
        "\n",
        "            if (mean > bestMean) or (mean == bestMean and std < bestStd):\n",
        "                self.k = k\n",
        "                bestMean = mean\n",
        "                bestStd = std\n",
        "\n",
        "        if print_parameters:\n",
        "            print('Acurácia com K-NN %d: %0.4f +/- %0.4f' % (self.k, bestMean, bestStd))\n",
        "\n",
        "        nArray = [10,25,50,100]\n",
        "        bestMean = 0\n",
        "        bestStd = float('inf')\n",
        "        for n in nArray:\n",
        "            scores = cross_val_score(RandomForestClassifier(n_estimators=n, random_state=42), self.x_train, self.y_train, cv=kf)\n",
        "            mean = scores.mean()\n",
        "            std = scores.std()\n",
        "\n",
        "            if (mean > bestMean) or (mean == bestMean and std < bestStd):\n",
        "                self.n = n\n",
        "                bestMean = mean\n",
        "                bestStd = std\n",
        "\n",
        "        if print_parameters:\n",
        "            print('Acurácia com Random Forest %d-estimators: %0.4f +/- %0.4f' % (self.n, bestMean, bestStd))\n",
        "\n",
        "        kernelArray = ['linear', 'poly', 'rbf', 'sigmoid']\n",
        "        gammaArray = ['scale', 'auto']\n",
        "        degreeArray = [3,4,5]\n",
        "\n",
        "        self.gamma = 'scale'\n",
        "        self.degree = 3\n",
        "        bestMean = 0\n",
        "        bestStd = float('inf')\n",
        "\n",
        "        for kernel in kernelArray:\n",
        "            if kernel == 'linear':\n",
        "                mean, std = self.__runSVC(SVC(kernel='linear'), kf)\n",
        "\n",
        "                if (mean > bestMean) or (mean == bestMean and std < bestStd):\n",
        "                    self.kernel = 'linear'\n",
        "                    bestMean = mean\n",
        "                    bestStd = std\n",
        "\n",
        "            else:\n",
        "                for gamma in gammaArray:\n",
        "                    if kernel == 'poly':\n",
        "                        for degree in degreeArray:\n",
        "                            mean, std = self.__runSVC(SVC(kernel=kernel, gamma=gamma, degree=degree), kf)\n",
        "\n",
        "                            if (mean > bestMean) or (mean == bestMean and std < bestStd):\n",
        "                                self.kernel = 'poly'\n",
        "                                self.gamma = gamma\n",
        "                                self.degree = degree\n",
        "                                bestMean = mean\n",
        "                                bestStd = std\n",
        "                    else:\n",
        "                        mean, std = self.__runSVC(SVC(kernel=kernel, gamma=gamma), kf)\n",
        "\n",
        "                        if (mean > bestMean) or (mean == bestMean and std < bestStd):\n",
        "                            self.kernel = kernel\n",
        "                            self.gamma = gamma\n",
        "                            bestMean = mean\n",
        "                            bestStd = std\n",
        "\n",
        "        if print_parameters:\n",
        "            print('Acurácia com SVC com kernel %s, gamma %s e degree %d: %0.4f +/- %0.4f' % (self.kernel, self.gamma, self.degree, bestMean, bestStd))\n",
        "\n",
        "    ## Criação do vetor com os classificadores base\n",
        "    ## Parâmetros:\n",
        "    ## - random_state: Seed para as operações\n",
        "    def __doEstimatorsArray(self, random_state=42):\n",
        "        return [('knn', KNeighborsClassifier(n_neighbors=self.k)),\n",
        "                ('rf', RandomForestClassifier(n_estimators=self.n, random_state=random_state)),\n",
        "                ('svc', SVC(kernel=self.kernel, gamma=self.gamma, degree=self.degree))]"
      ],
      "metadata": {
        "id": "YJc5ltMz24iu"
      },
      "execution_count": 454,
      "outputs": []
    },
    {
      "cell_type": "markdown",
      "source": [
        "# TESTES\n",
        "\n",
        "Em cada uma das subseções abaixo, é realizado o fluxo de classificação por meio da classe *DatasetRun* para cada dataset."
      ],
      "metadata": {
        "id": "HWFc2RbTc2iU"
      }
    },
    {
      "cell_type": "markdown",
      "source": [
        "## Dataset Iris"
      ],
      "metadata": {
        "id": "1_8Fmvw80ySL"
      }
    },
    {
      "cell_type": "markdown",
      "source": [
        "### Inicialização do dataset"
      ],
      "metadata": {
        "id": "v2CKWj6afEAB"
      }
    },
    {
      "cell_type": "code",
      "source": [
        "iris_dataset = load_iris()\n",
        "dt_iris = DatasetRun(iris_dataset.data, iris_dataset.target)"
      ],
      "metadata": {
        "colab": {
          "base_uri": "https://localhost:8080/"
        },
        "id": "E9yGNht87ZLy",
        "outputId": "acb5ee66-e35f-4375-a3b6-0373e2b8d779"
      },
      "execution_count": 411,
      "outputs": [
        {
          "output_type": "stream",
          "name": "stdout",
          "text": [
            "0 --> 50\n",
            "1 --> 50\n",
            "2 --> 50\n"
          ]
        }
      ]
    },
    {
      "cell_type": "markdown",
      "source": [
        "### Divisão em treino e teste"
      ],
      "metadata": {
        "id": "ocNxm4MQfINy"
      }
    },
    {
      "cell_type": "code",
      "source": [
        "dt_iris.split(test_size=0.9, to_be_stratified=True)"
      ],
      "metadata": {
        "colab": {
          "base_uri": "https://localhost:8080/"
        },
        "id": "R9FZx28d7os5",
        "outputId": "2a8428e9-10eb-4931-8198-47abdbc18bbc"
      },
      "execution_count": 412,
      "outputs": [
        {
          "output_type": "stream",
          "name": "stdout",
          "text": [
            "0 --> 5\n",
            "1 --> 5\n",
            "2 --> 5\n"
          ]
        }
      ]
    },
    {
      "cell_type": "markdown",
      "source": [
        "### Execução dos classificadores base"
      ],
      "metadata": {
        "id": "GZKH529HfLtv"
      }
    },
    {
      "cell_type": "code",
      "source": [
        "dt_iris.run_base_estimators()"
      ],
      "metadata": {
        "colab": {
          "base_uri": "https://localhost:8080/"
        },
        "id": "C3h2eq7Slrtv",
        "outputId": "4d56178a-10c0-4f2b-c658-d59354c422b7"
      },
      "execution_count": 413,
      "outputs": [
        {
          "output_type": "stream",
          "name": "stdout",
          "text": [
            "Acurácia do método knn = 0.9704\n",
            "\n",
            "Acurácia do método rf = 0.9556\n",
            "\n",
            "Acurácia do método svc = 0.9556\n",
            "\n"
          ]
        }
      ]
    },
    {
      "cell_type": "markdown",
      "source": [
        "### Execução do *Stacking* padrão"
      ],
      "metadata": {
        "id": "9vYdi3UyfVdY"
      }
    },
    {
      "cell_type": "code",
      "source": [
        "dt_iris.run_sc_lr()"
      ],
      "metadata": {
        "colab": {
          "base_uri": "https://localhost:8080/"
        },
        "id": "4wpmRCEplrQG",
        "outputId": "e2294bea-2cd8-46be-b541-3e823ae05108"
      },
      "execution_count": 414,
      "outputs": [
        {
          "output_type": "stream",
          "name": "stdout",
          "text": [
            "Acurácia do StackingClassifier padrão (com Logistic Regression): 0.9630\n"
          ]
        }
      ]
    },
    {
      "cell_type": "markdown",
      "source": [
        "### Execução do *StackingGCN*"
      ],
      "metadata": {
        "id": "sFtRwAClfbN3"
      }
    },
    {
      "cell_type": "code",
      "source": [
        "dt_iris.run_sc_gcn(n_epochs=100, verbose=False, dims=[9])"
      ],
      "metadata": {
        "colab": {
          "base_uri": "https://localhost:8080/"
        },
        "id": "iAJzDtNR8CeB",
        "outputId": "4a5249e7-ac6b-4ce2-e862-95b1b637608e"
      },
      "execution_count": 415,
      "outputs": [
        {
          "output_type": "stream",
          "name": "stdout",
          "text": [
            "Acurácia do StackingGCN (Features = dataset): 0.9630\n",
            "Acurácia do StackingGCN (Features = stacking results): 0.9556\n",
            "Acurácia do StackingGCN (Features = dataset + stacking results): 0.9704\n"
          ]
        }
      ]
    },
    {
      "cell_type": "markdown",
      "source": [
        "## Dataset Digits"
      ],
      "metadata": {
        "id": "vWQtxPm989tw"
      }
    },
    {
      "cell_type": "markdown",
      "source": [
        "### Inicialização do dataset"
      ],
      "metadata": {
        "id": "hBl2GSqJfoyD"
      }
    },
    {
      "cell_type": "code",
      "source": [
        "digits_dataset = load_digits()\n",
        "dt_digits = DatasetRun(digits_dataset.data, digits_dataset.target)"
      ],
      "metadata": {
        "colab": {
          "base_uri": "https://localhost:8080/"
        },
        "id": "pwjx71tZ89U1",
        "outputId": "7fa94d60-a65e-4c78-b698-a869ff8e6b8d"
      },
      "execution_count": 430,
      "outputs": [
        {
          "output_type": "stream",
          "name": "stdout",
          "text": [
            "0 --> 178\n",
            "1 --> 182\n",
            "2 --> 177\n",
            "3 --> 183\n",
            "4 --> 181\n",
            "5 --> 182\n",
            "6 --> 181\n",
            "7 --> 179\n",
            "8 --> 174\n",
            "9 --> 180\n"
          ]
        }
      ]
    },
    {
      "cell_type": "markdown",
      "source": [
        "### Divisão em treino e teste"
      ],
      "metadata": {
        "id": "mvoNw_FffoyD"
      }
    },
    {
      "cell_type": "code",
      "source": [
        "dt_digits.split(test_size=0.97, to_be_stratified=True)"
      ],
      "metadata": {
        "colab": {
          "base_uri": "https://localhost:8080/"
        },
        "id": "c6x-ZrmF9YvT",
        "outputId": "efc9226c-3371-42e0-c7ca-c2160a5975a1"
      },
      "execution_count": 431,
      "outputs": [
        {
          "output_type": "stream",
          "name": "stdout",
          "text": [
            "0 --> 5\n",
            "1 --> 6\n",
            "2 --> 5\n",
            "3 --> 6\n",
            "4 --> 5\n",
            "5 --> 6\n",
            "6 --> 5\n",
            "7 --> 5\n",
            "8 --> 5\n",
            "9 --> 5\n"
          ]
        }
      ]
    },
    {
      "cell_type": "markdown",
      "source": [
        "### Execução dos classificadores base"
      ],
      "metadata": {
        "id": "M8F45nnmfoyE"
      }
    },
    {
      "cell_type": "code",
      "source": [
        "dt_digits.run_base_estimators()"
      ],
      "metadata": {
        "colab": {
          "base_uri": "https://localhost:8080/"
        },
        "id": "V7loTqMTnXec",
        "outputId": "54d75d96-f619-45ae-b811-18564cb54a15"
      },
      "execution_count": 432,
      "outputs": [
        {
          "output_type": "stream",
          "name": "stdout",
          "text": [
            "Acurácia do método knn = 0.7718\n",
            "\n",
            "Acurácia do método rf = 0.7861\n",
            "\n",
            "Acurácia do método svc = 0.7878\n",
            "\n"
          ]
        }
      ]
    },
    {
      "cell_type": "markdown",
      "source": [
        "### Execução do *Stacking* padrão"
      ],
      "metadata": {
        "id": "hEyXAafpfoyE"
      }
    },
    {
      "cell_type": "code",
      "source": [
        "dt_digits.run_sc_lr()"
      ],
      "metadata": {
        "colab": {
          "base_uri": "https://localhost:8080/"
        },
        "id": "nxyzUA3enIW9",
        "outputId": "235f1153-d9dc-4300-bcc2-a848e4001ce7"
      },
      "execution_count": 433,
      "outputs": [
        {
          "output_type": "stream",
          "name": "stdout",
          "text": [
            "Acurácia do StackingClassifier padrão (com Logistic Regression): 0.7110\n"
          ]
        }
      ]
    },
    {
      "cell_type": "markdown",
      "source": [
        "### Execução do *StackingGCN*"
      ],
      "metadata": {
        "id": "vETqwIJqfoyE"
      }
    },
    {
      "cell_type": "code",
      "source": [
        "dt_digits.run_sc_gcn(n_epochs=200, verbose=False, dims=[30])"
      ],
      "metadata": {
        "colab": {
          "base_uri": "https://localhost:8080/"
        },
        "id": "8L6T-C6o9xjT",
        "outputId": "830728aa-2edf-4119-923f-8d06b983bd80"
      },
      "execution_count": 434,
      "outputs": [
        {
          "output_type": "stream",
          "name": "stdout",
          "text": [
            "Acurácia do StackingGCN (Features = dataset): 0.8440\n",
            "Acurácia do StackingGCN (Features = stacking results): 0.8217\n",
            "Acurácia do StackingGCN (Features = dataset + stacking results): 0.8131\n"
          ]
        }
      ]
    },
    {
      "cell_type": "markdown",
      "source": [
        "## Dataset Wine"
      ],
      "metadata": {
        "id": "J3Yk0imPAT56"
      }
    },
    {
      "cell_type": "markdown",
      "source": [
        "### Inicialização do dataset"
      ],
      "metadata": {
        "id": "39E2s7fsfy4L"
      }
    },
    {
      "cell_type": "code",
      "source": [
        "wine_dataset = load_wine()\n",
        "dt_wine = DatasetRun(wine_dataset.data, wine_dataset.target)"
      ],
      "metadata": {
        "colab": {
          "base_uri": "https://localhost:8080/"
        },
        "outputId": "2fb2fe7b-3a68-4902-f8d8-b9dda9b936d8",
        "id": "8c-f-YUhAT6B"
      },
      "execution_count": 455,
      "outputs": [
        {
          "output_type": "stream",
          "name": "stdout",
          "text": [
            "0 --> 59\n",
            "1 --> 71\n",
            "2 --> 48\n"
          ]
        }
      ]
    },
    {
      "cell_type": "markdown",
      "source": [
        "### Divisão em treino e teste"
      ],
      "metadata": {
        "id": "6AaIJ1A-fy4b"
      }
    },
    {
      "cell_type": "code",
      "source": [
        "dt_wine.split(test_size=0.89, to_be_stratified=True)"
      ],
      "metadata": {
        "colab": {
          "base_uri": "https://localhost:8080/"
        },
        "outputId": "90264063-e3bb-406f-9546-c2dc64de0bc2",
        "id": "9CXhoqcaAT6C"
      },
      "execution_count": 456,
      "outputs": [
        {
          "output_type": "stream",
          "name": "stdout",
          "text": [
            "0 --> 6\n",
            "1 --> 8\n",
            "2 --> 5\n"
          ]
        }
      ]
    },
    {
      "cell_type": "markdown",
      "source": [
        "### Execução dos classificadores base"
      ],
      "metadata": {
        "id": "ur4xoFNrfy4b"
      }
    },
    {
      "cell_type": "code",
      "source": [
        "dt_wine.run_base_estimators()"
      ],
      "metadata": {
        "colab": {
          "base_uri": "https://localhost:8080/"
        },
        "id": "zGsEHS7YnwcM",
        "outputId": "6cdc1b6e-f1a1-49f6-e5b9-9afe33dbd560"
      },
      "execution_count": 457,
      "outputs": [
        {
          "output_type": "stream",
          "name": "stdout",
          "text": [
            "Acurácia do método knn = 0.9497\n",
            "\n",
            "Acurácia do método rf = 0.9748\n",
            "\n",
            "Acurácia do método svc = 0.9560\n",
            "\n"
          ]
        }
      ]
    },
    {
      "cell_type": "markdown",
      "source": [
        "### Execução do *Stacking* padrão"
      ],
      "metadata": {
        "id": "-4ZycMvYfy4b"
      }
    },
    {
      "cell_type": "code",
      "source": [
        "dt_wine.run_sc_lr()"
      ],
      "metadata": {
        "colab": {
          "base_uri": "https://localhost:8080/"
        },
        "id": "FgeSMnTCnwRM",
        "outputId": "d33f33c1-bf31-477d-e459-94ac51b83487"
      },
      "execution_count": 458,
      "outputs": [
        {
          "output_type": "stream",
          "name": "stdout",
          "text": [
            "Acurácia do StackingClassifier padrão (com Logistic Regression): 0.9623\n"
          ]
        }
      ]
    },
    {
      "cell_type": "markdown",
      "source": [
        "### Execução do *StackingGCN*"
      ],
      "metadata": {
        "id": "xrKvBYKDfy4b"
      }
    },
    {
      "cell_type": "code",
      "source": [
        "dt_wine.run_sc_gcn(n_epochs=200, verbose=False, dims=[9])"
      ],
      "metadata": {
        "colab": {
          "base_uri": "https://localhost:8080/"
        },
        "outputId": "21894e2b-6ab1-472f-d4b1-a10f50a7de23",
        "id": "jrDPdZqnAT6C"
      },
      "execution_count": 459,
      "outputs": [
        {
          "output_type": "stream",
          "name": "stdout",
          "text": [
            "Acurácia do StackingGCN (Features = dataset): 0.8365\n",
            "Acurácia do StackingGCN (Features = stacking results): 0.9686\n",
            "Acurácia do StackingGCN (Features = dataset + stacking results): 0.9623\n"
          ]
        }
      ]
    },
    {
      "cell_type": "markdown",
      "source": [
        "## Dataset Breast Cancer"
      ],
      "metadata": {
        "id": "Lo0mReowEX_7"
      }
    },
    {
      "cell_type": "markdown",
      "source": [
        "### Inicialização do dataset"
      ],
      "metadata": {
        "id": "qPtZUZuEf3oU"
      }
    },
    {
      "cell_type": "code",
      "source": [
        "bc_dataset = load_breast_cancer()\n",
        "dt_bc = DatasetRun(bc_dataset.data, bc_dataset.target)"
      ],
      "metadata": {
        "colab": {
          "base_uri": "https://localhost:8080/"
        },
        "outputId": "e030750e-7fb8-449a-cd07-92b3428036ba",
        "id": "qd5k6FJbEX_7"
      },
      "execution_count": 357,
      "outputs": [
        {
          "output_type": "stream",
          "name": "stdout",
          "text": [
            "0 --> 212\n",
            "1 --> 357\n"
          ]
        }
      ]
    },
    {
      "cell_type": "markdown",
      "source": [
        "### Divisão em treino e teste"
      ],
      "metadata": {
        "id": "5RWt8v39f3ob"
      }
    },
    {
      "cell_type": "code",
      "source": [
        "dt_bc.split(test_size=0.97, to_be_stratified=True)"
      ],
      "metadata": {
        "colab": {
          "base_uri": "https://localhost:8080/"
        },
        "outputId": "492bd183-c76e-4ce0-f3e1-67ef6b4b86c6",
        "id": "ezbECp3XEX_8"
      },
      "execution_count": 358,
      "outputs": [
        {
          "output_type": "stream",
          "name": "stdout",
          "text": [
            "0 --> 6\n",
            "1 --> 11\n"
          ]
        }
      ]
    },
    {
      "cell_type": "markdown",
      "source": [
        "### Execução dos classificadores base"
      ],
      "metadata": {
        "id": "GDqkJsRUf3ob"
      }
    },
    {
      "cell_type": "code",
      "source": [
        "dt_bc.run_base_estimators()"
      ],
      "metadata": {
        "colab": {
          "base_uri": "https://localhost:8080/"
        },
        "id": "qJLwEuzDoQFw",
        "outputId": "511290a8-f1d9-4fbd-e247-7c75cb68d094"
      },
      "execution_count": 359,
      "outputs": [
        {
          "output_type": "stream",
          "name": "stdout",
          "text": [
            "Acurácia do método knn = 0.9022\n",
            "\n",
            "Acurácia do método rf = 0.8913\n",
            "\n",
            "Acurácia do método svc = 0.9058\n",
            "\n"
          ]
        }
      ]
    },
    {
      "cell_type": "markdown",
      "source": [
        "### Execução do *Stacking* padrão"
      ],
      "metadata": {
        "id": "kuTS-cDcf3ob"
      }
    },
    {
      "cell_type": "code",
      "source": [
        "dt_bc.run_sc_lr()"
      ],
      "metadata": {
        "colab": {
          "base_uri": "https://localhost:8080/"
        },
        "id": "jF6oG31ToQB-",
        "outputId": "c392736d-7ce3-4136-9e6d-d335dcd491c2"
      },
      "execution_count": 360,
      "outputs": [
        {
          "output_type": "stream",
          "name": "stdout",
          "text": [
            "Acurácia do StackingClassifier padrão (com Logistic Regression): 0.8551\n"
          ]
        }
      ]
    },
    {
      "cell_type": "markdown",
      "source": [
        "### Execução do *StackingGCN*"
      ],
      "metadata": {
        "id": "BegZXBIVf3ob"
      }
    },
    {
      "cell_type": "code",
      "source": [
        "dt_bc.run_sc_gcn(n_epochs=300, verbose=False, dims=[6])"
      ],
      "metadata": {
        "colab": {
          "base_uri": "https://localhost:8080/"
        },
        "id": "2TWMf43FMO-K",
        "outputId": "762e7058-acd3-4be6-9408-3829000d6701"
      },
      "execution_count": 361,
      "outputs": [
        {
          "output_type": "stream",
          "name": "stdout",
          "text": [
            "Acurácia do StackingGCN (Features = dataset): 0.8895\n",
            "Acurácia do StackingGCN (Features = stacking results): 0.9203\n",
            "Acurácia do StackingGCN (Features = dataset + stacking results): 0.9149\n"
          ]
        }
      ]
    },
    {
      "cell_type": "markdown",
      "source": [
        "## Dataset QSAR"
      ],
      "metadata": {
        "id": "DSDMHb_tYoyJ"
      }
    },
    {
      "cell_type": "markdown",
      "source": [
        "### Inicialização do dataset"
      ],
      "metadata": {
        "id": "jiz2xF_if8Ds"
      }
    },
    {
      "cell_type": "code",
      "source": [
        "qsar = fetch_openml(name='qsar-biodeg', parser = 'auto')\n",
        "\n",
        "dt_qsar = DatasetRun(qsar.data, qsar.target)"
      ],
      "metadata": {
        "colab": {
          "base_uri": "https://localhost:8080/"
        },
        "id": "Rp_QiHrDYqRQ",
        "outputId": "49d36ec3-35af-497d-e174-3d64c70ada72"
      },
      "execution_count": 438,
      "outputs": [
        {
          "output_type": "stream",
          "name": "stdout",
          "text": [
            "1 --> 699\n",
            "2 --> 356\n"
          ]
        }
      ]
    },
    {
      "cell_type": "markdown",
      "source": [
        "### Divisão em treino e teste"
      ],
      "metadata": {
        "id": "-3Y7YSY9f8Dz"
      }
    },
    {
      "cell_type": "code",
      "source": [
        "dt_qsar.split(test_size=0.98, to_be_stratified=True)"
      ],
      "metadata": {
        "colab": {
          "base_uri": "https://localhost:8080/"
        },
        "id": "ERClIGNSY3gU",
        "outputId": "7203209b-c011-4217-ac7d-6e0ca7c593a7"
      },
      "execution_count": 439,
      "outputs": [
        {
          "output_type": "stream",
          "name": "stdout",
          "text": [
            "1 --> 14\n",
            "2 --> 7\n"
          ]
        }
      ]
    },
    {
      "cell_type": "markdown",
      "source": [
        "### Execução dos classificadores base"
      ],
      "metadata": {
        "id": "pIRhA3IBf8Dz"
      }
    },
    {
      "cell_type": "code",
      "source": [
        "dt_qsar.run_base_estimators()"
      ],
      "metadata": {
        "colab": {
          "base_uri": "https://localhost:8080/"
        },
        "id": "J8heawMqZTW7",
        "outputId": "8bfea5b0-806f-47a4-de80-0df048d11423"
      },
      "execution_count": 440,
      "outputs": [
        {
          "output_type": "stream",
          "name": "stdout",
          "text": [
            "Acurácia do método knn = 0.7253\n",
            "\n",
            "Acurácia do método rf = 0.7234\n",
            "\n",
            "Acurácia do método svc = 0.6625\n",
            "\n"
          ]
        }
      ]
    },
    {
      "cell_type": "markdown",
      "source": [
        "### Execução do *Stacking* padrão"
      ],
      "metadata": {
        "id": "RVdKoULXf8Dz"
      }
    },
    {
      "cell_type": "code",
      "source": [
        "dt_qsar.run_sc_lr()"
      ],
      "metadata": {
        "colab": {
          "base_uri": "https://localhost:8080/"
        },
        "id": "U4yUZSYpZZuC",
        "outputId": "031017ff-fd6e-42fe-e4e1-0569e1ce3fc6"
      },
      "execution_count": 441,
      "outputs": [
        {
          "output_type": "stream",
          "name": "stdout",
          "text": [
            "Acurácia do StackingClassifier padrão (com Logistic Regression): 0.6625\n"
          ]
        }
      ]
    },
    {
      "cell_type": "markdown",
      "source": [
        "### Execução do *StackingGCN*"
      ],
      "metadata": {
        "id": "syloVFrYf8Dz"
      }
    },
    {
      "cell_type": "code",
      "source": [
        "dt_qsar.run_sc_gcn(n_epochs=200, verbose=False, dims=[6])"
      ],
      "metadata": {
        "colab": {
          "base_uri": "https://localhost:8080/"
        },
        "id": "X1NFTcATZdD9",
        "outputId": "deba9ee7-050d-4b9d-ed5f-f1f9d60c92a6"
      },
      "execution_count": 442,
      "outputs": [
        {
          "output_type": "stream",
          "name": "stdout",
          "text": [
            "Acurácia do StackingGCN (Features = dataset): 0.6992\n",
            "Acurácia do StackingGCN (Features = stacking results): 0.7369\n",
            "Acurácia do StackingGCN (Features = dataset + stacking results): 0.7002\n"
          ]
        }
      ]
    },
    {
      "cell_type": "markdown",
      "source": [
        "## Análise do melhor dataset"
      ],
      "metadata": {
        "id": "DRIBkCIygRLg"
      }
    },
    {
      "cell_type": "markdown",
      "source": [
        "### Geração das métricas e das matrizes de confusão para o melhor dataset"
      ],
      "metadata": {
        "id": "nhmQEPEagBo-"
      }
    },
    {
      "cell_type": "code",
      "source": [
        "dt_digits.get_classification_report(200, dims=[30])"
      ],
      "metadata": {
        "colab": {
          "base_uri": "https://localhost:8080/",
          "height": 1000
        },
        "id": "pQIG1YzPgTSZ",
        "outputId": "9676830d-546e-4a8f-ac22-f1fbef227977"
      },
      "execution_count": 399,
      "outputs": [
        {
          "output_type": "stream",
          "name": "stdout",
          "text": [
            "              precision    recall  f1-score   support\n",
            "\n",
            "           0     0.9422    0.9422    0.9422       173\n",
            "           1     0.5070    0.8239    0.6277       176\n",
            "           2     0.6143    0.5000    0.5513       172\n",
            "           3     0.6140    0.7910    0.6914       177\n",
            "           4     0.9861    0.8068    0.8875       176\n",
            "           5     0.7658    0.6875    0.7246       176\n",
            "           6     0.8656    0.9148    0.8895       176\n",
            "           7     0.9112    0.8851    0.8980       174\n",
            "           8     0.3357    0.2840    0.3077       169\n",
            "           9     0.6838    0.4571    0.5479       175\n",
            "\n",
            "    accuracy                         0.7110      1744\n",
            "   macro avg     0.7226    0.7092    0.7068      1744\n",
            "weighted avg     0.7237    0.7110    0.7082      1744\n",
            "\n"
          ]
        },
        {
          "output_type": "display_data",
          "data": {
            "text/plain": [
              "<Figure size 640x480 with 0 Axes>"
            ]
          },
          "metadata": {}
        },
        {
          "output_type": "display_data",
          "data": {
            "text/plain": [
              "<Figure size 640x480 with 2 Axes>"
            ],
            "image/png": "[encoded data removed]"
          },
          "metadata": {}
        },
        {
          "output_type": "stream",
          "name": "stdout",
          "text": [
            "              precision    recall  f1-score   support\n",
            "\n",
            "           0     1.0000    0.9827    0.9913       173\n",
            "           1     0.7120    0.7727    0.7411       176\n",
            "           2     0.7582    0.8023    0.7797       172\n",
            "           3     0.7259    0.8079    0.7647       177\n",
            "           4     0.9938    0.9034    0.9464       176\n",
            "           5     0.9167    0.8750    0.8953       176\n",
            "           6     0.9831    0.9886    0.9858       176\n",
            "           7     0.9600    0.8276    0.8889       174\n",
            "           8     0.4555    0.5148    0.4833       169\n",
            "           9     0.8101    0.7314    0.7688       175\n",
            "\n",
            "    accuracy                         0.8217      1744\n",
            "   macro avg     0.8315    0.8206    0.8245      1744\n",
            "weighted avg     0.8327    0.8217    0.8256      1744\n",
            "\n"
          ]
        },
        {
          "output_type": "display_data",
          "data": {
            "text/plain": [
              "<Figure size 640x480 with 0 Axes>"
            ]
          },
          "metadata": {}
        },
        {
          "output_type": "display_data",
          "data": {
            "text/plain": [
              "<Figure size 640x480 with 2 Axes>"
            ],
            "image/png": "[encoded data removed]"
          },
          "metadata": {}
        }
      ]
    },
    {
      "cell_type": "markdown",
      "source": [
        "### Visualização de um grafo"
      ],
      "metadata": {
        "id": "nBYON1gjsjy8"
      }
    },
    {
      "cell_type": "code",
      "source": [
        "dt_wine.visualize_graph(200, dims=[9])"
      ],
      "metadata": {
        "colab": {
          "base_uri": "https://localhost:8080/",
          "height": 511
        },
        "id": "pYiKSAb8Vvkb",
        "outputId": "0070c767-fd0c-44e8-a158-a1cb7ad151b6"
      },
      "execution_count": 460,
      "outputs": [
        {
          "output_type": "display_data",
          "data": {
            "text/plain": [
              "<IPython.core.display.SVG object>"
            ],
            "image/svg+xml": "<svg xmlns=\"http://www.w3.org/2000/svg\" width=\"640\" height=\"490\">\n<defs><marker id=\"arrow-black\" markerWidth=\"10\" markerHeight=\"10\" refX=\"9\" refY=\"3\" orient=\"auto\">\n<path d=\"M0,0 L0,6 L9,3 z\" fill=\"black\"/></marker></defs>\n<path stroke-width=\"1.0\" stroke=\"black\" d=\"M 540 20 550 25\" marker-end=\"url(#arrow-black)\"/>\n<path stroke-width=\"1.0\" stroke=\"black\" d=\"M 218 314 215 318\" marker-end=\"url(#arrow-black)\"/>\n<path stroke-width=\"1.0\" stroke=\"black\" d=\"M 218 314 233 303\" marker-end=\"url(#arrow-black)\"/>\n<path stroke-width=\"1.0\" stroke=\"black\" d=\"M 218 314 138 277\" marker-end=\"url(#arrow-black)\"/>\n<path stroke-width=\"1.0\" stroke=\"black\" d=\"M 218 314 186 236\" marker-end=\"url(#arrow-black)\"/>\n<path stroke-width=\"1.0\" stroke=\"black\" d=\"M 584 116 586 117\" marker-end=\"url(#arrow-black)\"/>\n<path stroke-width=\"1.0\" stroke=\"black\" d=\"M 584 116 530 91\" marker-end=\"url(#arrow-black)\"/>\n<path stroke-width=\"1.0\" stroke=\"black\" d=\"M 584 116 576 132\" marker-end=\"url(#arrow-black)\"/>\n<path stroke-width=\"1.0\" stroke=\"black\" d=\"M 584 116 553 143\" marker-end=\"url(#arrow-black)\"/>\n<path stroke-width=\"1.0\" stroke=\"black\" d=\"M 584 116 590 161\" marker-end=\"url(#arrow-black)\"/>\n<path stroke-width=\"1.0\" stroke=\"black\" d=\"M 211 323 214 319\" marker-end=\"url(#arrow-black)\"/>\n<path stroke-width=\"1.0\" stroke=\"black\" d=\"M 211 323 164 316\" marker-end=\"url(#arrow-black)\"/>\n<path stroke-width=\"1.0\" stroke=\"black\" d=\"M 211 323 282 311\" marker-end=\"url(#arrow-black)\"/>\n<path stroke-width=\"1.0\" stroke=\"black\" d=\"M 211 323 145 275\" marker-end=\"url(#arrow-black)\"/>\n<path stroke-width=\"1.0\" stroke=\"black\" d=\"M 211 323 143 265\" marker-end=\"url(#arrow-black)\"/>\n<path stroke-width=\"1.0\" stroke=\"black\" d=\"M 580 97 576 92\" marker-end=\"url(#arrow-black)\"/>\n<path stroke-width=\"1.0\" stroke=\"black\" d=\"M 580 97 557 74\" marker-end=\"url(#arrow-black)\"/>\n<path stroke-width=\"1.0\" stroke=\"black\" d=\"M 580 97 551 142\" marker-end=\"url(#arrow-black)\"/>\n<path stroke-width=\"1.0\" stroke=\"black\" d=\"M 580 97 589 161\" marker-end=\"url(#arrow-black)\"/>\n<path stroke-width=\"1.0\" stroke=\"black\" d=\"M 580 97 577 57\" marker-end=\"url(#arrow-black)\"/>\n<path stroke-width=\"1.0\" stroke=\"black\" d=\"M 320 146 235 189\" marker-end=\"url(#arrow-black)\"/>\n<path stroke-width=\"1.0\" stroke=\"black\" d=\"M 320 146 377 127\" marker-end=\"url(#arrow-black)\"/>\n<path stroke-width=\"1.0\" stroke=\"black\" d=\"M 320 146 296 170\" marker-end=\"url(#arrow-black)\"/>\n<path stroke-width=\"1.0\" stroke=\"black\" d=\"M 320 146 370 139\" marker-end=\"url(#arrow-black)\"/>\n<path stroke-width=\"1.0\" stroke=\"black\" d=\"M 218 314 164 315\" marker-end=\"url(#arrow-black)\"/>\n<path stroke-width=\"1.0\" stroke=\"black\" d=\"M 437 97 489 162\" marker-end=\"url(#arrow-black)\"/>\n<path stroke-width=\"1.0\" stroke=\"black\" d=\"M 437 97 445 124\" marker-end=\"url(#arrow-black)\"/>\n<path stroke-width=\"1.0\" stroke=\"black\" d=\"M 437 97 353 52\" marker-end=\"url(#arrow-black)\"/>\n<path stroke-width=\"1.0\" stroke=\"black\" d=\"M 346 171 352 149\" marker-end=\"url(#arrow-black)\"/>\n<path stroke-width=\"1.0\" stroke=\"black\" d=\"M 346 171 247 189\" marker-end=\"url(#arrow-black)\"/>\n<path stroke-width=\"1.0\" stroke=\"black\" d=\"M 450 196 441 182\" marker-end=\"url(#arrow-black)\"/>\n<path stroke-width=\"1.0\" stroke=\"black\" d=\"M 450 196 457 201\" marker-end=\"url(#arrow-black)\"/>\n<path stroke-width=\"1.0\" stroke=\"black\" d=\"M 450 196 488 170\" marker-end=\"url(#arrow-black)\"/>\n<path stroke-width=\"1.0\" stroke=\"black\" d=\"M 450 196 468 157\" marker-end=\"url(#arrow-black)\"/>\n<path stroke-width=\"1.0\" stroke=\"black\" d=\"M 450 196 391 222\" marker-end=\"url(#arrow-black)\"/>\n<path stroke-width=\"1.0\" stroke=\"black\" d=\"M 376 139 360 142\" marker-end=\"url(#arrow-black)\"/>\n<path stroke-width=\"1.0\" stroke=\"black\" d=\"M 376 139 297 172\" marker-end=\"url(#arrow-black)\"/>\n<path stroke-width=\"1.0\" stroke=\"black\" d=\"M 376 139 353 128\" marker-end=\"url(#arrow-black)\"/>\n<path stroke-width=\"1.0\" stroke=\"black\" d=\"M 376 139 380 131\" marker-end=\"url(#arrow-black)\"/>\n<path stroke-width=\"1.0\" stroke=\"black\" d=\"M 320 146 337 118\" marker-end=\"url(#arrow-black)\"/>\n<path stroke-width=\"1.0\" stroke=\"black\" d=\"M 376 139 342 104\" marker-end=\"url(#arrow-black)\"/>\n<path stroke-width=\"1.0\" stroke=\"black\" d=\"M 409 269 388 276\" marker-end=\"url(#arrow-black)\"/>\n<path stroke-width=\"1.0\" stroke=\"black\" d=\"M 409 269 340 214\" marker-end=\"url(#arrow-black)\"/>\n<path stroke-width=\"1.0\" stroke=\"black\" d=\"M 409 269 367 242\" marker-end=\"url(#arrow-black)\"/>\n<path stroke-width=\"1.0\" stroke=\"black\" d=\"M 409 269 383 230\" marker-end=\"url(#arrow-black)\"/>\n<path stroke-width=\"1.0\" stroke=\"black\" d=\"M 203 224 363 247\" marker-end=\"url(#arrow-black)\"/>\n<path stroke-width=\"1.0\" stroke=\"black\" d=\"M 203 224 407 237\" marker-end=\"url(#arrow-black)\"/>\n<path stroke-width=\"1.0\" stroke=\"black\" d=\"M 203 224 76 185\" marker-end=\"url(#arrow-black)\"/>\n<path stroke-width=\"1.0\" stroke=\"black\" d=\"M 203 224 86 239\" marker-end=\"url(#arrow-black)\"/>\n<path stroke-width=\"1.0\" stroke=\"black\" d=\"M 203 224 138 175\" marker-end=\"url(#arrow-black)\"/>\n<path stroke-width=\"1.0\" stroke=\"black\" d=\"M 437 97 440 106\" marker-end=\"url(#arrow-black)\"/>\n<path stroke-width=\"1.0\" stroke=\"black\" d=\"M 437 97 437 171\" marker-end=\"url(#arrow-black)\"/>\n<path stroke-width=\"1.0\" stroke=\"black\" d=\"M 409 269 444 271\" marker-end=\"url(#arrow-black)\"/>\n<path stroke-width=\"1.0\" stroke=\"black\" d=\"M 385 224 432 181\" marker-end=\"url(#arrow-black)\"/>\n<path stroke-width=\"1.0\" stroke=\"black\" d=\"M 385 224 444 198\" marker-end=\"url(#arrow-black)\"/>\n<path stroke-width=\"1.0\" stroke=\"black\" d=\"M 385 224 456 206\" marker-end=\"url(#arrow-black)\"/>\n<path stroke-width=\"1.0\" stroke=\"black\" d=\"M 340 112 291 71\" marker-end=\"url(#arrow-black)\"/>\n<path stroke-width=\"1.0\" stroke=\"black\" d=\"M 340 112 323 140\" marker-end=\"url(#arrow-black)\"/>\n<path stroke-width=\"1.0\" stroke=\"black\" d=\"M 340 112 249 83\" marker-end=\"url(#arrow-black)\"/>\n<path stroke-width=\"1.0\" stroke=\"black\" d=\"M 340 112 396 146\" marker-end=\"url(#arrow-black)\"/>\n<path stroke-width=\"1.0\" stroke=\"black\" d=\"M 292 255 339 241\" marker-end=\"url(#arrow-black)\"/>\n<path stroke-width=\"1.0\" stroke=\"black\" d=\"M 292 255 294 254\" marker-end=\"url(#arrow-black)\"/>\n<path stroke-width=\"1.0\" stroke=\"black\" d=\"M 292 255 190 231\" marker-end=\"url(#arrow-black)\"/>\n<path stroke-width=\"1.0\" stroke=\"black\" d=\"M 292 255 420 214\" marker-end=\"url(#arrow-black)\"/>\n<path stroke-width=\"1.0\" stroke=\"black\" d=\"M 292 255 261 269\" marker-end=\"url(#arrow-black)\"/>\n<path stroke-width=\"1.0\" stroke=\"black\" d=\"M 267 329 344 378\" marker-end=\"url(#arrow-black)\"/>\n<path stroke-width=\"1.0\" stroke=\"black\" d=\"M 267 329 294 348\" marker-end=\"url(#arrow-black)\"/>\n<path stroke-width=\"1.0\" stroke=\"black\" d=\"M 340 112 339 105\" marker-end=\"url(#arrow-black)\"/>\n<path stroke-width=\"1.0\" stroke=\"black\" d=\"M 267 329 156 208\" marker-end=\"url(#arrow-black)\"/>\n<path stroke-width=\"1.0\" stroke=\"black\" d=\"M 267 329 242 304\" marker-end=\"url(#arrow-black)\"/>\n<path stroke-width=\"1.0\" stroke=\"black\" d=\"M 329 194 349 249\" marker-end=\"url(#arrow-black)\"/>\n<path stroke-width=\"1.0\" stroke=\"black\" d=\"M 329 194 330 199\" marker-end=\"url(#arrow-black)\"/>\n<path stroke-width=\"1.0\" stroke=\"black\" d=\"M 329 194 343 234\" marker-end=\"url(#arrow-black)\"/>\n<path stroke-width=\"1.0\" stroke=\"black\" d=\"M 329 194 376 208\" marker-end=\"url(#arrow-black)\"/>\n<path stroke-width=\"1.0\" stroke=\"black\" d=\"M 329 194 294 232\" marker-end=\"url(#arrow-black)\"/>\n<path stroke-width=\"1.0\" stroke=\"black\" d=\"M 446 130 398 108\" marker-end=\"url(#arrow-black)\"/>\n<path stroke-width=\"1.0\" stroke=\"black\" d=\"M 446 130 420 186\" marker-end=\"url(#arrow-black)\"/>\n<path stroke-width=\"1.0\" stroke=\"black\" d=\"M 446 130 389 125\" marker-end=\"url(#arrow-black)\"/>\n<path stroke-width=\"1.0\" stroke=\"black\" d=\"M 446 130 465 147\" marker-end=\"url(#arrow-black)\"/>\n<path stroke-width=\"1.0\" stroke=\"black\" d=\"M 446 130 443 118\" marker-end=\"url(#arrow-black)\"/>\n<path stroke-width=\"1.0\" stroke=\"black\" d=\"M 267 329 288 273\" marker-end=\"url(#arrow-black)\"/>\n<path stroke-width=\"1.0\" stroke=\"black\" d=\"M 346 171 412 191\" marker-end=\"url(#arrow-black)\"/>\n<path stroke-width=\"1.0\" stroke=\"black\" d=\"M 323 73 292 68\" marker-end=\"url(#arrow-black)\"/>\n<path stroke-width=\"1.0\" stroke=\"black\" d=\"M 323 73 314 38\" marker-end=\"url(#arrow-black)\"/>\n<path stroke-width=\"1.0\" stroke=\"black\" d=\"M 385 224 337 207\" marker-end=\"url(#arrow-black)\"/>\n<path stroke-width=\"1.0\" stroke=\"black\" d=\"M 385 224 420 213\" marker-end=\"url(#arrow-black)\"/>\n<path stroke-width=\"1.0\" stroke=\"black\" d=\"M 186 295 237 289\" marker-end=\"url(#arrow-black)\"/>\n<path stroke-width=\"1.0\" stroke=\"black\" d=\"M 186 295 115 284\" marker-end=\"url(#arrow-black)\"/>\n<path stroke-width=\"1.0\" stroke=\"black\" d=\"M 186 295 286 257\" marker-end=\"url(#arrow-black)\"/>\n<path stroke-width=\"1.0\" stroke=\"black\" d=\"M 186 295 249 273\" marker-end=\"url(#arrow-black)\"/>\n<path stroke-width=\"1.0\" stroke=\"black\" d=\"M 186 295 120 246\" marker-end=\"url(#arrow-black)\"/>\n<path stroke-width=\"1.0\" stroke=\"black\" d=\"M 354 143 297 171\" marker-end=\"url(#arrow-black)\"/>\n<path stroke-width=\"1.0\" stroke=\"black\" d=\"M 354 143 370 140\" marker-end=\"url(#arrow-black)\"/>\n<path stroke-width=\"1.0\" stroke=\"black\" d=\"M 354 143 348 165\" marker-end=\"url(#arrow-black)\"/>\n<path stroke-width=\"1.0\" stroke=\"black\" d=\"M 354 143 325 79\" marker-end=\"url(#arrow-black)\"/>\n<path stroke-width=\"1.0\" stroke=\"black\" d=\"M 323 73 345 120\" marker-end=\"url(#arrow-black)\"/>\n<path stroke-width=\"1.0\" stroke=\"black\" d=\"M 354 143 349 132\" marker-end=\"url(#arrow-black)\"/>\n<path stroke-width=\"1.0\" stroke=\"black\" d=\"M 57 203 79 207\" marker-end=\"url(#arrow-black)\"/>\n<path stroke-width=\"1.0\" stroke=\"black\" d=\"M 57 203 110 239\" marker-end=\"url(#arrow-black)\"/>\n<path stroke-width=\"1.0\" stroke=\"black\" d=\"M 57 203 81 180\" marker-end=\"url(#arrow-black)\"/>\n<path stroke-width=\"1.0\" stroke=\"black\" d=\"M 57 203 86 215\" marker-end=\"url(#arrow-black)\"/>\n<path stroke-width=\"1.0\" stroke=\"black\" d=\"M 193 241 237 195\" marker-end=\"url(#arrow-black)\"/>\n<path stroke-width=\"1.0\" stroke=\"black\" d=\"M 193 241 191 224\" marker-end=\"url(#arrow-black)\"/>\n<path stroke-width=\"1.0\" stroke=\"black\" d=\"M 193 241 249 230\" marker-end=\"url(#arrow-black)\"/>\n<path stroke-width=\"1.0\" stroke=\"black\" d=\"M 193 241 225 197\" marker-end=\"url(#arrow-black)\"/>\n<path stroke-width=\"1.0\" stroke=\"black\" d=\"M 193 241 180 223\" marker-end=\"url(#arrow-black)\"/>\n<path stroke-width=\"1.0\" stroke=\"black\" d=\"M 323 73 341 71\" marker-end=\"url(#arrow-black)\"/>\n<path stroke-width=\"1.0\" stroke=\"black\" d=\"M 323 73 343 54\" marker-end=\"url(#arrow-black)\"/>\n<path stroke-width=\"1.0\" stroke=\"black\" d=\"M 57 203 123 193\" marker-end=\"url(#arrow-black)\"/>\n<path stroke-width=\"1.0\" stroke=\"black\" d=\"M 347 71 329 73\" marker-end=\"url(#arrow-black)\"/>\n<path stroke-width=\"1.0\" stroke=\"black\" d=\"M 346 171 388 111\" marker-end=\"url(#arrow-black)\"/>\n<path stroke-width=\"1.0\" stroke=\"black\" d=\"M 362 239 425 227\" marker-end=\"url(#arrow-black)\"/>\n<path stroke-width=\"1.0\" stroke=\"black\" d=\"M 143 88 203 97\" marker-end=\"url(#arrow-black)\"/>\n<path stroke-width=\"1.0\" stroke=\"black\" d=\"M 143 88 85 70\" marker-end=\"url(#arrow-black)\"/>\n<path stroke-width=\"1.0\" stroke=\"black\" d=\"M 143 88 88 91\" marker-end=\"url(#arrow-black)\"/>\n<path stroke-width=\"1.0\" stroke=\"black\" d=\"M 143 88 318 125\" marker-end=\"url(#arrow-black)\"/>\n<path stroke-width=\"1.0\" stroke=\"black\" d=\"M 143 88 133 165\" marker-end=\"url(#arrow-black)\"/>\n<path stroke-width=\"1.0\" stroke=\"black\" d=\"M 291 174 348 146\" marker-end=\"url(#arrow-black)\"/>\n<path stroke-width=\"1.0\" stroke=\"black\" d=\"M 291 174 247 188\" marker-end=\"url(#arrow-black)\"/>\n<path stroke-width=\"1.0\" stroke=\"black\" d=\"M 291 174 235 191\" marker-end=\"url(#arrow-black)\"/>\n<path stroke-width=\"1.0\" stroke=\"black\" d=\"M 291 174 342 130\" marker-end=\"url(#arrow-black)\"/>\n<path stroke-width=\"1.0\" stroke=\"black\" d=\"M 291 174 182 216\" marker-end=\"url(#arrow-black)\"/>\n<path stroke-width=\"1.0\" stroke=\"black\" d=\"M 357 82 349 55\" marker-end=\"url(#arrow-black)\"/>\n<path stroke-width=\"1.0\" stroke=\"black\" d=\"M 357 82 317 37\" marker-end=\"url(#arrow-black)\"/>\n<path stroke-width=\"1.0\" stroke=\"black\" d=\"M 357 82 431 96\" marker-end=\"url(#arrow-black)\"/>\n<path stroke-width=\"1.0\" stroke=\"black\" d=\"M 357 82 332 199\" marker-end=\"url(#arrow-black)\"/>\n<path stroke-width=\"1.0\" stroke=\"black\" d=\"M 357 82 310 51\" marker-end=\"url(#arrow-black)\"/>\n<path stroke-width=\"1.0\" stroke=\"black\" d=\"M 573 86 528 149\" marker-end=\"url(#arrow-black)\"/>\n<path stroke-width=\"1.0\" stroke=\"black\" d=\"M 573 86 571 63\" marker-end=\"url(#arrow-black)\"/>\n<path stroke-width=\"1.0\" stroke=\"black\" d=\"M 573 86 529 50\" marker-end=\"url(#arrow-black)\"/>\n<path stroke-width=\"1.0\" stroke=\"black\" d=\"M 573 86 577 57\" marker-end=\"url(#arrow-black)\"/>\n<path stroke-width=\"1.0\" stroke=\"black\" d=\"M 573 86 577 91\" marker-end=\"url(#arrow-black)\"/>\n<path stroke-width=\"1.0\" stroke=\"black\" d=\"M 287 447 314 441\" marker-end=\"url(#arrow-black)\"/>\n<path stroke-width=\"1.0\" stroke=\"black\" d=\"M 287 447 291 416\" marker-end=\"url(#arrow-black)\"/>\n<path stroke-width=\"1.0\" stroke=\"black\" d=\"M 287 447 260 452\" marker-end=\"url(#arrow-black)\"/>\n<path stroke-width=\"1.0\" stroke=\"black\" d=\"M 382 209 298 252\" marker-end=\"url(#arrow-black)\"/>\n<path stroke-width=\"1.0\" stroke=\"black\" d=\"M 382 209 354 250\" marker-end=\"url(#arrow-black)\"/>\n<path stroke-width=\"1.0\" stroke=\"black\" d=\"M 382 209 412 195\" marker-end=\"url(#arrow-black)\"/>\n<path stroke-width=\"1.0\" stroke=\"black\" d=\"M 382 209 350 236\" marker-end=\"url(#arrow-black)\"/>\n<path stroke-width=\"1.0\" stroke=\"black\" d=\"M 553 258 568 251\" marker-end=\"url(#arrow-black)\"/>\n<path stroke-width=\"1.0\" stroke=\"black\" d=\"M 553 258 542 216\" marker-end=\"url(#arrow-black)\"/>\n<path stroke-width=\"1.0\" stroke=\"black\" d=\"M 553 258 437 227\" marker-end=\"url(#arrow-black)\"/>\n<path stroke-width=\"1.0\" stroke=\"black\" d=\"M 119 211 131 269\" marker-end=\"url(#arrow-black)\"/>\n<path stroke-width=\"1.0\" stroke=\"black\" d=\"M 119 211 95 166\" marker-end=\"url(#arrow-black)\"/>\n<path stroke-width=\"1.0\" stroke=\"black\" d=\"M 119 211 171 242\" marker-end=\"url(#arrow-black)\"/>\n<path stroke-width=\"1.0\" stroke=\"black\" d=\"M 119 211 74 145\" marker-end=\"url(#arrow-black)\"/>\n<path stroke-width=\"1.0\" stroke=\"black\" d=\"M 119 211 138 265\" marker-end=\"url(#arrow-black)\"/>\n<path stroke-width=\"1.0\" stroke=\"black\" d=\"M 426 212 351 238\" marker-end=\"url(#arrow-black)\"/>\n<path stroke-width=\"1.0\" stroke=\"black\" d=\"M 426 212 434 224\" marker-end=\"url(#arrow-black)\"/>\n<path stroke-width=\"1.0\" stroke=\"black\" d=\"M 426 212 435 183\" marker-end=\"url(#arrow-black)\"/>\n<path stroke-width=\"1.0\" stroke=\"black\" d=\"M 287 447 273 445\" marker-end=\"url(#arrow-black)\"/>\n<path stroke-width=\"1.0\" stroke=\"black\" d=\"M 426 212 420 198\" marker-end=\"url(#arrow-black)\"/>\n<path stroke-width=\"1.0\" stroke=\"black\" d=\"M 42 105 42 103\" marker-end=\"url(#arrow-black)\"/>\n<path stroke-width=\"1.0\" stroke=\"black\" d=\"M 42 105 25 116\" marker-end=\"url(#arrow-black)\"/>\n<path stroke-width=\"1.0\" stroke=\"black\" d=\"M 42 105 34 133\" marker-end=\"url(#arrow-black)\"/>\n<path stroke-width=\"1.0\" stroke=\"black\" d=\"M 42 105 66 135\" marker-end=\"url(#arrow-black)\"/>\n<path stroke-width=\"1.0\" stroke=\"black\" d=\"M 42 105 78 133\" marker-end=\"url(#arrow-black)\"/>\n<path stroke-width=\"1.0\" stroke=\"black\" d=\"M 481 192 467 202\" marker-end=\"url(#arrow-black)\"/>\n<path stroke-width=\"1.0\" stroke=\"black\" d=\"M 481 192 432 210\" marker-end=\"url(#arrow-black)\"/>\n<path stroke-width=\"1.0\" stroke=\"black\" d=\"M 481 192 443 225\" marker-end=\"url(#arrow-black)\"/>\n<path stroke-width=\"1.0\" stroke=\"black\" d=\"M 481 192 444 118\" marker-end=\"url(#arrow-black)\"/>\n<path stroke-width=\"1.0\" stroke=\"black\" d=\"M 481 192 345 197\" marker-end=\"url(#arrow-black)\"/>\n<path stroke-width=\"1.0\" stroke=\"black\" d=\"M 382 209 420 212\" marker-end=\"url(#arrow-black)\"/>\n<path stroke-width=\"1.0\" stroke=\"black\" d=\"M 426 212 445 199\" marker-end=\"url(#arrow-black)\"/>\n<path stroke-width=\"1.0\" stroke=\"black\" d=\"M 287 447 271 457\" marker-end=\"url(#arrow-black)\"/>\n<path stroke-width=\"1.0\" stroke=\"black\" d=\"M 184 230 121 241\" marker-end=\"url(#arrow-black)\"/>\n<path stroke-width=\"1.0\" stroke=\"black\" d=\"M 184 230 98 217\" marker-end=\"url(#arrow-black)\"/>\n<path stroke-width=\"1.0\" stroke=\"black\" d=\"M 497 75 491 52\" marker-end=\"url(#arrow-black)\"/>\n<path stroke-width=\"1.0\" stroke=\"black\" d=\"M 497 75 505 59\" marker-end=\"url(#arrow-black)\"/>\n<path stroke-width=\"1.0\" stroke=\"black\" d=\"M 497 75 518 86\" marker-end=\"url(#arrow-black)\"/>\n<path stroke-width=\"1.0\" stroke=\"black\" d=\"M 497 75 483 55\" marker-end=\"url(#arrow-black)\"/>\n<path stroke-width=\"1.0\" stroke=\"black\" d=\"M 497 75 565 58\" marker-end=\"url(#arrow-black)\"/>\n<path stroke-width=\"1.0\" stroke=\"black\" d=\"M 524 89 494 51\" marker-end=\"url(#arrow-black)\"/>\n<path stroke-width=\"1.0\" stroke=\"black\" d=\"M 524 89 569 134\" marker-end=\"url(#arrow-black)\"/>\n<path stroke-width=\"1.0\" stroke=\"black\" d=\"M 524 89 546 141\" marker-end=\"url(#arrow-black)\"/>\n<path stroke-width=\"1.0\" stroke=\"black\" d=\"M 524 89 509 59\" marker-end=\"url(#arrow-black)\"/>\n<path stroke-width=\"1.0\" stroke=\"black\" d=\"M 524 89 578 114\" marker-end=\"url(#arrow-black)\"/>\n<path stroke-width=\"1.0\" stroke=\"black\" d=\"M 128 314 152 315\" marker-end=\"url(#arrow-black)\"/>\n<path stroke-width=\"1.0\" stroke=\"black\" d=\"M 463 252 521 159\" marker-end=\"url(#arrow-black)\"/>\n<path stroke-width=\"1.0\" stroke=\"black\" d=\"M 128 314 95 269\" marker-end=\"url(#arrow-black)\"/>\n<path stroke-width=\"1.0\" stroke=\"black\" d=\"M 128 314 112 289\" marker-end=\"url(#arrow-black)\"/>\n<path stroke-width=\"1.0\" stroke=\"black\" d=\"M 128 314 132 281\" marker-end=\"url(#arrow-black)\"/>\n<path stroke-width=\"1.0\" stroke=\"black\" d=\"M 556 27 546 22\" marker-end=\"url(#arrow-black)\"/>\n<path stroke-width=\"1.0\" stroke=\"black\" d=\"M 556 27 559 56\" marker-end=\"url(#arrow-black)\"/>\n<path stroke-width=\"1.0\" stroke=\"black\" d=\"M 556 27 496 45\" marker-end=\"url(#arrow-black)\"/>\n<path stroke-width=\"1.0\" stroke=\"black\" d=\"M 556 27 485 49\" marker-end=\"url(#arrow-black)\"/>\n<path stroke-width=\"1.0\" stroke=\"black\" d=\"M 556 27 502 71\" marker-end=\"url(#arrow-black)\"/>\n<path stroke-width=\"1.0\" stroke=\"black\" d=\"M 362 239 339 215\" marker-end=\"url(#arrow-black)\"/>\n<path stroke-width=\"1.0\" stroke=\"black\" d=\"M 362 239 347 227\" marker-end=\"url(#arrow-black)\"/>\n<path stroke-width=\"1.0\" stroke=\"black\" d=\"M 362 239 397 206\" marker-end=\"url(#arrow-black)\"/>\n<path stroke-width=\"1.0\" stroke=\"black\" d=\"M 362 239 375 229\" marker-end=\"url(#arrow-black)\"/>\n<path stroke-width=\"1.0\" stroke=\"black\" d=\"M 128 314 232 300\" marker-end=\"url(#arrow-black)\"/>\n<path stroke-width=\"1.0\" stroke=\"black\" d=\"M 346 171 260 226\" marker-end=\"url(#arrow-black)\"/>\n<path stroke-width=\"1.0\" stroke=\"black\" d=\"M 463 252 415 267\" marker-end=\"url(#arrow-black)\"/>\n<path stroke-width=\"1.0\" stroke=\"black\" d=\"M 463 252 375 247\" marker-end=\"url(#arrow-black)\"/>\n<path stroke-width=\"1.0\" stroke=\"black\" d=\"M 184 230 286 254\" marker-end=\"url(#arrow-black)\"/>\n<path stroke-width=\"1.0\" stroke=\"black\" d=\"M 184 230 294 250\" marker-end=\"url(#arrow-black)\"/>\n<path stroke-width=\"1.0\" stroke=\"black\" d=\"M 184 230 116 192\" marker-end=\"url(#arrow-black)\"/>\n<path stroke-width=\"1.0\" stroke=\"black\" d=\"M 255 271 223 243\" marker-end=\"url(#arrow-black)\"/>\n<path stroke-width=\"1.0\" stroke=\"black\" d=\"M 255 271 183 247\" marker-end=\"url(#arrow-black)\"/>\n<path stroke-width=\"1.0\" stroke=\"black\" d=\"M 255 271 286 257\" marker-end=\"url(#arrow-black)\"/>\n<path stroke-width=\"1.0\" stroke=\"black\" d=\"M 255 271 195 212\" marker-end=\"url(#arrow-black)\"/>\n<path stroke-width=\"1.0\" stroke=\"black\" d=\"M 255 271 294 253\" marker-end=\"url(#arrow-black)\"/>\n<path stroke-width=\"1.0\" stroke=\"black\" d=\"M 541 210 437 226\" marker-end=\"url(#arrow-black)\"/>\n<path stroke-width=\"1.0\" stroke=\"black\" d=\"M 541 210 585 171\" marker-end=\"url(#arrow-black)\"/>\n<path stroke-width=\"1.0\" stroke=\"black\" d=\"M 541 210 548 153\" marker-end=\"url(#arrow-black)\"/>\n<path stroke-width=\"1.0\" stroke=\"black\" d=\"M 463 252 454 266\" marker-end=\"url(#arrow-black)\"/>\n<path stroke-width=\"1.0\" stroke=\"black\" d=\"M 541 210 571 144\" marker-end=\"url(#arrow-black)\"/>\n<path stroke-width=\"1.0\" stroke=\"black\" d=\"M 590 167 576 144\" marker-end=\"url(#arrow-black)\"/>\n<path stroke-width=\"1.0\" stroke=\"black\" d=\"M 590 167 546 206\" marker-end=\"url(#arrow-black)\"/>\n<path stroke-width=\"1.0\" stroke=\"black\" d=\"M 590 167 612 198\" marker-end=\"url(#arrow-black)\"/>\n<path stroke-width=\"1.0\" stroke=\"black\" d=\"M 590 167 554 150\" marker-end=\"url(#arrow-black)\"/>\n<path stroke-width=\"1.0\" stroke=\"black\" d=\"M 590 167 584 122\" marker-end=\"url(#arrow-black)\"/>\n<path stroke-width=\"1.0\" stroke=\"black\" d=\"M 553 70 548 141\" marker-end=\"url(#arrow-black)\"/>\n<path stroke-width=\"1.0\" stroke=\"black\" d=\"M 553 70 572 55\" marker-end=\"url(#arrow-black)\"/>\n<path stroke-width=\"1.0\" stroke=\"black\" d=\"M 553 70 568 82\" marker-end=\"url(#arrow-black)\"/>\n<path stroke-width=\"1.0\" stroke=\"black\" d=\"M 553 70 529 50\" marker-end=\"url(#arrow-black)\"/>\n<path stroke-width=\"1.0\" stroke=\"black\" d=\"M 553 70 576 93\" marker-end=\"url(#arrow-black)\"/>\n<path stroke-width=\"1.0\" stroke=\"black\" d=\"M 463 252 419 239\" marker-end=\"url(#arrow-black)\"/>\n<path stroke-width=\"1.0\" stroke=\"black\" d=\"M 541 210 408 202\" marker-end=\"url(#arrow-black)\"/>\n<path stroke-width=\"1.0\" stroke=\"black\" d=\"M 347 71 347 55\" marker-end=\"url(#arrow-black)\"/>\n<path stroke-width=\"1.0\" stroke=\"black\" d=\"M 347 71 387 102\" marker-end=\"url(#arrow-black)\"/>\n<path stroke-width=\"1.0\" stroke=\"black\" d=\"M 347 71 435 110\" marker-end=\"url(#arrow-black)\"/>\n<path stroke-width=\"1.0\" stroke=\"black\" d=\"M 431 226 368 238\" marker-end=\"url(#arrow-black)\"/>\n<path stroke-width=\"1.0\" stroke=\"black\" d=\"M 380 225 398 207\" marker-end=\"url(#arrow-black)\"/>\n<path stroke-width=\"1.0\" stroke=\"black\" d=\"M 380 225 425 226\" marker-end=\"url(#arrow-black)\"/>\n<path stroke-width=\"1.0\" stroke=\"black\" d=\"M 380 225 348 223\" marker-end=\"url(#arrow-black)\"/>\n<path stroke-width=\"1.0\" stroke=\"black\" d=\"M 380 225 341 212\" marker-end=\"url(#arrow-black)\"/>\n<path stroke-width=\"1.0\" stroke=\"black\" d=\"M 380 225 367 235\" marker-end=\"url(#arrow-black)\"/>\n<path stroke-width=\"1.0\" stroke=\"black\" d=\"M 559 62 485 51\" marker-end=\"url(#arrow-black)\"/>\n<path stroke-width=\"1.0\" stroke=\"black\" d=\"M 559 62 582 110\" marker-end=\"url(#arrow-black)\"/>\n<path stroke-width=\"1.0\" stroke=\"black\" d=\"M 559 62 589 114\" marker-end=\"url(#arrow-black)\"/>\n<path stroke-width=\"1.0\" stroke=\"black\" d=\"M 559 62 565 59\" marker-end=\"url(#arrow-black)\"/>\n<path stroke-width=\"1.0\" stroke=\"black\" d=\"M 559 62 529 85\" marker-end=\"url(#arrow-black)\"/>\n<path stroke-width=\"1.0\" stroke=\"black\" d=\"M 349 381 406 387\" marker-end=\"url(#arrow-black)\"/>\n<path stroke-width=\"1.0\" stroke=\"black\" d=\"M 349 381 323 434\" marker-end=\"url(#arrow-black)\"/>\n<path stroke-width=\"1.0\" stroke=\"black\" d=\"M 349 381 272 332\" marker-end=\"url(#arrow-black)\"/>\n<path stroke-width=\"1.0\" stroke=\"black\" d=\"M 349 381 305 355\" marker-end=\"url(#arrow-black)\"/>\n<path stroke-width=\"1.0\" stroke=\"black\" d=\"M 349 381 350 338\" marker-end=\"url(#arrow-black)\"/>\n<path stroke-width=\"1.0\" stroke=\"black\" d=\"M 238 300 164 314\" marker-end=\"url(#arrow-black)\"/>\n<path stroke-width=\"1.0\" stroke=\"black\" d=\"M 238 300 223 311\" marker-end=\"url(#arrow-black)\"/>\n<path stroke-width=\"1.0\" stroke=\"black\" d=\"M 238 300 285 270\" marker-end=\"url(#arrow-black)\"/>\n<path stroke-width=\"1.0\" stroke=\"black\" d=\"M 238 300 339 243\" marker-end=\"url(#arrow-black)\"/>\n<path stroke-width=\"1.0\" stroke=\"black\" d=\"M 238 300 254 235\" marker-end=\"url(#arrow-black)\"/>\n<path stroke-width=\"1.0\" stroke=\"black\" d=\"M 571 57 573 55\" marker-end=\"url(#arrow-black)\"/>\n<path stroke-width=\"1.0\" stroke=\"black\" d=\"M 571 57 530 47\" marker-end=\"url(#arrow-black)\"/>\n<path stroke-width=\"1.0\" stroke=\"black\" d=\"M 431 226 341 211\" marker-end=\"url(#arrow-black)\"/>\n<path stroke-width=\"1.0\" stroke=\"black\" d=\"M 431 226 535 210\" marker-end=\"url(#arrow-black)\"/>\n<path stroke-width=\"1.0\" stroke=\"black\" d=\"M 431 226 386 225\" marker-end=\"url(#arrow-black)\"/>\n<path stroke-width=\"1.0\" stroke=\"black\" d=\"M 431 226 407 206\" marker-end=\"url(#arrow-black)\"/>\n<path stroke-width=\"1.0\" stroke=\"black\" d=\"M 345 240 432 229\" marker-end=\"url(#arrow-black)\"/>\n<path stroke-width=\"1.0\" stroke=\"black\" d=\"M 345 240 298 254\" marker-end=\"url(#arrow-black)\"/>\n<path stroke-width=\"1.0\" stroke=\"black\" d=\"M 345 240 349 249\" marker-end=\"url(#arrow-black)\"/>\n<path stroke-width=\"1.0\" stroke=\"black\" d=\"M 345 240 333 211\" marker-end=\"url(#arrow-black)\"/>\n<path stroke-width=\"1.0\" stroke=\"black\" d=\"M 266 460 267 451\" marker-end=\"url(#arrow-black)\"/>\n<path stroke-width=\"1.0\" stroke=\"black\" d=\"M 266 460 288 416\" marker-end=\"url(#arrow-black)\"/>\n<path stroke-width=\"1.0\" stroke=\"black\" d=\"M 266 460 259 456\" marker-end=\"url(#arrow-black)\"/>\n<path stroke-width=\"1.0\" stroke=\"black\" d=\"M 266 460 282 450\" marker-end=\"url(#arrow-black)\"/>\n<path stroke-width=\"1.0\" stroke=\"black\" d=\"M 266 460 267 464\" marker-end=\"url(#arrow-black)\"/>\n<path stroke-width=\"1.0\" stroke=\"black\" d=\"M 450 271 415 269\" marker-end=\"url(#arrow-black)\"/>\n<path stroke-width=\"1.0\" stroke=\"black\" d=\"M 450 271 483 245\" marker-end=\"url(#arrow-black)\"/>\n<path stroke-width=\"1.0\" stroke=\"black\" d=\"M 571 57 573 80\" marker-end=\"url(#arrow-black)\"/>\n<path stroke-width=\"1.0\" stroke=\"black\" d=\"M 450 271 385 228\" marker-end=\"url(#arrow-black)\"/>\n<path stroke-width=\"1.0\" stroke=\"black\" d=\"M 450 271 433 232\" marker-end=\"url(#arrow-black)\"/>\n<path stroke-width=\"1.0\" stroke=\"black\" d=\"M 133 171 92 176\" marker-end=\"url(#arrow-black)\"/>\n<path stroke-width=\"1.0\" stroke=\"black\" d=\"M 133 171 90 203\" marker-end=\"url(#arrow-black)\"/>\n<path stroke-width=\"1.0\" stroke=\"black\" d=\"M 133 171 103 140\" marker-end=\"url(#arrow-black)\"/>\n<path stroke-width=\"1.0\" stroke=\"black\" d=\"M 133 171 76 143\" marker-end=\"url(#arrow-black)\"/>\n<path stroke-width=\"1.0\" stroke=\"black\" d=\"M 133 171 185 205\" marker-end=\"url(#arrow-black)\"/>\n<path stroke-width=\"1.0\" stroke=\"black\" d=\"M 462 205 455 200\" marker-end=\"url(#arrow-black)\"/>\n<path stroke-width=\"1.0\" stroke=\"black\" d=\"M 462 205 441 182\" marker-end=\"url(#arrow-black)\"/>\n<path stroke-width=\"1.0\" stroke=\"black\" d=\"M 462 205 476 195\" marker-end=\"url(#arrow-black)\"/>\n<path stroke-width=\"1.0\" stroke=\"black\" d=\"M 462 205 489 172\" marker-end=\"url(#arrow-black)\"/>\n<path stroke-width=\"1.0\" stroke=\"black\" d=\"M 462 205 432 211\" marker-end=\"url(#arrow-black)\"/>\n<path stroke-width=\"1.0\" stroke=\"black\" d=\"M 450 271 388 278\" marker-end=\"url(#arrow-black)\"/>\n<path stroke-width=\"1.0\" stroke=\"black\" d=\"M 571 57 590 114\" marker-end=\"url(#arrow-black)\"/>\n<path stroke-width=\"1.0\" stroke=\"black\" d=\"M 571 57 513 53\" marker-end=\"url(#arrow-black)\"/>\n<path stroke-width=\"1.0\" stroke=\"black\" d=\"M 290 237 290 261\" marker-end=\"url(#arrow-black)\"/>\n<path stroke-width=\"1.0\" stroke=\"black\" d=\"M 35 89 79 133\" marker-end=\"url(#arrow-black)\"/>\n<path stroke-width=\"1.0\" stroke=\"black\" d=\"M 524 46 513 51\" marker-end=\"url(#arrow-black)\"/>\n<path stroke-width=\"1.0\" stroke=\"black\" d=\"M 524 46 496 46\" marker-end=\"url(#arrow-black)\"/>\n<path stroke-width=\"1.0\" stroke=\"black\" d=\"M 524 46 524 83\" marker-end=\"url(#arrow-black)\"/>\n<path stroke-width=\"1.0\" stroke=\"black\" d=\"M 524 46 565 56\" marker-end=\"url(#arrow-black)\"/>\n<path stroke-width=\"1.0\" stroke=\"black\" d=\"M 524 46 450 52\" marker-end=\"url(#arrow-black)\"/>\n<path stroke-width=\"1.0\" stroke=\"black\" d=\"M 352 61 215 97\" marker-end=\"url(#arrow-black)\"/>\n<path stroke-width=\"1.0\" stroke=\"black\" d=\"M 352 61 326 120\" marker-end=\"url(#arrow-black)\"/>\n<path stroke-width=\"1.0\" stroke=\"black\" d=\"M 352 61 473 50\" marker-end=\"url(#arrow-black)\"/>\n<path stroke-width=\"1.0\" stroke=\"black\" d=\"M 352 61 484 46\" marker-end=\"url(#arrow-black)\"/>\n<path stroke-width=\"1.0\" stroke=\"black\" d=\"M 352 61 491 75\" marker-end=\"url(#arrow-black)\"/>\n<path stroke-width=\"1.0\" stroke=\"black\" d=\"M 35 89 39 93\" marker-end=\"url(#arrow-black)\"/>\n<path stroke-width=\"1.0\" stroke=\"black\" d=\"M 267 445 288 415\" marker-end=\"url(#arrow-black)\"/>\n<path stroke-width=\"1.0\" stroke=\"black\" d=\"M 267 445 281 447\" marker-end=\"url(#arrow-black)\"/>\n<path stroke-width=\"1.0\" stroke=\"black\" d=\"M 267 445 314 440\" marker-end=\"url(#arrow-black)\"/>\n<path stroke-width=\"1.0\" stroke=\"black\" d=\"M 267 445 268 464\" marker-end=\"url(#arrow-black)\"/>\n<path stroke-width=\"1.0\" stroke=\"black\" d=\"M 290 267 290 243\" marker-end=\"url(#arrow-black)\"/>\n<path stroke-width=\"1.0\" stroke=\"black\" d=\"M 290 267 328 210\" marker-end=\"url(#arrow-black)\"/>\n<path stroke-width=\"1.0\" stroke=\"black\" d=\"M 290 267 243 297\" marker-end=\"url(#arrow-black)\"/>\n<path stroke-width=\"1.0\" stroke=\"black\" d=\"M 290 267 379 226\" marker-end=\"url(#arrow-black)\"/>\n<path stroke-width=\"1.0\" stroke=\"black\" d=\"M 290 267 313 241\" marker-end=\"url(#arrow-black)\"/>\n<path stroke-width=\"1.0\" stroke=\"black\" d=\"M 383 125 389 112\" marker-end=\"url(#arrow-black)\"/>\n<path stroke-width=\"1.0\" stroke=\"black\" d=\"M 383 125 440 130\" marker-end=\"url(#arrow-black)\"/>\n<path stroke-width=\"1.0\" stroke=\"black\" d=\"M 383 125 344 102\" marker-end=\"url(#arrow-black)\"/>\n<path stroke-width=\"1.0\" stroke=\"black\" d=\"M 267 445 266 454\" marker-end=\"url(#arrow-black)\"/>\n<path stroke-width=\"1.0\" stroke=\"black\" d=\"M 345 240 420 214\" marker-end=\"url(#arrow-black)\"/>\n<path stroke-width=\"1.0\" stroke=\"black\" d=\"M 35 89 40 99\" marker-end=\"url(#arrow-black)\"/>\n<path stroke-width=\"1.0\" stroke=\"black\" d=\"M 35 89 42 137\" marker-end=\"url(#arrow-black)\"/>\n<path stroke-width=\"1.0\" stroke=\"black\" d=\"M 290 237 326 209\" marker-end=\"url(#arrow-black)\"/>\n<path stroke-width=\"1.0\" stroke=\"black\" d=\"M 290 237 311 236\" marker-end=\"url(#arrow-black)\"/>\n<path stroke-width=\"1.0\" stroke=\"black\" d=\"M 290 237 339 240\" marker-end=\"url(#arrow-black)\"/>\n<path stroke-width=\"1.0\" stroke=\"black\" d=\"M 290 237 379 224\" marker-end=\"url(#arrow-black)\"/>\n<path stroke-width=\"1.0\" stroke=\"black\" d=\"M 209 98 346 62\" marker-end=\"url(#arrow-black)\"/>\n<path stroke-width=\"1.0\" stroke=\"black\" d=\"M 209 98 318 125\" marker-end=\"url(#arrow-black)\"/>\n<path stroke-width=\"1.0\" stroke=\"black\" d=\"M 209 98 149 89\" marker-end=\"url(#arrow-black)\"/>\n<path stroke-width=\"1.0\" stroke=\"black\" d=\"M 209 98 49 97\" marker-end=\"url(#arrow-black)\"/>\n<path stroke-width=\"1.0\" stroke=\"black\" d=\"M 209 98 330 206\" marker-end=\"url(#arrow-black)\"/>\n<path stroke-width=\"1.0\" stroke=\"black\" d=\"M 132 275 155 310\" marker-end=\"url(#arrow-black)\"/>\n<path stroke-width=\"1.0\" stroke=\"black\" d=\"M 132 275 120 217\" marker-end=\"url(#arrow-black)\"/>\n<path stroke-width=\"1.0\" stroke=\"black\" d=\"M 35 89 33 133\" marker-end=\"url(#arrow-black)\"/>\n<path stroke-width=\"1.0\" stroke=\"black\" d=\"M 132 275 212 312\" marker-end=\"url(#arrow-black)\"/>\n<path stroke-width=\"1.0\" stroke=\"black\" d=\"M 132 275 136 267\" marker-end=\"url(#arrow-black)\"/>\n<path stroke-width=\"1.0\" stroke=\"black\" d=\"M 369 247 407 238\" marker-end=\"url(#arrow-black)\"/>\n<path stroke-width=\"1.0\" stroke=\"black\" d=\"M 369 247 403 266\" marker-end=\"url(#arrow-black)\"/>\n<path stroke-width=\"1.0\" stroke=\"black\" d=\"M 369 247 457 252\" marker-end=\"url(#arrow-black)\"/>\n<path stroke-width=\"1.0\" stroke=\"black\" d=\"M 369 247 209 224\" marker-end=\"url(#arrow-black)\"/>\n<path stroke-width=\"1.0\" stroke=\"black\" d=\"M 369 247 380 272\" marker-end=\"url(#arrow-black)\"/>\n<path stroke-width=\"1.0\" stroke=\"black\" d=\"M 116 155 98 159\" marker-end=\"url(#arrow-black)\"/>\n<path stroke-width=\"1.0\" stroke=\"black\" d=\"M 116 155 76 142\" marker-end=\"url(#arrow-black)\"/>\n<path stroke-width=\"1.0\" stroke=\"black\" d=\"M 116 155 111 183\" marker-end=\"url(#arrow-black)\"/>\n<path stroke-width=\"1.0\" stroke=\"black\" d=\"M 116 155 89 140\" marker-end=\"url(#arrow-black)\"/>\n<path stroke-width=\"1.0\" stroke=\"black\" d=\"M 116 155 180 225\" marker-end=\"url(#arrow-black)\"/>\n<path stroke-width=\"1.0\" stroke=\"black\" d=\"M 132 275 111 195\" marker-end=\"url(#arrow-black)\"/>\n<path stroke-width=\"1.0\" stroke=\"black\" d=\"M 252 213 356 238\" marker-end=\"url(#arrow-black)\"/>\n<path stroke-width=\"1.0\" stroke=\"black\" d=\"M 252 213 329 210\" marker-end=\"url(#arrow-black)\"/>\n<path stroke-width=\"1.0\" stroke=\"black\" d=\"M 252 213 139 173\" marker-end=\"url(#arrow-black)\"/>\n<path stroke-width=\"1.0\" stroke=\"black\" d=\"M 118 116 48 105\" marker-end=\"url(#arrow-black)\"/>\n<path stroke-width=\"1.0\" stroke=\"black\" d=\"M 118 116 49 141\" marker-end=\"url(#arrow-black)\"/>\n<path stroke-width=\"1.0\" stroke=\"black\" d=\"M 118 116 41 91\" marker-end=\"url(#arrow-black)\"/>\n<path stroke-width=\"1.0\" stroke=\"black\" d=\"M 507 53 496 48\" marker-end=\"url(#arrow-black)\"/>\n<path stroke-width=\"1.0\" stroke=\"black\" d=\"M 507 53 518 48\" marker-end=\"url(#arrow-black)\"/>\n<path stroke-width=\"1.0\" stroke=\"black\" d=\"M 507 53 450 52\" marker-end=\"url(#arrow-black)\"/>\n<path stroke-width=\"1.0\" stroke=\"black\" d=\"M 507 53 522 83\" marker-end=\"url(#arrow-black)\"/>\n<path stroke-width=\"1.0\" stroke=\"black\" d=\"M 507 53 499 69\" marker-end=\"url(#arrow-black)\"/>\n<path stroke-width=\"1.0\" stroke=\"black\" d=\"M 83 137 39 139\" marker-end=\"url(#arrow-black)\"/>\n<path stroke-width=\"1.0\" stroke=\"black\" d=\"M 83 137 47 109\" marker-end=\"url(#arrow-black)\"/>\n<path stroke-width=\"1.0\" stroke=\"black\" d=\"M 83 137 107 183\" marker-end=\"url(#arrow-black)\"/>\n<path stroke-width=\"1.0\" stroke=\"black\" d=\"M 118 116 247 209\" marker-end=\"url(#arrow-black)\"/>\n<path stroke-width=\"1.0\" stroke=\"black\" d=\"M 83 137 26 120\" marker-end=\"url(#arrow-black)\"/>\n<path stroke-width=\"1.0\" stroke=\"black\" d=\"M 82 91 79 74\" marker-end=\"url(#arrow-black)\"/>\n<path stroke-width=\"1.0\" stroke=\"black\" d=\"M 82 91 137 88\" marker-end=\"url(#arrow-black)\"/>\n<path stroke-width=\"1.0\" stroke=\"black\" d=\"M 82 91 86 170\" marker-end=\"url(#arrow-black)\"/>\n<path stroke-width=\"1.0\" stroke=\"black\" d=\"M 82 91 203 98\" marker-end=\"url(#arrow-black)\"/>\n<path stroke-width=\"1.0\" stroke=\"black\" d=\"M 82 91 97 129\" marker-end=\"url(#arrow-black)\"/>\n<path stroke-width=\"1.0\" stroke=\"black\" d=\"M 267 161 234 188\" marker-end=\"url(#arrow-black)\"/>\n<path stroke-width=\"1.0\" stroke=\"black\" d=\"M 267 161 245 185\" marker-end=\"url(#arrow-black)\"/>\n<path stroke-width=\"1.0\" stroke=\"black\" d=\"M 267 161 333 194\" marker-end=\"url(#arrow-black)\"/>\n<path stroke-width=\"1.0\" stroke=\"black\" d=\"M 267 161 263 171\" marker-end=\"url(#arrow-black)\"/>\n<path stroke-width=\"1.0\" stroke=\"black\" d=\"M 267 161 340 171\" marker-end=\"url(#arrow-black)\"/>\n<path stroke-width=\"1.0\" stroke=\"black\" d=\"M 305 48 341 49\" marker-end=\"url(#arrow-black)\"/>\n<path stroke-width=\"1.0\" stroke=\"black\" d=\"M 83 137 76 139\" marker-end=\"url(#arrow-black)\"/>\n<path stroke-width=\"1.0\" stroke=\"black\" d=\"M 305 48 341 68\" marker-end=\"url(#arrow-black)\"/>\n<path stroke-width=\"1.0\" stroke=\"black\" d=\"M 118 116 89 134\" marker-end=\"url(#arrow-black)\"/>\n<path stroke-width=\"1.0\" stroke=\"black\" d=\"M 418 192 356 251\" marker-end=\"url(#arrow-black)\"/>\n<path stroke-width=\"1.0\" stroke=\"black\" d=\"M 347 71 311 51\" marker-end=\"url(#arrow-black)\"/>\n<path stroke-width=\"1.0\" stroke=\"black\" d=\"M 300 251 298 252\" marker-end=\"url(#arrow-black)\"/>\n<path stroke-width=\"1.0\" stroke=\"black\" d=\"M 300 251 190 231\" marker-end=\"url(#arrow-black)\"/>\n<path stroke-width=\"1.0\" stroke=\"black\" d=\"M 300 251 456 206\" marker-end=\"url(#arrow-black)\"/>\n<path stroke-width=\"1.0\" stroke=\"black\" d=\"M 300 251 261 269\" marker-end=\"url(#arrow-black)\"/>\n<path stroke-width=\"1.0\" stroke=\"black\" d=\"M 300 251 183 245\" marker-end=\"url(#arrow-black)\"/>\n<path stroke-width=\"1.0\" stroke=\"black\" d=\"M 490 274 407 206\" marker-end=\"url(#arrow-black)\"/>\n<path stroke-width=\"1.0\" stroke=\"black\" d=\"M 490 274 436 230\" marker-end=\"url(#arrow-black)\"/>\n<path stroke-width=\"1.0\" stroke=\"black\" d=\"M 490 274 454 324\" marker-end=\"url(#arrow-black)\"/>\n<path stroke-width=\"1.0\" stroke=\"black\" d=\"M 490 274 537 215\" marker-end=\"url(#arrow-black)\"/>\n<path stroke-width=\"1.0\" stroke=\"black\" d=\"M 490 274 531 279\" marker-end=\"url(#arrow-black)\"/>\n<path stroke-width=\"1.0\" stroke=\"black\" d=\"M 418 192 352 172\" marker-end=\"url(#arrow-black)\"/>\n<path stroke-width=\"1.0\" stroke=\"black\" d=\"M 592 120 590 119\" marker-end=\"url(#arrow-black)\"/>\n<path stroke-width=\"1.0\" stroke=\"black\" d=\"M 592 120 530 91\" marker-end=\"url(#arrow-black)\"/>\n<path stroke-width=\"1.0\" stroke=\"black\" d=\"M 592 120 554 144\" marker-end=\"url(#arrow-black)\"/>\n<path stroke-width=\"1.0\" stroke=\"black\" d=\"M 592 120 590 161\" marker-end=\"url(#arrow-black)\"/>\n<path stroke-width=\"1.0\" stroke=\"black\" d=\"M 351 255 261 230\" marker-end=\"url(#arrow-black)\"/>\n<path stroke-width=\"1.0\" stroke=\"black\" d=\"M 351 255 347 246\" marker-end=\"url(#arrow-black)\"/>\n<path stroke-width=\"1.0\" stroke=\"black\" d=\"M 351 255 432 231\" marker-end=\"url(#arrow-black)\"/>\n<path stroke-width=\"1.0\" stroke=\"black\" d=\"M 351 255 413 196\" marker-end=\"url(#arrow-black)\"/>\n<path stroke-width=\"1.0\" stroke=\"black\" d=\"M 351 255 333 211\" marker-end=\"url(#arrow-black)\"/>\n<path stroke-width=\"1.0\" stroke=\"black\" d=\"M 418 192 444 136\" marker-end=\"url(#arrow-black)\"/>\n<path stroke-width=\"1.0\" stroke=\"black\" d=\"M 418 192 435 223\" marker-end=\"url(#arrow-black)\"/>\n<path stroke-width=\"1.0\" stroke=\"black\" d=\"M 418 192 424 206\" marker-end=\"url(#arrow-black)\"/>\n<path stroke-width=\"1.0\" stroke=\"black\" d=\"M 592 120 578 134\" marker-end=\"url(#arrow-black)\"/>\n<path stroke-width=\"1.0\" stroke=\"black\" d=\"M 553 258 601 247\" marker-end=\"url(#arrow-black)\"/>\n<path stroke-width=\"1.0\" stroke=\"black\" d=\"M 305 48 319 68\" marker-end=\"url(#arrow-black)\"/>\n<path stroke-width=\"1.0\" stroke=\"black\" d=\"M 305 48 311 38\" marker-end=\"url(#arrow-black)\"/>\n<path stroke-width=\"1.0\" stroke=\"black\" d=\"M 117 296 180 295\" marker-end=\"url(#arrow-black)\"/>\n<path stroke-width=\"1.0\" stroke=\"black\" d=\"M 117 296 172 249\" marker-end=\"url(#arrow-black)\"/>\n<path stroke-width=\"1.0\" stroke=\"black\" d=\"M 548 147 526 95\" marker-end=\"url(#arrow-black)\"/>\n<path stroke-width=\"1.0\" stroke=\"black\" d=\"M 548 147 567 140\" marker-end=\"url(#arrow-black)\"/>\n<path stroke-width=\"1.0\" stroke=\"black\" d=\"M 548 147 584 164\" marker-end=\"url(#arrow-black)\"/>\n<path stroke-width=\"1.0\" stroke=\"black\" d=\"M 548 147 579 120\" marker-end=\"url(#arrow-black)\"/>\n<path stroke-width=\"1.0\" stroke=\"black\" d=\"M 548 147 541 204\" marker-end=\"url(#arrow-black)\"/>\n<path stroke-width=\"1.0\" stroke=\"black\" d=\"M 43 97 43 99\" marker-end=\"url(#arrow-black)\"/>\n<path stroke-width=\"1.0\" stroke=\"black\" d=\"M 43 97 34 133\" marker-end=\"url(#arrow-black)\"/>\n<path stroke-width=\"1.0\" stroke=\"black\" d=\"M 43 97 25 115\" marker-end=\"url(#arrow-black)\"/>\n<path stroke-width=\"1.0\" stroke=\"black\" d=\"M 43 97 79 133\" marker-end=\"url(#arrow-black)\"/>\n<path stroke-width=\"1.0\" stroke=\"black\" d=\"M 117 296 83 244\" marker-end=\"url(#arrow-black)\"/>\n<path stroke-width=\"1.0\" stroke=\"black\" d=\"M 43 97 67 135\" marker-end=\"url(#arrow-black)\"/>\n<path stroke-width=\"1.0\" stroke=\"black\" d=\"M 91 264 105 279\" marker-end=\"url(#arrow-black)\"/>\n<path stroke-width=\"1.0\" stroke=\"black\" d=\"M 91 264 153 311\" marker-end=\"url(#arrow-black)\"/>\n<path stroke-width=\"1.0\" stroke=\"black\" d=\"M 91 264 124 309\" marker-end=\"url(#arrow-black)\"/>\n<path stroke-width=\"1.0\" stroke=\"black\" d=\"M 91 264 92 223\" marker-end=\"url(#arrow-black)\"/>\n<path stroke-width=\"1.0\" stroke=\"black\" d=\"M 450 329 415 382\" marker-end=\"url(#arrow-black)\"/>\n<path stroke-width=\"1.0\" stroke=\"black\" d=\"M 450 329 356 332\" marker-end=\"url(#arrow-black)\"/>\n<path stroke-width=\"1.0\" stroke=\"black\" d=\"M 450 329 531 282\" marker-end=\"url(#arrow-black)\"/>\n<path stroke-width=\"1.0\" stroke=\"black\" d=\"M 450 329 385 277\" marker-end=\"url(#arrow-black)\"/>\n<path stroke-width=\"1.0\" stroke=\"black\" d=\"M 450 329 486 279\" marker-end=\"url(#arrow-black)\"/>\n<path stroke-width=\"1.0\" stroke=\"black\" d=\"M 252 213 374 271\" marker-end=\"url(#arrow-black)\"/>\n<path stroke-width=\"1.0\" stroke=\"black\" d=\"M 252 213 89 139\" marker-end=\"url(#arrow-black)\"/>\n<path stroke-width=\"1.0\" stroke=\"black\" d=\"M 91 264 132 261\" marker-end=\"url(#arrow-black)\"/>\n<path stroke-width=\"1.0\" stroke=\"black\" d=\"M 305 48 387 103\" marker-end=\"url(#arrow-black)\"/>\n<path stroke-width=\"1.0\" stroke=\"black\" d=\"M 117 296 189 272\" marker-end=\"url(#arrow-black)\"/>\n<path stroke-width=\"1.0\" stroke=\"black\" d=\"M 110 189 178 227\" marker-end=\"url(#arrow-black)\"/>\n<path stroke-width=\"1.0\" stroke=\"black\" d=\"M 342 223 338 216\" marker-end=\"url(#arrow-black)\"/>\n<path stroke-width=\"1.0\" stroke=\"black\" d=\"M 342 223 396 204\" marker-end=\"url(#arrow-black)\"/>\n<path stroke-width=\"1.0\" stroke=\"black\" d=\"M 342 223 357 235\" marker-end=\"url(#arrow-black)\"/>\n<path stroke-width=\"1.0\" stroke=\"black\" d=\"M 342 223 374 225\" marker-end=\"url(#arrow-black)\"/>\n<path stroke-width=\"1.0\" stroke=\"black\" d=\"M 342 223 425 226\" marker-end=\"url(#arrow-black)\"/>\n<path stroke-width=\"1.0\" stroke=\"black\" d=\"M 177 245 212 240\" marker-end=\"url(#arrow-black)\"/>\n<path stroke-width=\"1.0\" stroke=\"black\" d=\"M 177 245 144 259\" marker-end=\"url(#arrow-black)\"/>\n<path stroke-width=\"1.0\" stroke=\"black\" d=\"M 177 245 249 269\" marker-end=\"url(#arrow-black)\"/>\n<path stroke-width=\"1.0\" stroke=\"black\" d=\"M 177 245 121 242\" marker-end=\"url(#arrow-black)\"/>\n<path stroke-width=\"1.0\" stroke=\"black\" d=\"M 177 245 182 236\" marker-end=\"url(#arrow-black)\"/>\n<path stroke-width=\"1.0\" stroke=\"black\" d=\"M 33 139 23 124\" marker-end=\"url(#arrow-black)\"/>\n<path stroke-width=\"1.0\" stroke=\"black\" d=\"M 117 296 175 302\" marker-end=\"url(#arrow-black)\"/>\n<path stroke-width=\"1.0\" stroke=\"black\" d=\"M 33 139 42 103\" marker-end=\"url(#arrow-black)\"/>\n<path stroke-width=\"1.0\" stroke=\"black\" d=\"M 33 139 77 137\" marker-end=\"url(#arrow-black)\"/>\n<path stroke-width=\"1.0\" stroke=\"black\" d=\"M 33 139 88 212\" marker-end=\"url(#arrow-black)\"/>\n<path stroke-width=\"1.0\" stroke=\"black\" d=\"M 229 192 235 191\" marker-end=\"url(#arrow-black)\"/>\n<path stroke-width=\"1.0\" stroke=\"black\" d=\"M 229 192 262 165\" marker-end=\"url(#arrow-black)\"/>\n<path stroke-width=\"1.0\" stroke=\"black\" d=\"M 229 192 252 224\" marker-end=\"url(#arrow-black)\"/>\n<path stroke-width=\"1.0\" stroke=\"black\" d=\"M 229 192 255 179\" marker-end=\"url(#arrow-black)\"/>\n<path stroke-width=\"1.0\" stroke=\"black\" d=\"M 229 192 196 215\" marker-end=\"url(#arrow-black)\"/>\n<path stroke-width=\"1.0\" stroke=\"black\" d=\"M 110 189 95 165\" marker-end=\"url(#arrow-black)\"/>\n<path stroke-width=\"1.0\" stroke=\"black\" d=\"M 110 189 115 161\" marker-end=\"url(#arrow-black)\"/>\n<path stroke-width=\"1.0\" stroke=\"black\" d=\"M 110 189 115 236\" marker-end=\"url(#arrow-black)\"/>\n<path stroke-width=\"1.0\" stroke=\"black\" d=\"M 110 189 86 143\" marker-end=\"url(#arrow-black)\"/>\n<path stroke-width=\"1.0\" stroke=\"black\" d=\"M 33 139 41 111\" marker-end=\"url(#arrow-black)\"/>\n<path stroke-width=\"1.0\" stroke=\"black\" d=\"M 553 258 541 274\" marker-end=\"url(#arrow-black)\"/>\n<path stroke-width=\"1.0\" stroke=\"black\" d=\"M 524 154 499 81\" marker-end=\"url(#arrow-black)\"/>\n<path stroke-width=\"1.0\" stroke=\"black\" d=\"M 524 154 418 233\" marker-end=\"url(#arrow-black)\"/>\n<path stroke-width=\"1.0\" stroke=\"black\" d=\"M 190 208 179 239\" marker-end=\"url(#arrow-black)\"/>\n<path stroke-width=\"1.0\" stroke=\"black\" d=\"M 190 208 250 267\" marker-end=\"url(#arrow-black)\"/>\n<path stroke-width=\"1.0\" stroke=\"black\" d=\"M 190 208 214 234\" marker-end=\"url(#arrow-black)\"/>\n<path stroke-width=\"1.0\" stroke=\"black\" d=\"M 190 208 138 174\" marker-end=\"url(#arrow-black)\"/>\n<path stroke-width=\"1.0\" stroke=\"black\" d=\"M 92 217 178 230\" marker-end=\"url(#arrow-black)\"/>\n<path stroke-width=\"1.0\" stroke=\"black\" d=\"M 92 217 111 237\" marker-end=\"url(#arrow-black)\"/>\n<path stroke-width=\"1.0\" stroke=\"black\" d=\"M 92 217 37 144\" marker-end=\"url(#arrow-black)\"/>\n<path stroke-width=\"1.0\" stroke=\"black\" d=\"M 92 217 133 257\" marker-end=\"url(#arrow-black)\"/>\n<path stroke-width=\"1.0\" stroke=\"black\" d=\"M 92 217 89 212\" marker-end=\"url(#arrow-black)\"/>\n<path stroke-width=\"1.0\" stroke=\"black\" d=\"M 261 177 235 190\" marker-end=\"url(#arrow-black)\"/>\n<path stroke-width=\"1.0\" stroke=\"black\" d=\"M 261 177 265 167\" marker-end=\"url(#arrow-black)\"/>\n<path stroke-width=\"1.0\" stroke=\"black\" d=\"M 261 177 333 196\" marker-end=\"url(#arrow-black)\"/>\n<path stroke-width=\"1.0\" stroke=\"black\" d=\"M 261 177 246 187\" marker-end=\"url(#arrow-black)\"/>\n<path stroke-width=\"1.0\" stroke=\"black\" d=\"M 261 177 242 121\" marker-end=\"url(#arrow-black)\"/>\n<path stroke-width=\"1.0\" stroke=\"black\" d=\"M 195 270 183 296\" marker-end=\"url(#arrow-black)\"/>\n<path stroke-width=\"1.0\" stroke=\"black\" d=\"M 195 270 123 294\" marker-end=\"url(#arrow-black)\"/>\n<path stroke-width=\"1.0\" stroke=\"black\" d=\"M 195 270 237 287\" marker-end=\"url(#arrow-black)\"/>\n<path stroke-width=\"1.0\" stroke=\"black\" d=\"M 195 270 311 237\" marker-end=\"url(#arrow-black)\"/>\n<path stroke-width=\"1.0\" stroke=\"black\" d=\"M 195 270 287 178\" marker-end=\"url(#arrow-black)\"/>\n<path stroke-width=\"1.0\" stroke=\"black\" d=\"M 82 222 86 182\" marker-end=\"url(#arrow-black)\"/>\n<path stroke-width=\"1.0\" stroke=\"black\" d=\"M 82 222 84 213\" marker-end=\"url(#arrow-black)\"/>\n<path stroke-width=\"1.0\" stroke=\"black\" d=\"M 82 222 129 175\" marker-end=\"url(#arrow-black)\"/>\n<path stroke-width=\"1.0\" stroke=\"black\" d=\"M 82 222 197 224\" marker-end=\"url(#arrow-black)\"/>\n<path stroke-width=\"1.0\" stroke=\"black\" d=\"M 190 208 135 194\" marker-end=\"url(#arrow-black)\"/>\n<path stroke-width=\"1.0\" stroke=\"black\" d=\"M 211 292 238 268\" marker-end=\"url(#arrow-black)\"/>\n<path stroke-width=\"1.0\" stroke=\"black\" d=\"M 211 292 284 269\" marker-end=\"url(#arrow-black)\"/>\n<path stroke-width=\"1.0\" stroke=\"black\" d=\"M 211 292 285 240\" marker-end=\"url(#arrow-black)\"/>\n<path stroke-width=\"1.0\" stroke=\"black\" d=\"M 241 190 197 215\" marker-end=\"url(#arrow-black)\"/>\n<path stroke-width=\"1.0\" stroke=\"black\" d=\"M 241 190 197 236\" marker-end=\"url(#arrow-black)\"/>\n<path stroke-width=\"1.0\" stroke=\"black\" d=\"M 260 258 307 283\" marker-end=\"url(#arrow-black)\"/>\n<path stroke-width=\"1.0\" stroke=\"black\" d=\"M 260 258 249 262\" marker-end=\"url(#arrow-black)\"/>\n<path stroke-width=\"1.0\" stroke=\"black\" d=\"M 260 258 257 265\" marker-end=\"url(#arrow-black)\"/>\n<path stroke-width=\"1.0\" stroke=\"black\" d=\"M 260 258 197 221\" marker-end=\"url(#arrow-black)\"/>\n<path stroke-width=\"1.0\" stroke=\"black\" d=\"M 260 258 256 235\" marker-end=\"url(#arrow-black)\"/>\n<path stroke-width=\"1.0\" stroke=\"black\" d=\"M 339 197 247 190\" marker-end=\"url(#arrow-black)\"/>\n<path stroke-width=\"1.0\" stroke=\"black\" d=\"M 339 197 350 249\" marker-end=\"url(#arrow-black)\"/>\n<path stroke-width=\"1.0\" stroke=\"black\" d=\"M 339 197 273 164\" marker-end=\"url(#arrow-black)\"/>\n<path stroke-width=\"1.0\" stroke=\"black\" d=\"M 339 197 261 227\" marker-end=\"url(#arrow-black)\"/>\n<path stroke-width=\"1.0\" stroke=\"black\" d=\"M 82 222 135 267\" marker-end=\"url(#arrow-black)\"/>\n<path stroke-width=\"1.0\" stroke=\"black\" d=\"M 339 197 345 177\" marker-end=\"url(#arrow-black)\"/>\n<path stroke-width=\"1.0\" stroke=\"black\" d=\"M 243 264 254 260\" marker-end=\"url(#arrow-black)\"/>\n<path stroke-width=\"1.0\" stroke=\"black\" d=\"M 243 264 253 235\" marker-end=\"url(#arrow-black)\"/>\n<path stroke-width=\"1.0\" stroke=\"black\" d=\"M 243 264 230 198\" marker-end=\"url(#arrow-black)\"/>\n<path stroke-width=\"1.0\" stroke=\"black\" d=\"M 243 264 199 243\" marker-end=\"url(#arrow-black)\"/>\n<path stroke-width=\"1.0\" stroke=\"black\" d=\"M 404 410 410 393\" marker-end=\"url(#arrow-black)\"/>\n<path stroke-width=\"1.0\" stroke=\"black\" d=\"M 404 410 346 418\" marker-end=\"url(#arrow-black)\"/>\n<path stroke-width=\"1.0\" stroke=\"black\" d=\"M 404 410 326 438\" marker-end=\"url(#arrow-black)\"/>\n<path stroke-width=\"1.0\" stroke=\"black\" d=\"M 404 410 447 335\" marker-end=\"url(#arrow-black)\"/>\n<path stroke-width=\"1.0\" stroke=\"black\" d=\"M 404 410 355 384\" marker-end=\"url(#arrow-black)\"/>\n<path stroke-width=\"1.0\" stroke=\"black\" d=\"M 211 292 134 313\" marker-end=\"url(#arrow-black)\"/>\n<path stroke-width=\"1.0\" stroke=\"black\" d=\"M 211 292 195 247\" marker-end=\"url(#arrow-black)\"/>\n<path stroke-width=\"1.0\" stroke=\"black\" d=\"M 243 264 307 284\" marker-end=\"url(#arrow-black)\"/>\n<path stroke-width=\"1.0\" stroke=\"black\" d=\"M 129 193 63 203\" marker-end=\"url(#arrow-black)\"/>\n<path stroke-width=\"1.0\" stroke=\"black\" d=\"M 129 193 179 227\" marker-end=\"url(#arrow-black)\"/>\n<path stroke-width=\"1.0\" stroke=\"black\" d=\"M 129 193 184 207\" marker-end=\"url(#arrow-black)\"/>\n<path stroke-width=\"1.0\" stroke=\"black\" d=\"M 70 183 37 144\" marker-end=\"url(#arrow-black)\"/>\n<path stroke-width=\"1.0\" stroke=\"black\" d=\"M 70 183 197 222\" marker-end=\"url(#arrow-black)\"/>\n<path stroke-width=\"1.0\" stroke=\"black\" d=\"M 70 183 82 143\" marker-end=\"url(#arrow-black)\"/>\n<path stroke-width=\"1.0\" stroke=\"black\" d=\"M 70 183 24 124\" marker-end=\"url(#arrow-black)\"/>\n<path stroke-width=\"1.0\" stroke=\"black\" d=\"M 86 176 127 171\" marker-end=\"url(#arrow-black)\"/>\n<path stroke-width=\"1.0\" stroke=\"black\" d=\"M 86 176 123 191\" marker-end=\"url(#arrow-black)\"/>\n<path stroke-width=\"1.0\" stroke=\"black\" d=\"M 86 176 62 199\" marker-end=\"url(#arrow-black)\"/>\n<path stroke-width=\"1.0\" stroke=\"black\" d=\"M 86 176 85 201\" marker-end=\"url(#arrow-black)\"/>\n<path stroke-width=\"1.0\" stroke=\"black\" d=\"M 86 176 172 241\" marker-end=\"url(#arrow-black)\"/>\n<path stroke-width=\"1.0\" stroke=\"black\" d=\"M 79 68 82 85\" marker-end=\"url(#arrow-black)\"/>\n<path stroke-width=\"1.0\" stroke=\"black\" d=\"M 79 68 137 86\" marker-end=\"url(#arrow-black)\"/>\n<path stroke-width=\"1.0\" stroke=\"black\" d=\"M 70 183 82 202\" marker-end=\"url(#arrow-black)\"/>\n<path stroke-width=\"1.0\" stroke=\"black\" d=\"M 79 68 98 129\" marker-end=\"url(#arrow-black)\"/>\n<path stroke-width=\"1.0\" stroke=\"black\" d=\"M 79 68 48 93\" marker-end=\"url(#arrow-black)\"/>\n<path stroke-width=\"1.0\" stroke=\"black\" d=\"M 620 182 616 197\" marker-end=\"url(#arrow-black)\"/>\n<path stroke-width=\"1.0\" stroke=\"black\" d=\"M 620 182 594 126\" marker-end=\"url(#arrow-black)\"/>\n<path stroke-width=\"1.0\" stroke=\"black\" d=\"M 620 182 596 170\" marker-end=\"url(#arrow-black)\"/>\n<path stroke-width=\"1.0\" stroke=\"black\" d=\"M 620 182 547 208\" marker-end=\"url(#arrow-black)\"/>\n<path stroke-width=\"1.0\" stroke=\"black\" d=\"M 620 182 587 122\" marker-end=\"url(#arrow-black)\"/>\n<path stroke-width=\"1.0\" stroke=\"black\" d=\"M 92 160 110 156\" marker-end=\"url(#arrow-black)\"/>\n<path stroke-width=\"1.0\" stroke=\"black\" d=\"M 92 160 107 184\" marker-end=\"url(#arrow-black)\"/>\n<path stroke-width=\"1.0\" stroke=\"black\" d=\"M 92 160 75 144\" marker-end=\"url(#arrow-black)\"/>\n<path stroke-width=\"1.0\" stroke=\"black\" d=\"M 92 160 116 205\" marker-end=\"url(#arrow-black)\"/>\n<path stroke-width=\"1.0\" stroke=\"black\" d=\"M 92 160 85 143\" marker-end=\"url(#arrow-black)\"/>\n<path stroke-width=\"1.0\" stroke=\"black\" d=\"M 79 68 203 97\" marker-end=\"url(#arrow-black)\"/>\n<path stroke-width=\"1.0\" stroke=\"black\" d=\"M 241 190 263 166\" marker-end=\"url(#arrow-black)\"/>\n<path stroke-width=\"1.0\" stroke=\"black\" d=\"M 425 112 542 146\" marker-end=\"url(#arrow-black)\"/>\n<path stroke-width=\"1.0\" stroke=\"black\" d=\"M 425 112 475 55\" marker-end=\"url(#arrow-black)\"/>\n<path stroke-width=\"1.0\" stroke=\"black\" d=\"M 129 193 92 178\" marker-end=\"url(#arrow-black)\"/>\n<path stroke-width=\"1.0\" stroke=\"black\" d=\"M 129 193 173 240\" marker-end=\"url(#arrow-black)\"/>\n<path stroke-width=\"1.0\" stroke=\"black\" d=\"M 347 126 325 79\" marker-end=\"url(#arrow-black)\"/>\n<path stroke-width=\"1.0\" stroke=\"black\" d=\"M 347 126 352 137\" marker-end=\"url(#arrow-black)\"/>\n<path stroke-width=\"1.0\" stroke=\"black\" d=\"M 347 126 377 125\" marker-end=\"url(#arrow-black)\"/>\n<path stroke-width=\"1.0\" stroke=\"black\" d=\"M 347 126 296 170\" marker-end=\"url(#arrow-black)\"/>\n<path stroke-width=\"1.0\" stroke=\"black\" d=\"M 347 126 340 105\" marker-end=\"url(#arrow-black)\"/>\n<path stroke-width=\"1.0\" stroke=\"black\" d=\"M 313 32 322 67\" marker-end=\"url(#arrow-black)\"/>\n<path stroke-width=\"1.0\" stroke=\"black\" d=\"M 313 32 343 66\" marker-end=\"url(#arrow-black)\"/>\n<path stroke-width=\"1.0\" stroke=\"black\" d=\"M 313 32 341 46\" marker-end=\"url(#arrow-black)\"/>\n<path stroke-width=\"1.0\" stroke=\"black\" d=\"M 313 32 307 42\" marker-end=\"url(#arrow-black)\"/>\n<path stroke-width=\"1.0\" stroke=\"black\" d=\"M 425 112 518 90\" marker-end=\"url(#arrow-black)\"/>\n<path stroke-width=\"1.0\" stroke=\"black\" d=\"M 313 32 290 62\" marker-end=\"url(#arrow-black)\"/>\n<path stroke-width=\"1.0\" stroke=\"black\" d=\"M 140 271 139 267\" marker-end=\"url(#arrow-black)\"/>\n<path stroke-width=\"1.0\" stroke=\"black\" d=\"M 140 271 206 319\" marker-end=\"url(#arrow-black)\"/>\n<path stroke-width=\"1.0\" stroke=\"black\" d=\"M 140 271 115 282\" marker-end=\"url(#arrow-black)\"/>\n<path stroke-width=\"1.0\" stroke=\"black\" d=\"M 140 271 121 217\" marker-end=\"url(#arrow-black)\"/>\n<path stroke-width=\"1.0\" stroke=\"black\" d=\"M 279 287 313 241\" marker-end=\"url(#arrow-black)\"/>\n<path stroke-width=\"1.0\" stroke=\"black\" d=\"M 279 287 290 261\" marker-end=\"url(#arrow-black)\"/>\n<path stroke-width=\"1.0\" stroke=\"black\" d=\"M 279 287 380 227\" marker-end=\"url(#arrow-black)\"/>\n<path stroke-width=\"1.0\" stroke=\"black\" d=\"M 279 287 260 274\" marker-end=\"url(#arrow-black)\"/>\n<path stroke-width=\"1.0\" stroke=\"black\" d=\"M 279 287 249 289\" marker-end=\"url(#arrow-black)\"/>\n<path stroke-width=\"1.0\" stroke=\"black\" d=\"M 425 112 330 126\" marker-end=\"url(#arrow-black)\"/>\n<path stroke-width=\"1.0\" stroke=\"black\" d=\"M 425 112 403 196\" marker-end=\"url(#arrow-black)\"/>\n<path stroke-width=\"1.0\" stroke=\"black\" d=\"M 140 271 119 247\" marker-end=\"url(#arrow-black)\"/>\n<path stroke-width=\"1.0\" stroke=\"black\" d=\"M 241 190 253 223\" marker-end=\"url(#arrow-black)\"/>\n<path stroke-width=\"1.0\" stroke=\"black\" d=\"M 241 190 235 191\" marker-end=\"url(#arrow-black)\"/>\n<path stroke-width=\"1.0\" stroke=\"black\" d=\"M 70 140 26 121\" marker-end=\"url(#arrow-black)\"/>\n<path stroke-width=\"1.0\" stroke=\"black\" d=\"M 350 332 256 218\" marker-end=\"url(#arrow-black)\"/>\n<path stroke-width=\"1.0\" stroke=\"black\" d=\"M 402 149 382 141\" marker-end=\"url(#arrow-black)\"/>\n<path stroke-width=\"1.0\" stroke=\"black\" d=\"M 402 149 360 143\" marker-end=\"url(#arrow-black)\"/>\n<path stroke-width=\"1.0\" stroke=\"black\" d=\"M 402 149 346 115\" marker-end=\"url(#arrow-black)\"/>\n<path stroke-width=\"1.0\" stroke=\"black\" d=\"M 402 149 352 169\" marker-end=\"url(#arrow-black)\"/>\n<path stroke-width=\"1.0\" stroke=\"black\" d=\"M 402 149 353 128\" marker-end=\"url(#arrow-black)\"/>\n<path stroke-width=\"1.0\" stroke=\"black\" d=\"M 286 67 341 71\" marker-end=\"url(#arrow-black)\"/>\n<path stroke-width=\"1.0\" stroke=\"black\" d=\"M 286 67 341 50\" marker-end=\"url(#arrow-black)\"/>\n<path stroke-width=\"1.0\" stroke=\"black\" d=\"M 286 67 276 72\" marker-end=\"url(#arrow-black)\"/>\n<path stroke-width=\"1.0\" stroke=\"black\" d=\"M 286 67 317 72\" marker-end=\"url(#arrow-black)\"/>\n<path stroke-width=\"1.0\" stroke=\"black\" d=\"M 286 67 258 95\" marker-end=\"url(#arrow-black)\"/>\n<path stroke-width=\"1.0\" stroke=\"black\" d=\"M 350 332 349 375\" marker-end=\"url(#arrow-black)\"/>\n<path stroke-width=\"1.0\" stroke=\"black\" d=\"M 607 246 543 277\" marker-end=\"url(#arrow-black)\"/>\n<path stroke-width=\"1.0\" stroke=\"black\" d=\"M 607 246 547 213\" marker-end=\"url(#arrow-black)\"/>\n<path stroke-width=\"1.0\" stroke=\"black\" d=\"M 607 246 614 209\" marker-end=\"url(#arrow-black)\"/>\n<path stroke-width=\"1.0\" stroke=\"black\" d=\"M 607 246 619 188\" marker-end=\"url(#arrow-black)\"/>\n<path stroke-width=\"1.0\" stroke=\"black\" d=\"M 176 218 235 192\" marker-end=\"url(#arrow-black)\"/>\n<path stroke-width=\"1.0\" stroke=\"black\" d=\"M 176 218 185 218\" marker-end=\"url(#arrow-black)\"/>\n<path stroke-width=\"1.0\" stroke=\"black\" d=\"M 176 218 249 229\" marker-end=\"url(#arrow-black)\"/>\n<path stroke-width=\"1.0\" stroke=\"black\" d=\"M 176 218 189 236\" marker-end=\"url(#arrow-black)\"/>\n<path stroke-width=\"1.0\" stroke=\"black\" d=\"M 176 218 223 195\" marker-end=\"url(#arrow-black)\"/>\n<path stroke-width=\"1.0\" stroke=\"black\" d=\"M 268 470 258 458\" marker-end=\"url(#arrow-black)\"/>\n<path stroke-width=\"1.0\" stroke=\"black\" d=\"M 268 470 314 443\" marker-end=\"url(#arrow-black)\"/>\n<path stroke-width=\"1.0\" stroke=\"black\" d=\"M 268 470 289 416\" marker-end=\"url(#arrow-black)\"/>\n<path stroke-width=\"1.0\" stroke=\"black\" d=\"M 607 246 559 257\" marker-end=\"url(#arrow-black)\"/>\n<path stroke-width=\"1.0\" stroke=\"black\" d=\"M 268 470 283 452\" marker-end=\"url(#arrow-black)\"/>\n<path stroke-width=\"1.0\" stroke=\"black\" d=\"M 350 332 224 314\" marker-end=\"url(#arrow-black)\"/>\n<path stroke-width=\"1.0\" stroke=\"black\" d=\"M 350 332 444 329\" marker-end=\"url(#arrow-black)\"/>\n<path stroke-width=\"1.0\" stroke=\"black\" d=\"M 540 20 557 56\" marker-end=\"url(#arrow-black)\"/>\n<path stroke-width=\"1.0\" stroke=\"black\" d=\"M 540 20 485 47\" marker-end=\"url(#arrow-black)\"/>\n<path stroke-width=\"1.0\" stroke=\"black\" d=\"M 540 20 496 43\" marker-end=\"url(#arrow-black)\"/>\n<path stroke-width=\"1.0\" stroke=\"black\" d=\"M 540 20 501 70\" marker-end=\"url(#arrow-black)\"/>\n<path stroke-width=\"1.0\" stroke=\"black\" d=\"M 80 239 197 224\" marker-end=\"url(#arrow-black)\"/>\n<path stroke-width=\"1.0\" stroke=\"black\" d=\"M 80 239 85 213\" marker-end=\"url(#arrow-black)\"/>\n<path stroke-width=\"1.0\" stroke=\"black\" d=\"M 80 239 71 189\" marker-end=\"url(#arrow-black)\"/>\n<path stroke-width=\"1.0\" stroke=\"black\" d=\"M 80 239 60 208\" marker-end=\"url(#arrow-black)\"/>\n<path stroke-width=\"1.0\" stroke=\"black\" d=\"M 80 239 109 242\" marker-end=\"url(#arrow-black)\"/>\n<path stroke-width=\"1.0\" stroke=\"black\" d=\"M 539 102 525 148\" marker-end=\"url(#arrow-black)\"/>\n<path stroke-width=\"1.0\" stroke=\"black\" d=\"M 539 102 567 88\" marker-end=\"url(#arrow-black)\"/>\n<path stroke-width=\"1.0\" stroke=\"black\" d=\"M 350 332 305 350\" marker-end=\"url(#arrow-black)\"/>\n<path stroke-width=\"1.0\" stroke=\"black\" d=\"M 539 102 510 58\" marker-end=\"url(#arrow-black)\"/>\n<path stroke-width=\"1.0\" stroke=\"black\" d=\"M 539 102 525 52\" marker-end=\"url(#arrow-black)\"/>\n<path stroke-width=\"1.0\" stroke=\"black\" d=\"M 490 46 501 51\" marker-end=\"url(#arrow-black)\"/>\n<path stroke-width=\"1.0\" stroke=\"black\" d=\"M 490 46 520 84\" marker-end=\"url(#arrow-black)\"/>\n<path stroke-width=\"1.0\" stroke=\"black\" d=\"M 490 46 518 46\" marker-end=\"url(#arrow-black)\"/>\n<path stroke-width=\"1.0\" stroke=\"black\" d=\"M 490 46 496 69\" marker-end=\"url(#arrow-black)\"/>\n<path stroke-width=\"1.0\" stroke=\"black\" d=\"M 490 46 485 48\" marker-end=\"url(#arrow-black)\"/>\n<path stroke-width=\"1.0\" stroke=\"black\" d=\"M 181 302 193 276\" marker-end=\"url(#arrow-black)\"/>\n<path stroke-width=\"1.0\" stroke=\"black\" d=\"M 181 302 123 296\" marker-end=\"url(#arrow-black)\"/>\n<path stroke-width=\"1.0\" stroke=\"black\" d=\"M 181 302 273 288\" marker-end=\"url(#arrow-black)\"/>\n<path stroke-width=\"1.0\" stroke=\"black\" d=\"M 181 302 183 300\" marker-end=\"url(#arrow-black)\"/>\n<path stroke-width=\"1.0\" stroke=\"black\" d=\"M 181 302 311 239\" marker-end=\"url(#arrow-black)\"/>\n<path stroke-width=\"1.0\" stroke=\"black\" d=\"M 539 102 494 51\" marker-end=\"url(#arrow-black)\"/>\n<path stroke-width=\"1.0\" stroke=\"black\" d=\"M 488 241 455 267\" marker-end=\"url(#arrow-black)\"/>\n<path stroke-width=\"1.0\" stroke=\"black\" d=\"M 268 470 267 466\" marker-end=\"url(#arrow-black)\"/>\n<path stroke-width=\"1.0\" stroke=\"black\" d=\"M 382 278 444 271\" marker-end=\"url(#arrow-black)\"/>\n<path stroke-width=\"1.0\" stroke=\"black\" d=\"M 20 119 30 134\" marker-end=\"url(#arrow-black)\"/>\n<path stroke-width=\"1.0\" stroke=\"black\" d=\"M 20 119 38 101\" marker-end=\"url(#arrow-black)\"/>\n<path stroke-width=\"1.0\" stroke=\"black\" d=\"M 20 119 37 108\" marker-end=\"url(#arrow-black)\"/>\n<path stroke-width=\"1.0\" stroke=\"black\" d=\"M 20 119 64 138\" marker-end=\"url(#arrow-black)\"/>\n<path stroke-width=\"1.0\" stroke=\"black\" d=\"M 20 119 77 136\" marker-end=\"url(#arrow-black)\"/>\n<path stroke-width=\"1.0\" stroke=\"black\" d=\"M 340 281 319 285\" marker-end=\"url(#arrow-black)\"/>\n<path stroke-width=\"1.0\" stroke=\"black\" d=\"M 340 281 261 271\" marker-end=\"url(#arrow-black)\"/>\n<path stroke-width=\"1.0\" stroke=\"black\" d=\"M 340 281 294 307\" marker-end=\"url(#arrow-black)\"/>\n<path stroke-width=\"1.0\" stroke=\"black\" d=\"M 340 281 298 258\" marker-end=\"url(#arrow-black)\"/>\n<path stroke-width=\"1.0\" stroke=\"black\" d=\"M 340 281 224 241\" marker-end=\"url(#arrow-black)\"/>\n<path stroke-width=\"1.0\" stroke=\"black\" d=\"M 191 218 235 193\" marker-end=\"url(#arrow-black)\"/>\n<path stroke-width=\"1.0\" stroke=\"black\" d=\"M 437 177 390 220\" marker-end=\"url(#arrow-black)\"/>\n<path stroke-width=\"1.0\" stroke=\"black\" d=\"M 191 218 193 235\" marker-end=\"url(#arrow-black)\"/>\n<path stroke-width=\"1.0\" stroke=\"black\" d=\"M 191 218 182 218\" marker-end=\"url(#arrow-black)\"/>\n<path stroke-width=\"1.0\" stroke=\"black\" d=\"M 191 218 224 195\" marker-end=\"url(#arrow-black)\"/>\n<path stroke-width=\"1.0\" stroke=\"black\" d=\"M 444 52 501 53\" marker-end=\"url(#arrow-black)\"/>\n<path stroke-width=\"1.0\" stroke=\"black\" d=\"M 444 52 484 46\" marker-end=\"url(#arrow-black)\"/>\n<path stroke-width=\"1.0\" stroke=\"black\" d=\"M 444 52 518 46\" marker-end=\"url(#arrow-black)\"/>\n<path stroke-width=\"1.0\" stroke=\"black\" d=\"M 444 52 518 87\" marker-end=\"url(#arrow-black)\"/>\n<path stroke-width=\"1.0\" stroke=\"black\" d=\"M 444 52 329 123\" marker-end=\"url(#arrow-black)\"/>\n<path stroke-width=\"1.0\" stroke=\"black\" d=\"M 70 140 87 156\" marker-end=\"url(#arrow-black)\"/>\n<path stroke-width=\"1.0\" stroke=\"black\" d=\"M 70 140 46 110\" marker-end=\"url(#arrow-black)\"/>\n<path stroke-width=\"1.0\" stroke=\"black\" d=\"M 70 140 110 153\" marker-end=\"url(#arrow-black)\"/>\n<path stroke-width=\"1.0\" stroke=\"black\" d=\"M 70 140 93 136\" marker-end=\"url(#arrow-black)\"/>\n<path stroke-width=\"1.0\" stroke=\"black\" d=\"M 191 218 249 228\" marker-end=\"url(#arrow-black)\"/>\n<path stroke-width=\"1.0\" stroke=\"black\" d=\"M 382 278 403 271\" marker-end=\"url(#arrow-black)\"/>\n<path stroke-width=\"1.0\" stroke=\"black\" d=\"M 437 177 465 155\" marker-end=\"url(#arrow-black)\"/>\n<path stroke-width=\"1.0\" stroke=\"black\" d=\"M 437 177 428 206\" marker-end=\"url(#arrow-black)\"/>\n<path stroke-width=\"1.0\" stroke=\"black\" d=\"M 382 278 338 215\" marker-end=\"url(#arrow-black)\"/>\n<path stroke-width=\"1.0\" stroke=\"black\" d=\"M 382 278 380 231\" marker-end=\"url(#arrow-black)\"/>\n<path stroke-width=\"1.0\" stroke=\"black\" d=\"M 382 278 365 245\" marker-end=\"url(#arrow-black)\"/>\n<path stroke-width=\"1.0\" stroke=\"black\" d=\"M 85 207 111 237\" marker-end=\"url(#arrow-black)\"/>\n<path stroke-width=\"1.0\" stroke=\"black\" d=\"M 85 207 88 212\" marker-end=\"url(#arrow-black)\"/>\n<path stroke-width=\"1.0\" stroke=\"black\" d=\"M 85 207 128 175\" marker-end=\"url(#arrow-black)\"/>\n<path stroke-width=\"1.0\" stroke=\"black\" d=\"M 85 207 171 243\" marker-end=\"url(#arrow-black)\"/>\n<path stroke-width=\"1.0\" stroke=\"black\" d=\"M 85 207 63 203\" marker-end=\"url(#arrow-black)\"/>\n<path stroke-width=\"1.0\" stroke=\"black\" d=\"M 158 315 212 314\" marker-end=\"url(#arrow-black)\"/>\n<path stroke-width=\"1.0\" stroke=\"black\" d=\"M 158 315 205 322\" marker-end=\"url(#arrow-black)\"/>\n<path stroke-width=\"1.0\" stroke=\"black\" d=\"M 158 315 135 280\" marker-end=\"url(#arrow-black)\"/>\n<path stroke-width=\"1.0\" stroke=\"black\" d=\"M 437 177 458 200\" marker-end=\"url(#arrow-black)\"/>\n<path stroke-width=\"1.0\" stroke=\"black\" d=\"M 158 315 232 301\" marker-end=\"url(#arrow-black)\"/>\n<path stroke-width=\"1.0\" stroke=\"black\" d=\"M 347 49 347 65\" marker-end=\"url(#arrow-black)\"/>\n<path stroke-width=\"1.0\" stroke=\"black\" d=\"M 347 49 327 68\" marker-end=\"url(#arrow-black)\"/>\n<path stroke-width=\"1.0\" stroke=\"black\" d=\"M 347 49 311 48\" marker-end=\"url(#arrow-black)\"/>\n<path stroke-width=\"1.0\" stroke=\"black\" d=\"M 347 49 292 66\" marker-end=\"url(#arrow-black)\"/>\n<path stroke-width=\"1.0\" stroke=\"black\" d=\"M 347 49 388 101\" marker-end=\"url(#arrow-black)\"/>\n<path stroke-width=\"1.0\" stroke=\"black\" d=\"M 115 242 178 231\" marker-end=\"url(#arrow-black)\"/>\n<path stroke-width=\"1.0\" stroke=\"black\" d=\"M 115 242 89 212\" marker-end=\"url(#arrow-black)\"/>\n<path stroke-width=\"1.0\" stroke=\"black\" d=\"M 115 242 96 222\" marker-end=\"url(#arrow-black)\"/>\n<path stroke-width=\"1.0\" stroke=\"black\" d=\"M 115 242 133 257\" marker-end=\"url(#arrow-black)\"/>\n<path stroke-width=\"1.0\" stroke=\"black\" d=\"M 115 242 136 266\" marker-end=\"url(#arrow-black)\"/>\n<path stroke-width=\"1.0\" stroke=\"black\" d=\"M 437 177 446 191\" marker-end=\"url(#arrow-black)\"/>\n<path stroke-width=\"1.0\" stroke=\"black\" d=\"M 158 315 96 268\" marker-end=\"url(#arrow-black)\"/>\n<path stroke-width=\"1.0\" stroke=\"black\" d=\"M 383 125 353 126\" marker-end=\"url(#arrow-black)\"/>\n<path stroke-width=\"1.0\" stroke=\"black\" d=\"M 488 241 415 267\" marker-end=\"url(#arrow-black)\"/>\n<path stroke-width=\"1.0\" stroke=\"black\" d=\"M 488 241 547 257\" marker-end=\"url(#arrow-black)\"/>\n<path stroke-width=\"1.0\" stroke=\"black\" d=\"M 240 115 282 72\" marker-end=\"url(#arrow-black)\"/>\n<path stroke-width=\"1.0\" stroke=\"black\" d=\"M 299 352 217 325\" marker-end=\"url(#arrow-black)\"/>\n<path stroke-width=\"1.0\" stroke=\"black\" d=\"M 299 352 289 316\" marker-end=\"url(#arrow-black)\"/>\n<path stroke-width=\"1.0\" stroke=\"black\" d=\"M 299 352 258 277\" marker-end=\"url(#arrow-black)\"/>\n<path stroke-width=\"1.0\" stroke=\"black\" d=\"M 299 352 224 316\" marker-end=\"url(#arrow-black)\"/>\n<path stroke-width=\"1.0\" stroke=\"black\" d=\"M 299 352 344 334\" marker-end=\"url(#arrow-black)\"/>\n<path stroke-width=\"1.0\" stroke=\"black\" d=\"M 218 239 183 244\" marker-end=\"url(#arrow-black)\"/>\n<path stroke-width=\"1.0\" stroke=\"black\" d=\"M 218 239 250 267\" marker-end=\"url(#arrow-black)\"/>\n<path stroke-width=\"1.0\" stroke=\"black\" d=\"M 218 239 144 260\" marker-end=\"url(#arrow-black)\"/>\n<path stroke-width=\"1.0\" stroke=\"black\" d=\"M 218 239 194 213\" marker-end=\"url(#arrow-black)\"/>\n<path stroke-width=\"1.0\" stroke=\"black\" d=\"M 218 239 125 212\" marker-end=\"url(#arrow-black)\"/>\n<path stroke-width=\"1.0\" stroke=\"black\" d=\"M 441 112 353 73\" marker-end=\"url(#arrow-black)\"/>\n<path stroke-width=\"1.0\" stroke=\"black\" d=\"M 441 112 398 106\" marker-end=\"url(#arrow-black)\"/>\n<path stroke-width=\"1.0\" stroke=\"black\" d=\"M 441 112 437 171\" marker-end=\"url(#arrow-black)\"/>\n<path stroke-width=\"1.0\" stroke=\"black\" d=\"M 441 112 438 103\" marker-end=\"url(#arrow-black)\"/>\n<path stroke-width=\"1.0\" stroke=\"black\" d=\"M 441 112 444 124\" marker-end=\"url(#arrow-black)\"/>\n<path stroke-width=\"1.0\" stroke=\"black\" d=\"M 331 205 349 249\" marker-end=\"url(#arrow-black)\"/>\n<path stroke-width=\"1.0\" stroke=\"black\" d=\"M 331 205 319 230\" marker-end=\"url(#arrow-black)\"/>\n<path stroke-width=\"1.0\" stroke=\"black\" d=\"M 331 205 343 234\" marker-end=\"url(#arrow-black)\"/>\n<path stroke-width=\"1.0\" stroke=\"black\" d=\"M 331 205 379 222\" marker-end=\"url(#arrow-black)\"/>\n<path stroke-width=\"1.0\" stroke=\"black\" d=\"M 331 205 293 262\" marker-end=\"url(#arrow-black)\"/>\n<path stroke-width=\"1.0\" stroke=\"black\" d=\"M 402 202 426 222\" marker-end=\"url(#arrow-black)\"/>\n<path stroke-width=\"1.0\" stroke=\"black\" d=\"M 402 202 384 220\" marker-end=\"url(#arrow-black)\"/>\n<path stroke-width=\"1.0\" stroke=\"black\" d=\"M 240 115 229 186\" marker-end=\"url(#arrow-black)\"/>\n<path stroke-width=\"1.0\" stroke=\"black\" d=\"M 240 115 249 104\" marker-end=\"url(#arrow-black)\"/>\n<path stroke-width=\"1.0\" stroke=\"black\" d=\"M 240 115 266 79\" marker-end=\"url(#arrow-black)\"/>\n<path stroke-width=\"1.0\" stroke=\"black\" d=\"M 240 115 243 87\" marker-end=\"url(#arrow-black)\"/>\n<path stroke-width=\"1.0\" stroke=\"black\" d=\"M 138 261 120 246\" marker-end=\"url(#arrow-black)\"/>\n<path stroke-width=\"1.0\" stroke=\"black\" d=\"M 138 261 171 247\" marker-end=\"url(#arrow-black)\"/>\n<path stroke-width=\"1.0\" stroke=\"black\" d=\"M 138 261 97 221\" marker-end=\"url(#arrow-black)\"/>\n<path stroke-width=\"1.0\" stroke=\"black\" d=\"M 138 261 139 265\" marker-end=\"url(#arrow-black)\"/>\n<path stroke-width=\"1.0\" stroke=\"black\" d=\"M 220 42 280 65\" marker-end=\"url(#arrow-black)\"/>\n<path stroke-width=\"1.0\" stroke=\"black\" d=\"M 220 42 229 69\" marker-end=\"url(#arrow-black)\"/>\n<path stroke-width=\"1.0\" stroke=\"black\" d=\"M 220 42 265 71\" marker-end=\"url(#arrow-black)\"/>\n<path stroke-width=\"1.0\" stroke=\"black\" d=\"M 220 42 240 75\" marker-end=\"url(#arrow-black)\"/>\n<path stroke-width=\"1.0\" stroke=\"black\" d=\"M 220 42 299 48\" marker-end=\"url(#arrow-black)\"/>\n<path stroke-width=\"1.0\" stroke=\"black\" d=\"M 324 126 426 222\" marker-end=\"url(#arrow-black)\"/>\n<path stroke-width=\"1.0\" stroke=\"black\" d=\"M 324 126 397 198\" marker-end=\"url(#arrow-black)\"/>\n<path stroke-width=\"1.0\" stroke=\"black\" d=\"M 402 202 341 210\" marker-end=\"url(#arrow-black)\"/>\n<path stroke-width=\"1.0\" stroke=\"black\" d=\"M 324 126 419 112\" marker-end=\"url(#arrow-black)\"/>\n<path stroke-width=\"1.0\" stroke=\"black\" d=\"M 324 126 215 99\" marker-end=\"url(#arrow-black)\"/>\n<path stroke-width=\"1.0\" stroke=\"black\" d=\"M 380 273 258 215\" marker-end=\"url(#arrow-black)\"/>\n<path stroke-width=\"1.0\" stroke=\"black\" d=\"M 380 273 403 270\" marker-end=\"url(#arrow-black)\"/>\n<path stroke-width=\"1.0\" stroke=\"black\" d=\"M 380 273 444 271\" marker-end=\"url(#arrow-black)\"/>\n<path stroke-width=\"1.0\" stroke=\"black\" d=\"M 380 273 445 325\" marker-end=\"url(#arrow-black)\"/>\n<path stroke-width=\"1.0\" stroke=\"black\" d=\"M 380 273 365 245\" marker-end=\"url(#arrow-black)\"/>\n<path stroke-width=\"1.0\" stroke=\"black\" d=\"M 253 99 281 71\" marker-end=\"url(#arrow-black)\"/>\n<path stroke-width=\"1.0\" stroke=\"black\" d=\"M 253 99 244 110\" marker-end=\"url(#arrow-black)\"/>\n<path stroke-width=\"1.0\" stroke=\"black\" d=\"M 253 99 246 87\" marker-end=\"url(#arrow-black)\"/>\n<path stroke-width=\"1.0\" stroke=\"black\" d=\"M 253 99 341 73\" marker-end=\"url(#arrow-black)\"/>\n<path stroke-width=\"1.0\" stroke=\"black\" d=\"M 253 99 241 184\" marker-end=\"url(#arrow-black)\"/>\n<path stroke-width=\"1.0\" stroke=\"black\" d=\"M 324 126 377 219\" marker-end=\"url(#arrow-black)\"/>\n<path stroke-width=\"1.0\" stroke=\"black\" d=\"M 402 202 348 221\" marker-end=\"url(#arrow-black)\"/>\n<path stroke-width=\"1.0\" stroke=\"black\" d=\"M 402 202 367 235\" marker-end=\"url(#arrow-black)\"/>\n<path stroke-width=\"1.0\" stroke=\"black\" d=\"M 413 237 457 250\" marker-end=\"url(#arrow-black)\"/>\n<path stroke-width=\"1.0\" stroke=\"black\" d=\"M 270 74 341 71\" marker-end=\"url(#arrow-black)\"/>\n<path stroke-width=\"1.0\" stroke=\"black\" d=\"M 412 387 355 381\" marker-end=\"url(#arrow-black)\"/>\n<path stroke-width=\"1.0\" stroke=\"black\" d=\"M 412 387 447 334\" marker-end=\"url(#arrow-black)\"/>\n<path stroke-width=\"1.0\" stroke=\"black\" d=\"M 412 387 355 336\" marker-end=\"url(#arrow-black)\"/>\n<path stroke-width=\"1.0\" stroke=\"black\" d=\"M 412 387 406 404\" marker-end=\"url(#arrow-black)\"/>\n<path stroke-width=\"1.0\" stroke=\"black\" d=\"M 412 387 326 437\" marker-end=\"url(#arrow-black)\"/>\n<path stroke-width=\"1.0\" stroke=\"black\" d=\"M 43 143 39 141\" marker-end=\"url(#arrow-black)\"/>\n<path stroke-width=\"1.0\" stroke=\"black\" d=\"M 43 143 77 138\" marker-end=\"url(#arrow-black)\"/>\n<path stroke-width=\"1.0\" stroke=\"black\" d=\"M 43 143 89 258\" marker-end=\"url(#arrow-black)\"/>\n<path stroke-width=\"1.0\" stroke=\"black\" d=\"M 43 143 36 95\" marker-end=\"url(#arrow-black)\"/>\n<path stroke-width=\"1.0\" stroke=\"black\" d=\"M 43 143 43 103\" marker-end=\"url(#arrow-black)\"/>\n<path stroke-width=\"1.0\" stroke=\"black\" d=\"M 270 74 244 110\" marker-end=\"url(#arrow-black)\"/>\n<path stroke-width=\"1.0\" stroke=\"black\" d=\"M 493 167 475 155\" marker-end=\"url(#arrow-black)\"/>\n<path stroke-width=\"1.0\" stroke=\"black\" d=\"M 493 167 443 176\" marker-end=\"url(#arrow-black)\"/>\n<path stroke-width=\"1.0\" stroke=\"black\" d=\"M 493 167 466 200\" marker-end=\"url(#arrow-black)\"/>\n<path stroke-width=\"1.0\" stroke=\"black\" d=\"M 493 167 431 209\" marker-end=\"url(#arrow-black)\"/>\n<path stroke-width=\"1.0\" stroke=\"black\" d=\"M 291 410 270 440\" marker-end=\"url(#arrow-black)\"/>\n<path stroke-width=\"1.0\" stroke=\"black\" d=\"M 291 410 287 441\" marker-end=\"url(#arrow-black)\"/>\n<path stroke-width=\"1.0\" stroke=\"black\" d=\"M 291 410 269 454\" marker-end=\"url(#arrow-black)\"/>\n<path stroke-width=\"1.0\" stroke=\"black\" d=\"M 291 410 258 448\" marker-end=\"url(#arrow-black)\"/>\n<path stroke-width=\"1.0\" stroke=\"black\" d=\"M 291 410 349 261\" marker-end=\"url(#arrow-black)\"/>\n<path stroke-width=\"1.0\" stroke=\"black\" d=\"M 524 154 538 108\" marker-end=\"url(#arrow-black)\"/>\n<path stroke-width=\"1.0\" stroke=\"black\" d=\"M 524 154 569 91\" marker-end=\"url(#arrow-black)\"/>\n<path stroke-width=\"1.0\" stroke=\"black\" d=\"M 524 154 498 171\" marker-end=\"url(#arrow-black)\"/>\n<path stroke-width=\"1.0\" stroke=\"black\" d=\"M 493 167 455 193\" marker-end=\"url(#arrow-black)\"/>\n<path stroke-width=\"1.0\" stroke=\"black\" d=\"M 138 261 97 264\" marker-end=\"url(#arrow-black)\"/>\n<path stroke-width=\"1.0\" stroke=\"black\" d=\"M 270 74 317 73\" marker-end=\"url(#arrow-black)\"/>\n<path stroke-width=\"1.0\" stroke=\"black\" d=\"M 270 74 280 69\" marker-end=\"url(#arrow-black)\"/>\n<path stroke-width=\"1.0\" stroke=\"black\" d=\"M 413 237 375 246\" marker-end=\"url(#arrow-black)\"/>\n<path stroke-width=\"1.0\" stroke=\"black\" d=\"M 413 237 445 267\" marker-end=\"url(#arrow-black)\"/>\n<path stroke-width=\"1.0\" stroke=\"black\" d=\"M 413 237 409 263\" marker-end=\"url(#arrow-black)\"/>\n<path stroke-width=\"1.0\" stroke=\"black\" d=\"M 413 237 386 273\" marker-end=\"url(#arrow-black)\"/>\n<path stroke-width=\"1.0\" stroke=\"black\" d=\"M 335 210 358 234\" marker-end=\"url(#arrow-black)\"/>\n<path stroke-width=\"1.0\" stroke=\"black\" d=\"M 335 210 396 202\" marker-end=\"url(#arrow-black)\"/>\n<path stroke-width=\"1.0\" stroke=\"black\" d=\"M 335 210 339 217\" marker-end=\"url(#arrow-black)\"/>\n<path stroke-width=\"1.0\" stroke=\"black\" d=\"M 335 210 374 223\" marker-end=\"url(#arrow-black)\"/>\n<path stroke-width=\"1.0\" stroke=\"black\" d=\"M 335 210 425 225\" marker-end=\"url(#arrow-black)\"/>\n<path stroke-width=\"1.0\" stroke=\"black\" d=\"M 255 229 243 196\" marker-end=\"url(#arrow-black)\"/>\n<path stroke-width=\"1.0\" stroke=\"black\" d=\"M 255 229 345 254\" marker-end=\"url(#arrow-black)\"/>\n<path stroke-width=\"1.0\" stroke=\"black\" d=\"M 270 74 332 97\" marker-end=\"url(#arrow-black)\"/>\n<path stroke-width=\"1.0\" stroke=\"black\" d=\"M 255 229 232 197\" marker-end=\"url(#arrow-black)\"/>\n<path stroke-width=\"1.0\" stroke=\"black\" d=\"M 255 229 197 219\" marker-end=\"url(#arrow-black)\"/>\n<path stroke-width=\"1.0\" stroke=\"black\" d=\"M 288 310 217 322\" marker-end=\"url(#arrow-black)\"/>\n<path stroke-width=\"1.0\" stroke=\"black\" d=\"M 288 310 259 276\" marker-end=\"url(#arrow-black)\"/>\n<path stroke-width=\"1.0\" stroke=\"black\" d=\"M 288 310 298 346\" marker-end=\"url(#arrow-black)\"/>\n<path stroke-width=\"1.0\" stroke=\"black\" d=\"M 288 310 299 257\" marker-end=\"url(#arrow-black)\"/>\n<path stroke-width=\"1.0\" stroke=\"black\" d=\"M 288 310 183 248\" marker-end=\"url(#arrow-black)\"/>\n<path stroke-width=\"1.0\" stroke=\"black\" d=\"M 492 174 518 157\" marker-end=\"url(#arrow-black)\"/>\n<path stroke-width=\"1.0\" stroke=\"black\" d=\"M 492 174 375 244\" marker-end=\"url(#arrow-black)\"/>\n<path stroke-width=\"1.0\" stroke=\"black\" d=\"M 492 174 497 81\" marker-end=\"url(#arrow-black)\"/>\n<path stroke-width=\"1.0\" stroke=\"black\" d=\"M 492 174 536 107\" marker-end=\"url(#arrow-black)\"/>\n<path stroke-width=\"1.0\" stroke=\"black\" d=\"M 492 174 418 233\" marker-end=\"url(#arrow-black)\"/>\n<path stroke-width=\"1.0\" stroke=\"black\" d=\"M 255 229 199 240\" marker-end=\"url(#arrow-black)\"/>\n<path stroke-width=\"1.0\" stroke=\"black\" d=\"M 254 453 261 457\" marker-end=\"url(#arrow-black)\"/>\n<path stroke-width=\"1.0\" stroke=\"black\" d=\"M 254 453 287 415\" marker-end=\"url(#arrow-black)\"/>\n<path stroke-width=\"1.0\" stroke=\"black\" d=\"M 254 453 281 448\" marker-end=\"url(#arrow-black)\"/>\n<path stroke-width=\"1.0\" stroke=\"black\" d=\"M 577 51 573 80\" marker-end=\"url(#arrow-black)\"/>\n<path stroke-width=\"1.0\" stroke=\"black\" d=\"M 577 51 558 66\" marker-end=\"url(#arrow-black)\"/>\n<path stroke-width=\"1.0\" stroke=\"black\" d=\"M 577 51 584 110\" marker-end=\"url(#arrow-black)\"/>\n<path stroke-width=\"1.0\" stroke=\"black\" d=\"M 317 236 329 211\" marker-end=\"url(#arrow-black)\"/>\n<path stroke-width=\"1.0\" stroke=\"black\" d=\"M 317 236 431 180\" marker-end=\"url(#arrow-black)\"/>\n<path stroke-width=\"1.0\" stroke=\"black\" d=\"M 317 236 344 177\" marker-end=\"url(#arrow-black)\"/>\n<path stroke-width=\"1.0\" stroke=\"black\" d=\"M 317 236 379 225\" marker-end=\"url(#arrow-black)\"/>\n<path stroke-width=\"1.0\" stroke=\"black\" d=\"M 317 236 444 198\" marker-end=\"url(#arrow-black)\"/>\n<path stroke-width=\"1.0\" stroke=\"black\" d=\"M 438 229 430 217\" marker-end=\"url(#arrow-black)\"/>\n<path stroke-width=\"1.0\" stroke=\"black\" d=\"M 438 229 351 240\" marker-end=\"url(#arrow-black)\"/>\n<path stroke-width=\"1.0\" stroke=\"black\" d=\"M 438 229 421 198\" marker-end=\"url(#arrow-black)\"/>\n<path stroke-width=\"1.0\" stroke=\"black\" d=\"M 577 51 530 46\" marker-end=\"url(#arrow-black)\"/>\n<path stroke-width=\"1.0\" stroke=\"black\" d=\"M 438 229 357 253\" marker-end=\"url(#arrow-black)\"/>\n<path stroke-width=\"1.0\" stroke=\"black\" d=\"M 99 135 76 139\" marker-end=\"url(#arrow-black)\"/>\n<path stroke-width=\"1.0\" stroke=\"black\" d=\"M 99 135 129 166\" marker-end=\"url(#arrow-black)\"/>\n<path stroke-width=\"1.0\" stroke=\"black\" d=\"M 99 135 118 205\" marker-end=\"url(#arrow-black)\"/>\n<path stroke-width=\"1.0\" stroke=\"black\" d=\"M 99 135 93 154\" marker-end=\"url(#arrow-black)\"/>\n<path stroke-width=\"1.0\" stroke=\"black\" d=\"M 99 135 112 150\" marker-end=\"url(#arrow-black)\"/>\n<path stroke-width=\"1.0\" stroke=\"black\" d=\"M 243 289 192 295\" marker-end=\"url(#arrow-black)\"/>\n<path stroke-width=\"1.0\" stroke=\"black\" d=\"M 243 289 240 294\" marker-end=\"url(#arrow-black)\"/>\n<path stroke-width=\"1.0\" stroke=\"black\" d=\"M 243 289 287 259\" marker-end=\"url(#arrow-black)\"/>\n<path stroke-width=\"1.0\" stroke=\"black\" d=\"M 243 289 339 243\" marker-end=\"url(#arrow-black)\"/>\n<path stroke-width=\"1.0\" stroke=\"black\" d=\"M 243 289 273 287\" marker-end=\"url(#arrow-black)\"/>\n<path stroke-width=\"1.0\" stroke=\"black\" d=\"M 152 203 75 144\" marker-end=\"url(#arrow-black)\"/>\n<path stroke-width=\"1.0\" stroke=\"black\" d=\"M 438 229 476 196\" marker-end=\"url(#arrow-black)\"/>\n<path stroke-width=\"1.0\" stroke=\"black\" d=\"M 152 203 97 164\" marker-end=\"url(#arrow-black)\"/>\n<path stroke-width=\"1.0\" stroke=\"black\" d=\"M 577 51 575 53\" marker-end=\"url(#arrow-black)\"/>\n<path stroke-width=\"1.0\" stroke=\"black\" d=\"M 109 284 93 223\" marker-end=\"url(#arrow-black)\"/>\n<path stroke-width=\"1.0\" stroke=\"black\" d=\"M 488 241 386 225\" marker-end=\"url(#arrow-black)\"/>\n<path stroke-width=\"1.0\" stroke=\"black\" d=\"M 537 279 549 263\" marker-end=\"url(#arrow-black)\"/>\n<path stroke-width=\"1.0\" stroke=\"black\" d=\"M 537 279 601 248\" marker-end=\"url(#arrow-black)\"/>\n<path stroke-width=\"1.0\" stroke=\"black\" d=\"M 537 279 541 216\" marker-end=\"url(#arrow-black)\"/>\n<path stroke-width=\"1.0\" stroke=\"black\" d=\"M 537 279 437 229\" marker-end=\"url(#arrow-black)\"/>\n<path stroke-width=\"1.0\" stroke=\"black\" d=\"M 537 279 456 326\" marker-end=\"url(#arrow-black)\"/>\n<path stroke-width=\"1.0\" stroke=\"black\" d=\"M 340 418 283 407\" marker-end=\"url(#arrow-black)\"/>\n<path stroke-width=\"1.0\" stroke=\"black\" d=\"M 340 418 398 410\" marker-end=\"url(#arrow-black)\"/>\n<path stroke-width=\"1.0\" stroke=\"black\" d=\"M 340 418 293 444\" marker-end=\"url(#arrow-black)\"/>\n<path stroke-width=\"1.0\" stroke=\"black\" d=\"M 340 418 302 357\" marker-end=\"url(#arrow-black)\"/>\n<path stroke-width=\"1.0\" stroke=\"black\" d=\"M 340 418 348 387\" marker-end=\"url(#arrow-black)\"/>\n<path stroke-width=\"1.0\" stroke=\"black\" d=\"M 109 284 114 248\" marker-end=\"url(#arrow-black)\"/>\n<path stroke-width=\"1.0\" stroke=\"black\" d=\"M 313 286 249 266\" marker-end=\"url(#arrow-black)\"/>\n<path stroke-width=\"1.0\" stroke=\"black\" d=\"M 313 286 334 282\" marker-end=\"url(#arrow-black)\"/>\n<path stroke-width=\"1.0\" stroke=\"black\" d=\"M 313 286 261 272\" marker-end=\"url(#arrow-black)\"/>\n<path stroke-width=\"1.0\" stroke=\"black\" d=\"M 313 286 293 306\" marker-end=\"url(#arrow-black)\"/>\n<path stroke-width=\"1.0\" stroke=\"black\" d=\"M 243 81 240 109\" marker-end=\"url(#arrow-black)\"/>\n<path stroke-width=\"1.0\" stroke=\"black\" d=\"M 243 81 280 69\" marker-end=\"url(#arrow-black)\"/>\n<path stroke-width=\"1.0\" stroke=\"black\" d=\"M 243 81 250 93\" marker-end=\"url(#arrow-black)\"/>\n<path stroke-width=\"1.0\" stroke=\"black\" d=\"M 243 81 264 75\" marker-end=\"url(#arrow-black)\"/>\n<path stroke-width=\"1.0\" stroke=\"black\" d=\"M 243 81 236 78\" marker-end=\"url(#arrow-black)\"/>\n<path stroke-width=\"1.0\" stroke=\"black\" d=\"M 109 284 95 269\" marker-end=\"url(#arrow-black)\"/>\n<path stroke-width=\"1.0\" stroke=\"black\" d=\"M 109 284 133 265\" marker-end=\"url(#arrow-black)\"/>\n<path stroke-width=\"1.0\" stroke=\"black\" d=\"M 109 284 134 273\" marker-end=\"url(#arrow-black)\"/>\n<path stroke-width=\"1.0\" stroke=\"black\" d=\"M 313 286 266 261\" marker-end=\"url(#arrow-black)\"/>\n<path stroke-width=\"1.0\" stroke=\"black\" d=\"M 488 241 545 152\" marker-end=\"url(#arrow-black)\"/>\n<path stroke-width=\"1.0\" stroke=\"black\" d=\"M 152 203 120 160\" marker-end=\"url(#arrow-black)\"/>\n<path stroke-width=\"1.0\" stroke=\"black\" d=\"M 152 203 103 140\" marker-end=\"url(#arrow-black)\"/>\n<path stroke-width=\"1.0\" stroke=\"black\" d=\"M 277 406 286 441\" marker-end=\"url(#arrow-black)\"/>\n<path stroke-width=\"1.0\" stroke=\"black\" d=\"M 277 406 297 358\" marker-end=\"url(#arrow-black)\"/>\n<path stroke-width=\"1.0\" stroke=\"black\" d=\"M 573 138 528 93\" marker-end=\"url(#arrow-black)\"/>\n<path stroke-width=\"1.0\" stroke=\"black\" d=\"M 573 138 587 161\" marker-end=\"url(#arrow-black)\"/>\n<path stroke-width=\"1.0\" stroke=\"black\" d=\"M 573 138 581 122\" marker-end=\"url(#arrow-black)\"/>\n<path stroke-width=\"1.0\" stroke=\"black\" d=\"M 573 138 587 124\" marker-end=\"url(#arrow-black)\"/>\n<path stroke-width=\"1.0\" stroke=\"black\" d=\"M 573 138 554 145\" marker-end=\"url(#arrow-black)\"/>\n<path stroke-width=\"1.0\" stroke=\"black\" d=\"M 574 249 559 256\" marker-end=\"url(#arrow-black)\"/>\n<path stroke-width=\"1.0\" stroke=\"black\" d=\"M 574 249 545 215\" marker-end=\"url(#arrow-black)\"/>\n<path stroke-width=\"1.0\" stroke=\"black\" d=\"M 574 249 542 275\" marker-end=\"url(#arrow-black)\"/>\n<path stroke-width=\"1.0\" stroke=\"black\" d=\"M 574 249 589 173\" marker-end=\"url(#arrow-black)\"/>\n<path stroke-width=\"1.0\" stroke=\"black\" d=\"M 277 406 268 439\" marker-end=\"url(#arrow-black)\"/>\n<path stroke-width=\"1.0\" stroke=\"black\" d=\"M 574 249 456 270\" marker-end=\"url(#arrow-black)\"/>\n<path stroke-width=\"1.0\" stroke=\"black\" d=\"M 320 440 260 452\" marker-end=\"url(#arrow-black)\"/>\n<path stroke-width=\"1.0\" stroke=\"black\" d=\"M 320 440 274 467\" marker-end=\"url(#arrow-black)\"/>\n<path stroke-width=\"1.0\" stroke=\"black\" d=\"M 320 440 273 445\" marker-end=\"url(#arrow-black)\"/>\n<path stroke-width=\"1.0\" stroke=\"black\" d=\"M 320 440 295 414\" marker-end=\"url(#arrow-black)\"/>\n<path stroke-width=\"1.0\" stroke=\"black\" d=\"M 479 50 484 48\" marker-end=\"url(#arrow-black)\"/>\n<path stroke-width=\"1.0\" stroke=\"black\" d=\"M 479 50 493 70\" marker-end=\"url(#arrow-black)\"/>\n<path stroke-width=\"1.0\" stroke=\"black\" d=\"M 479 50 519 85\" marker-end=\"url(#arrow-black)\"/>\n<path stroke-width=\"1.0\" stroke=\"black\" d=\"M 479 50 553 61\" marker-end=\"url(#arrow-black)\"/>\n<path stroke-width=\"1.0\" stroke=\"black\" d=\"M 479 50 501 53\" marker-end=\"url(#arrow-black)\"/>\n<path stroke-width=\"1.0\" stroke=\"black\" d=\"M 254 453 264 465\" marker-end=\"url(#arrow-black)\"/>\n<path stroke-width=\"1.0\" stroke=\"black\" d=\"M 254 453 314 441\" marker-end=\"url(#arrow-black)\"/>\n<path stroke-width=\"1.0\" stroke=\"black\" d=\"M 320 440 293 446\" marker-end=\"url(#arrow-black)\"/>\n<path stroke-width=\"1.0\" stroke=\"black\" d=\"M 152 203 212 236\" marker-end=\"url(#arrow-black)\"/>\n<path stroke-width=\"1.0\" stroke=\"black\" d=\"M 277 406 267 335\" marker-end=\"url(#arrow-black)\"/>\n<path stroke-width=\"1.0\" stroke=\"black\" d=\"M 470 151 463 199\" marker-end=\"url(#arrow-black)\"/>\n<path stroke-width=\"1.0\" stroke=\"black\" d=\"M 392 106 464 148\" marker-end=\"url(#arrow-black)\"/>\n<path stroke-width=\"1.0\" stroke=\"black\" d=\"M 392 106 440 128\" marker-end=\"url(#arrow-black)\"/>\n<path stroke-width=\"1.0\" stroke=\"black\" d=\"M 392 106 352 75\" marker-end=\"url(#arrow-black)\"/>\n<path stroke-width=\"1.0\" stroke=\"black\" d=\"M 392 106 386 119\" marker-end=\"url(#arrow-black)\"/>\n<path stroke-width=\"1.0\" stroke=\"black\" d=\"M 392 106 350 166\" marker-end=\"url(#arrow-black)\"/>\n<path stroke-width=\"1.0\" stroke=\"black\" d=\"M 615 203 619 188\" marker-end=\"url(#arrow-black)\"/>\n<path stroke-width=\"1.0\" stroke=\"black\" d=\"M 615 203 593 172\" marker-end=\"url(#arrow-black)\"/>\n<path stroke-width=\"1.0\" stroke=\"black\" d=\"M 615 203 547 210\" marker-end=\"url(#arrow-black)\"/>\n<path stroke-width=\"1.0\" stroke=\"black\" d=\"M 615 203 608 240\" marker-end=\"url(#arrow-black)\"/>\n<path stroke-width=\"1.0\" stroke=\"black\" d=\"M 615 203 553 151\" marker-end=\"url(#arrow-black)\"/>\n<path stroke-width=\"1.0\" stroke=\"black\" d=\"M 230 75 280 67\" marker-end=\"url(#arrow-black)\"/>\n<path stroke-width=\"1.0\" stroke=\"black\" d=\"M 277 406 334 417\" marker-end=\"url(#arrow-black)\"/>\n<path stroke-width=\"1.0\" stroke=\"black\" d=\"M 230 75 264 74\" marker-end=\"url(#arrow-black)\"/>\n<path stroke-width=\"1.0\" stroke=\"black\" d=\"M 230 75 249 94\" marker-end=\"url(#arrow-black)\"/>\n<path stroke-width=\"1.0\" stroke=\"black\" d=\"M 230 75 299 50\" marker-end=\"url(#arrow-black)\"/>\n<path stroke-width=\"1.0\" stroke=\"black\" d=\"M 338 99 276 76\" marker-end=\"url(#arrow-black)\"/>\n<path stroke-width=\"1.0\" stroke=\"black\" d=\"M 338 99 377 122\" marker-end=\"url(#arrow-black)\"/>\n<path stroke-width=\"1.0\" stroke=\"black\" d=\"M 338 99 345 120\" marker-end=\"url(#arrow-black)\"/>\n<path stroke-width=\"1.0\" stroke=\"black\" d=\"M 338 99 291 70\" marker-end=\"url(#arrow-black)\"/>\n<path stroke-width=\"1.0\" stroke=\"black\" d=\"M 338 99 372 134\" marker-end=\"url(#arrow-black)\"/>\n<path stroke-width=\"1.0\" stroke=\"black\" d=\"M 470 151 398 109\" marker-end=\"url(#arrow-black)\"/>\n<path stroke-width=\"1.0\" stroke=\"black\" d=\"M 470 151 488 163\" marker-end=\"url(#arrow-black)\"/>\n<path stroke-width=\"1.0\" stroke=\"black\" d=\"M 470 151 452 190\" marker-end=\"url(#arrow-black)\"/>\n<path stroke-width=\"1.0\" stroke=\"black\" d=\"M 470 151 442 173\" marker-end=\"url(#arrow-black)\"/>\n<path stroke-width=\"1.0\" stroke=\"black\" d=\"M 230 75 265 155\" marker-end=\"url(#arrow-black)\"/>\n<path stroke-width=\"1.0\" stroke=\"black\" d=\"M 383 125 297 171\" marker-end=\"url(#arrow-black)\"/>\n<circle cx=\"540\" cy=\"20\" r=\"7.0\" style=\"fill:green;stroke:black;stroke-width:1.0\"/>\n<circle cx=\"80\" cy=\"239\" r=\"7.0\" style=\"fill:red;stroke:black;stroke-width:1.0\"/>\n<circle cx=\"539\" cy=\"102\" r=\"7.0\" style=\"fill:green;stroke:black;stroke-width:1.0\"/>\n<circle cx=\"490\" cy=\"46\" r=\"7.0\" style=\"fill:green;stroke:black;stroke-width:1.0\"/>\n<circle cx=\"181\" cy=\"302\" r=\"7.0\" style=\"fill:red;stroke:black;stroke-width:1.0\"/>\n<circle cx=\"350\" cy=\"332\" r=\"7.0\" style=\"fill:red;stroke:black;stroke-width:1.0\"/>\n<circle cx=\"402\" cy=\"149\" r=\"7.0\" style=\"fill:blue;stroke:black;stroke-width:1.0\"/>\n<circle cx=\"286\" cy=\"67\" r=\"7.0\" style=\"fill:blue;stroke:black;stroke-width:1.0\"/>\n<circle cx=\"607\" cy=\"246\" r=\"7.0\" style=\"fill:green;stroke:black;stroke-width:1.0\"/>\n<circle cx=\"176\" cy=\"218\" r=\"7.0\" style=\"fill:blue;stroke:black;stroke-width:1.0\"/>\n<circle cx=\"268\" cy=\"470\" r=\"7.0\" style=\"fill:blue;stroke:black;stroke-width:1.0\"/>\n<circle cx=\"382\" cy=\"278\" r=\"7.0\" style=\"fill:green;stroke:black;stroke-width:1.0\"/>\n<circle cx=\"85\" cy=\"207\" r=\"7.0\" style=\"fill:red;stroke:black;stroke-width:1.0\"/>\n<circle cx=\"158\" cy=\"315\" r=\"7.0\" style=\"fill:red;stroke:black;stroke-width:1.0\"/>\n<circle cx=\"347\" cy=\"49\" r=\"7.0\" style=\"fill:blue;stroke:black;stroke-width:1.0\"/>\n<circle cx=\"115\" cy=\"242\" r=\"7.0\" style=\"fill:red;stroke:black;stroke-width:1.0\"/>\n<circle cx=\"437\" cy=\"177\" r=\"7.0\" style=\"fill:blue;stroke:black;stroke-width:1.0\"/>\n<circle cx=\"20\" cy=\"119\" r=\"7.0\" style=\"fill:red;stroke:black;stroke-width:1.0\"/>\n<circle cx=\"340\" cy=\"281\" r=\"7.0\" style=\"fill:red;stroke:black;stroke-width:1.0\"/>\n<circle cx=\"191\" cy=\"218\" r=\"7.0\" style=\"fill:blue;stroke:black;stroke-width:1.0\"/>\n<circle cx=\"444\" cy=\"52\" r=\"7.0\" style=\"fill:green;stroke:black;stroke-width:1.0\"/>\n<circle cx=\"70\" cy=\"140\" r=\"7.0\" style=\"fill:red;stroke:black;stroke-width:1.0\"/>\n<circle cx=\"241\" cy=\"190\" r=\"7.0\" style=\"fill:blue;stroke:black;stroke-width:1.0\"/>\n<circle cx=\"260\" cy=\"258\" r=\"7.0\" style=\"fill:red;stroke:black;stroke-width:1.0\"/>\n<circle cx=\"339\" cy=\"197\" r=\"7.0\" style=\"fill:blue;stroke:black;stroke-width:1.0\"/>\n<circle cx=\"243\" cy=\"264\" r=\"7.0\" style=\"fill:red;stroke:black;stroke-width:1.0\"/>\n<circle cx=\"404\" cy=\"410\" r=\"7.0\" style=\"fill:red;stroke:black;stroke-width:1.0\"/>\n<circle cx=\"211\" cy=\"292\" r=\"7.0\" style=\"fill:red;stroke:black;stroke-width:1.0\"/>\n<circle cx=\"190\" cy=\"208\" r=\"7.0\" style=\"fill:red;stroke:black;stroke-width:1.0\"/>\n<circle cx=\"92\" cy=\"217\" r=\"7.0\" style=\"fill:red;stroke:black;stroke-width:1.0\"/>\n<circle cx=\"261\" cy=\"177\" r=\"7.0\" style=\"fill:blue;stroke:black;stroke-width:1.0\"/>\n<circle cx=\"195\" cy=\"270\" r=\"7.0\" style=\"fill:red;stroke:black;stroke-width:1.0\"/>\n<circle cx=\"82\" cy=\"222\" r=\"7.0\" style=\"fill:red;stroke:black;stroke-width:1.0\"/>\n<circle cx=\"129\" cy=\"193\" r=\"7.0\" style=\"fill:red;stroke:black;stroke-width:1.0\"/>\n<circle cx=\"347\" cy=\"126\" r=\"7.0\" style=\"fill:blue;stroke:black;stroke-width:1.0\"/>\n<circle cx=\"313\" cy=\"32\" r=\"7.0\" style=\"fill:blue;stroke:black;stroke-width:1.0\"/>\n<circle cx=\"140\" cy=\"271\" r=\"7.0\" style=\"fill:red;stroke:black;stroke-width:1.0\"/>\n<circle cx=\"279\" cy=\"287\" r=\"7.0\" style=\"fill:red;stroke:black;stroke-width:1.0\"/>\n<circle cx=\"425\" cy=\"112\" r=\"7.0\" style=\"fill:green;stroke:black;stroke-width:1.0\"/>\n<circle cx=\"70\" cy=\"183\" r=\"7.0\" style=\"fill:red;stroke:black;stroke-width:1.0\"/>\n<circle cx=\"86\" cy=\"176\" r=\"7.0\" style=\"fill:red;stroke:black;stroke-width:1.0\"/>\n<circle cx=\"79\" cy=\"68\" r=\"7.0\" style=\"fill:red;stroke:black;stroke-width:1.0\"/>\n<circle cx=\"620\" cy=\"182\" r=\"7.0\" style=\"fill:green;stroke:black;stroke-width:1.0\"/>\n<circle cx=\"92\" cy=\"160\" r=\"7.0\" style=\"fill:red;stroke:black;stroke-width:1.0\"/>\n<circle cx=\"488\" cy=\"241\" r=\"7.0\" style=\"fill:green;stroke:black;stroke-width:1.0\"/>\n<circle cx=\"537\" cy=\"279\" r=\"7.0\" style=\"fill:green;stroke:black;stroke-width:1.0\"/>\n<circle cx=\"340\" cy=\"418\" r=\"7.0\" style=\"fill:red;stroke:black;stroke-width:1.0\"/>\n<circle cx=\"313\" cy=\"286\" r=\"7.0\" style=\"fill:red;stroke:black;stroke-width:1.0\"/>\n<circle cx=\"243\" cy=\"81\" r=\"7.0\" style=\"fill:blue;stroke:black;stroke-width:1.0\"/>\n<circle cx=\"109\" cy=\"284\" r=\"7.0\" style=\"fill:red;stroke:black;stroke-width:1.0\"/>\n<circle cx=\"577\" cy=\"51\" r=\"7.0\" style=\"fill:green;stroke:black;stroke-width:1.0\"/>\n<circle cx=\"317\" cy=\"236\" r=\"7.0\" style=\"fill:blue;stroke:black;stroke-width:1.0\"/>\n<circle cx=\"438\" cy=\"229\" r=\"7.0\" style=\"fill:blue;stroke:black;stroke-width:1.0\"/>\n<circle cx=\"99\" cy=\"135\" r=\"7.0\" style=\"fill:red;stroke:black;stroke-width:1.0\"/>\n<circle cx=\"243\" cy=\"289\" r=\"7.0\" style=\"fill:red;stroke:black;stroke-width:1.0\"/>\n<circle cx=\"152\" cy=\"203\" r=\"7.0\" style=\"fill:red;stroke:black;stroke-width:1.0\"/>\n<circle cx=\"392\" cy=\"106\" r=\"7.0\" style=\"fill:blue;stroke:black;stroke-width:1.0\"/>\n<circle cx=\"615\" cy=\"203\" r=\"7.0\" style=\"fill:green;stroke:black;stroke-width:1.0\"/>\n<circle cx=\"230\" cy=\"75\" r=\"7.0\" style=\"fill:blue;stroke:black;stroke-width:1.0\"/>\n<circle cx=\"338\" cy=\"99\" r=\"7.0\" style=\"fill:blue;stroke:black;stroke-width:1.0\"/>\n<circle cx=\"470\" cy=\"151\" r=\"7.0\" style=\"fill:blue;stroke:black;stroke-width:1.0\"/>\n<circle cx=\"277\" cy=\"406\" r=\"7.0\" style=\"fill:red;stroke:black;stroke-width:1.0\"/>\n<circle cx=\"573\" cy=\"138\" r=\"7.0\" style=\"fill:green;stroke:black;stroke-width:1.0\"/>\n<circle cx=\"574\" cy=\"249\" r=\"7.0\" style=\"fill:green;stroke:black;stroke-width:1.0\"/>\n<circle cx=\"320\" cy=\"440\" r=\"7.0\" style=\"fill:blue;stroke:black;stroke-width:1.0\"/>\n<circle cx=\"479\" cy=\"50\" r=\"7.0\" style=\"fill:green;stroke:black;stroke-width:1.0\"/>\n<circle cx=\"254\" cy=\"453\" r=\"7.0\" style=\"fill:blue;stroke:black;stroke-width:1.0\"/>\n<circle cx=\"138\" cy=\"261\" r=\"7.0\" style=\"fill:red;stroke:black;stroke-width:1.0\"/>\n<circle cx=\"220\" cy=\"42\" r=\"7.0\" style=\"fill:blue;stroke:black;stroke-width:1.0\"/>\n<circle cx=\"324\" cy=\"126\" r=\"7.0\" style=\"fill:green;stroke:black;stroke-width:1.0\"/>\n<circle cx=\"380\" cy=\"273\" r=\"7.0\" style=\"fill:green;stroke:black;stroke-width:1.0\"/>\n<circle cx=\"253\" cy=\"99\" r=\"7.0\" style=\"fill:blue;stroke:black;stroke-width:1.0\"/>\n<circle cx=\"240\" cy=\"115\" r=\"7.0\" style=\"fill:blue;stroke:black;stroke-width:1.0\"/>\n<circle cx=\"299\" cy=\"352\" r=\"7.0\" style=\"fill:red;stroke:black;stroke-width:1.0\"/>\n<circle cx=\"218\" cy=\"239\" r=\"7.0\" style=\"fill:red;stroke:black;stroke-width:1.0\"/>\n<circle cx=\"441\" cy=\"112\" r=\"7.0\" style=\"fill:blue;stroke:black;stroke-width:1.0\"/>\n<circle cx=\"331\" cy=\"205\" r=\"7.0\" style=\"fill:blue;stroke:black;stroke-width:1.0\"/>\n<circle cx=\"402\" cy=\"202\" r=\"7.0\" style=\"fill:green;stroke:black;stroke-width:1.0\"/>\n<circle cx=\"413\" cy=\"237\" r=\"7.0\" style=\"fill:green;stroke:black;stroke-width:1.0\"/>\n<circle cx=\"335\" cy=\"210\" r=\"7.0\" style=\"fill:green;stroke:black;stroke-width:1.0\"/>\n<circle cx=\"255\" cy=\"229\" r=\"7.0\" style=\"fill:blue;stroke:black;stroke-width:1.0\"/>\n<circle cx=\"288\" cy=\"310\" r=\"7.0\" style=\"fill:red;stroke:black;stroke-width:1.0\"/>\n<circle cx=\"492\" cy=\"174\" r=\"7.0\" style=\"fill:green;stroke:black;stroke-width:1.0\"/>\n<circle cx=\"270\" cy=\"74\" r=\"7.0\" style=\"fill:blue;stroke:black;stroke-width:1.0\"/>\n<circle cx=\"412\" cy=\"387\" r=\"7.0\" style=\"fill:red;stroke:black;stroke-width:1.0\"/>\n<circle cx=\"43\" cy=\"143\" r=\"7.0\" style=\"fill:red;stroke:black;stroke-width:1.0\"/>\n<circle cx=\"493\" cy=\"167\" r=\"7.0\" style=\"fill:blue;stroke:black;stroke-width:1.0\"/>\n<circle cx=\"291\" cy=\"410\" r=\"7.0\" style=\"fill:blue;stroke:black;stroke-width:1.0\"/>\n<circle cx=\"524\" cy=\"154\" r=\"7.0\" style=\"fill:green;stroke:black;stroke-width:1.0\"/>\n<circle cx=\"553\" cy=\"258\" r=\"7.0\" style=\"fill:green;stroke:black;stroke-width:1.0\"/>\n<circle cx=\"119\" cy=\"211\" r=\"7.0\" style=\"fill:red;stroke:black;stroke-width:1.0\"/>\n<circle cx=\"426\" cy=\"212\" r=\"7.0\" style=\"fill:blue;stroke:black;stroke-width:1.0\"/>\n<circle cx=\"42\" cy=\"105\" r=\"7.0\" style=\"fill:red;stroke:black;stroke-width:1.0\"/>\n<circle cx=\"481\" cy=\"192\" r=\"7.0\" style=\"fill:blue;stroke:black;stroke-width:1.0\"/>\n<circle cx=\"382\" cy=\"209\" r=\"7.0\" style=\"fill:blue;stroke:black;stroke-width:1.0\"/>\n<circle cx=\"143\" cy=\"88\" r=\"7.0\" style=\"fill:red;stroke:black;stroke-width:1.0\"/>\n<circle cx=\"291\" cy=\"174\" r=\"7.0\" style=\"fill:blue;stroke:black;stroke-width:1.0\"/>\n<circle cx=\"357\" cy=\"82\" r=\"7.0\" style=\"fill:blue;stroke:black;stroke-width:1.0\"/>\n<circle cx=\"573\" cy=\"86\" r=\"7.0\" style=\"fill:green;stroke:black;stroke-width:1.0\"/>\n<circle cx=\"287\" cy=\"447\" r=\"7.0\" style=\"fill:blue;stroke:black;stroke-width:1.0\"/>\n<circle cx=\"184\" cy=\"230\" r=\"7.0\" style=\"fill:red;stroke:black;stroke-width:1.0\"/>\n<circle cx=\"255\" cy=\"271\" r=\"7.0\" style=\"fill:red;stroke:black;stroke-width:1.0\"/>\n<circle cx=\"541\" cy=\"210\" r=\"7.0\" style=\"fill:green;stroke:black;stroke-width:1.0\"/>\n<circle cx=\"590\" cy=\"167\" r=\"7.0\" style=\"fill:green;stroke:black;stroke-width:1.0\"/>\n<circle cx=\"553\" cy=\"70\" r=\"7.0\" style=\"fill:green;stroke:black;stroke-width:1.0\"/>\n<circle cx=\"463\" cy=\"252\" r=\"7.0\" style=\"fill:green;stroke:black;stroke-width:1.0\"/>\n<circle cx=\"497\" cy=\"75\" r=\"7.0\" style=\"fill:green;stroke:black;stroke-width:1.0\"/>\n<circle cx=\"524\" cy=\"89\" r=\"7.0\" style=\"fill:green;stroke:black;stroke-width:1.0\"/>\n<circle cx=\"128\" cy=\"314\" r=\"7.0\" style=\"fill:red;stroke:black;stroke-width:1.0\"/>\n<circle cx=\"556\" cy=\"27\" r=\"7.0\" style=\"fill:green;stroke:black;stroke-width:1.0\"/>\n<circle cx=\"362\" cy=\"239\" r=\"7.0\" style=\"fill:green;stroke:black;stroke-width:1.0\"/>\n<circle cx=\"346\" cy=\"171\" r=\"7.0\" style=\"fill:blue;stroke:black;stroke-width:1.0\"/>\n<circle cx=\"450\" cy=\"196\" r=\"7.0\" style=\"fill:blue;stroke:black;stroke-width:1.0\"/>\n<circle cx=\"376\" cy=\"139\" r=\"7.0\" style=\"fill:blue;stroke:black;stroke-width:1.0\"/>\n<circle cx=\"409\" cy=\"269\" r=\"7.0\" style=\"fill:green;stroke:black;stroke-width:1.0\"/>\n<circle cx=\"203\" cy=\"224\" r=\"7.0\" style=\"fill:red;stroke:black;stroke-width:1.0\"/>\n<circle cx=\"437\" cy=\"97\" r=\"7.0\" style=\"fill:blue;stroke:black;stroke-width:1.0\"/>\n<circle cx=\"218\" cy=\"314\" r=\"7.0\" style=\"fill:red;stroke:black;stroke-width:1.0\"/>\n<circle cx=\"584\" cy=\"116\" r=\"7.0\" style=\"fill:green;stroke:black;stroke-width:1.0\"/>\n<circle cx=\"211\" cy=\"323\" r=\"7.0\" style=\"fill:red;stroke:black;stroke-width:1.0\"/>\n<circle cx=\"580\" cy=\"97\" r=\"7.0\" style=\"fill:green;stroke:black;stroke-width:1.0\"/>\n<circle cx=\"320\" cy=\"146\" r=\"7.0\" style=\"fill:blue;stroke:black;stroke-width:1.0\"/>\n<circle cx=\"385\" cy=\"224\" r=\"7.0\" style=\"fill:blue;stroke:black;stroke-width:1.0\"/>\n<circle cx=\"186\" cy=\"295\" r=\"7.0\" style=\"fill:red;stroke:black;stroke-width:1.0\"/>\n<circle cx=\"354\" cy=\"143\" r=\"7.0\" style=\"fill:blue;stroke:black;stroke-width:1.0\"/>\n<circle cx=\"57\" cy=\"203\" r=\"7.0\" style=\"fill:red;stroke:black;stroke-width:1.0\"/>\n<circle cx=\"193\" cy=\"241\" r=\"7.0\" style=\"fill:blue;stroke:black;stroke-width:1.0\"/>\n<circle cx=\"323\" cy=\"73\" r=\"7.0\" style=\"fill:blue;stroke:black;stroke-width:1.0\"/>\n<circle cx=\"340\" cy=\"112\" r=\"7.0\" style=\"fill:blue;stroke:black;stroke-width:1.0\"/>\n<circle cx=\"292\" cy=\"255\" r=\"7.0\" style=\"fill:red;stroke:black;stroke-width:1.0\"/>\n<circle cx=\"267\" cy=\"329\" r=\"7.0\" style=\"fill:red;stroke:black;stroke-width:1.0\"/>\n<circle cx=\"329\" cy=\"194\" r=\"7.0\" style=\"fill:blue;stroke:black;stroke-width:1.0\"/>\n<circle cx=\"446\" cy=\"130\" r=\"7.0\" style=\"fill:blue;stroke:black;stroke-width:1.0\"/>\n<circle cx=\"347\" cy=\"71\" r=\"7.0\" style=\"fill:blue;stroke:black;stroke-width:1.0\"/>\n<circle cx=\"300\" cy=\"251\" r=\"7.0\" style=\"fill:red;stroke:black;stroke-width:1.0\"/>\n<circle cx=\"490\" cy=\"274\" r=\"7.0\" style=\"fill:green;stroke:black;stroke-width:1.0\"/>\n<circle cx=\"592\" cy=\"120\" r=\"7.0\" style=\"fill:green;stroke:black;stroke-width:1.0\"/>\n<circle cx=\"351\" cy=\"255\" r=\"7.0\" style=\"fill:blue;stroke:black;stroke-width:1.0\"/>\n<circle cx=\"418\" cy=\"192\" r=\"7.0\" style=\"fill:blue;stroke:black;stroke-width:1.0\"/>\n<circle cx=\"118\" cy=\"116\" r=\"7.0\" style=\"fill:red;stroke:black;stroke-width:1.0\"/>\n<circle cx=\"507\" cy=\"53\" r=\"7.0\" style=\"fill:green;stroke:black;stroke-width:1.0\"/>\n<circle cx=\"83\" cy=\"137\" r=\"7.0\" style=\"fill:red;stroke:black;stroke-width:1.0\"/>\n<circle cx=\"82\" cy=\"91\" r=\"7.0\" style=\"fill:red;stroke:black;stroke-width:1.0\"/>\n<circle cx=\"267\" cy=\"161\" r=\"7.0\" style=\"fill:blue;stroke:black;stroke-width:1.0\"/>\n<circle cx=\"305\" cy=\"48\" r=\"7.0\" style=\"fill:blue;stroke:black;stroke-width:1.0\"/>\n<circle cx=\"342\" cy=\"223\" r=\"7.0\" style=\"fill:green;stroke:black;stroke-width:1.0\"/>\n<circle cx=\"177\" cy=\"245\" r=\"7.0\" style=\"fill:red;stroke:black;stroke-width:1.0\"/>\n<circle cx=\"33\" cy=\"139\" r=\"7.0\" style=\"fill:red;stroke:black;stroke-width:1.0\"/>\n<circle cx=\"229\" cy=\"192\" r=\"7.0\" style=\"fill:blue;stroke:black;stroke-width:1.0\"/>\n<circle cx=\"110\" cy=\"189\" r=\"7.0\" style=\"fill:red;stroke:black;stroke-width:1.0\"/>\n<circle cx=\"117\" cy=\"296\" r=\"7.0\" style=\"fill:red;stroke:black;stroke-width:1.0\"/>\n<circle cx=\"548\" cy=\"147\" r=\"7.0\" style=\"fill:green;stroke:black;stroke-width:1.0\"/>\n<circle cx=\"43\" cy=\"97\" r=\"7.0\" style=\"fill:red;stroke:black;stroke-width:1.0\"/>\n<circle cx=\"91\" cy=\"264\" r=\"7.0\" style=\"fill:red;stroke:black;stroke-width:1.0\"/>\n<circle cx=\"450\" cy=\"329\" r=\"7.0\" style=\"fill:red;stroke:black;stroke-width:1.0\"/>\n<circle cx=\"252\" cy=\"213\" r=\"7.0\" style=\"fill:red;stroke:black;stroke-width:1.0\"/>\n<circle cx=\"345\" cy=\"240\" r=\"7.0\" style=\"fill:blue;stroke:black;stroke-width:1.0\"/>\n<circle cx=\"266\" cy=\"460\" r=\"7.0\" style=\"fill:blue;stroke:black;stroke-width:1.0\"/>\n<circle cx=\"450\" cy=\"271\" r=\"7.0\" style=\"fill:green;stroke:black;stroke-width:1.0\"/>\n<circle cx=\"133\" cy=\"171\" r=\"7.0\" style=\"fill:red;stroke:black;stroke-width:1.0\"/>\n<circle cx=\"462\" cy=\"205\" r=\"7.0\" style=\"fill:blue;stroke:black;stroke-width:1.0\"/>\n<circle cx=\"431\" cy=\"226\" r=\"7.0\" style=\"fill:green;stroke:black;stroke-width:1.0\"/>\n<circle cx=\"380\" cy=\"225\" r=\"7.0\" style=\"fill:green;stroke:black;stroke-width:1.0\"/>\n<circle cx=\"559\" cy=\"62\" r=\"7.0\" style=\"fill:green;stroke:black;stroke-width:1.0\"/>\n<circle cx=\"349\" cy=\"381\" r=\"7.0\" style=\"fill:red;stroke:black;stroke-width:1.0\"/>\n<circle cx=\"238\" cy=\"300\" r=\"7.0\" style=\"fill:red;stroke:black;stroke-width:1.0\"/>\n<circle cx=\"571\" cy=\"57\" r=\"7.0\" style=\"fill:green;stroke:black;stroke-width:1.0\"/>\n<circle cx=\"290\" cy=\"237\" r=\"7.0\" style=\"fill:blue;stroke:black;stroke-width:1.0\"/>\n<circle cx=\"209\" cy=\"98\" r=\"7.0\" style=\"fill:green;stroke:black;stroke-width:1.0\"/>\n<circle cx=\"132\" cy=\"275\" r=\"7.0\" style=\"fill:red;stroke:black;stroke-width:1.0\"/>\n<circle cx=\"369\" cy=\"247\" r=\"7.0\" style=\"fill:green;stroke:black;stroke-width:1.0\"/>\n<circle cx=\"116\" cy=\"155\" r=\"7.0\" style=\"fill:red;stroke:black;stroke-width:1.0\"/>\n<circle cx=\"35\" cy=\"89\" r=\"7.0\" style=\"fill:red;stroke:black;stroke-width:1.0\"/>\n<circle cx=\"524\" cy=\"46\" r=\"7.0\" style=\"fill:green;stroke:black;stroke-width:1.0\"/>\n<circle cx=\"352\" cy=\"61\" r=\"7.0\" style=\"fill:green;stroke:black;stroke-width:1.0\"/>\n<circle cx=\"267\" cy=\"445\" r=\"7.0\" style=\"fill:blue;stroke:black;stroke-width:1.0\"/>\n<circle cx=\"290\" cy=\"267\" r=\"7.0\" style=\"fill:blue;stroke:black;stroke-width:1.0\"/>\n<circle cx=\"383\" cy=\"125\" r=\"7.0\" style=\"fill:blue;stroke:black;stroke-width:1.0\"/>\n</svg>"
          },
          "metadata": {}
        }
      ]
    }
  ]
}